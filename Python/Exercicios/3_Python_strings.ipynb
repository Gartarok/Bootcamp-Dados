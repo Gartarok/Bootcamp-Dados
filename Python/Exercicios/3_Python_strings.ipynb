{
 "cells": [
  {
   "cell_type": "markdown",
   "metadata": {},
   "source": [
    "# Exercícios\n",
    "\n",
    "#### 03. Strings\n",
    "\n",
    "---\n",
    "\n",
    "<img src=\"https://selecao.letscode.com.br/favicon.png\" width=\"40px\" style=\"position: absolute; top: 0px; right: 40px; border-radius: 5px;\" />"
   ]
  },
  {
   "cell_type": "markdown",
   "metadata": {},
   "source": [
    "### Para entregar! 🔥"
   ]
  },
  {
   "cell_type": "markdown",
   "metadata": {},
   "source": [
    "**01. Faça um programa que recebe uma string e gera uma nova string que é uma cópia da original, mas alterne entre letras maiúsculas e minúsculas.**\n",
    "\n",
    "*Exemplo: se o usuário digitar \"latex\" o programa deve imprimir \"LaTeX\".*"
   ]
  },
  {
   "cell_type": "code",
   "execution_count": 16,
   "metadata": {},
   "outputs": [
    {
     "name": "stdout",
     "output_type": "stream",
     "text": [
      "Digite a palavra: latex\n",
      "LaTeX\n"
     ]
    }
   ],
   "source": [
    "palavra = input('Digite a palavra: ')\n",
    "palavra = palavra.lower()\n",
    "lista_palavra=[i for i in palavra]\n",
    "novo=[]\n",
    "for i in lista_palavra:\n",
    "    if lista_palavra.index(i)%2==0:\n",
    "        novo.append(i.upper())\n",
    "    else:\n",
    "        novo.append(i.lower())\n",
    "\n",
    "palavra_final = ''.join(novo)\n",
    "print(palavra_final)"
   ]
  },
  {
   "cell_type": "markdown",
   "metadata": {},
   "source": [
    "**02. Faça uma função que receba uma string que contém tanto números quanto letras e caracteres especiais, e que separe as letras em uma variável e os números em outra (os caracteres especiais podem ser descartados). Ao final a função deve imprimir as duas variáveis.**"
   ]
  },
  {
   "cell_type": "code",
   "execution_count": 31,
   "metadata": {},
   "outputs": [
    {
     "name": "stdout",
     "output_type": "stream",
     "text": [
      "As letras são ['C', 'a', 's', 'a', 'W', 'u', 'p', 'e', 'r', 't', 'a', 'l']\n",
      "Os número são ['1', '2', '3', '1', '2', '3', '4', '5', '6']\n"
     ]
    }
   ],
   "source": [
    "palavra = \"Casa!123@123456Wupertal !@#$%\"\n",
    "palavra_separada = [i for i in palavra]\n",
    "palavra_separada_ascii = [ord(i) for i in palavra_separada]\n",
    "\n",
    "lista_letras = []\n",
    "lista_numeros = []\n",
    "lista_lixo = []\n",
    "\n",
    "for i in palavra_separada_ascii:\n",
    "    if i>=48 and i<=57:\n",
    "        lista_numeros.append(i)\n",
    "    elif (i>=65 and i<=90) or (i>=97 and i<=122):\n",
    "        lista_letras.append(i)\n",
    "    else:\n",
    "        lista_lixo.append(i)\n",
    "\n",
    "letras = [chr(i) for i in lista_letras]\n",
    "numeros = [chr(i) for i in lista_numeros]\n",
    "\n",
    "print(f'As letras são {letras}')\n",
    "print(f'Os número são {numeros}')\n"
   ]
  },
  {
   "cell_type": "markdown",
   "metadata": {},
   "source": [
    "**03. Faça um programa que criptografa uma mensagem substituindo cada letra pela letra oposta do dicionário:**\n",
    "\n",
    "```\n",
    "'a' por 'z'  \n",
    "'b' por 'y'  \n",
    "'c' por 'x'  \n",
    "...\n",
    "```"
   ]
  },
  {
   "cell_type": "code",
   "execution_count": 51,
   "metadata": {},
   "outputs": [
    {
     "name": "stdout",
     "output_type": "stream",
     "text": [
      "A palavra orignal é         carvalho\n",
      "A palavra criptografada é   xziezosl\n"
     ]
    }
   ],
   "source": [
    "#Supondo apenas letras minusculas\n",
    "122-97\n",
    "palavra = 'carvalho'\n",
    "palavra_separada = [ord(i) for i in palavra]\n",
    "\n",
    "#for i in palavra_separada:\n",
    "palavra_nova =[]\n",
    "for i in palavra_separada:\n",
    "    if i>=97 and i<110:\n",
    "        palavra_nova.append(122-(i-97))\n",
    "    elif i>100 and i<=122:\n",
    "        palavra_nova.append((122-i)+97)\n",
    "    else:\n",
    "        palavra_nova.append(i)\n",
    "\n",
    "palavra_n = [chr(i) for i in palavra_nova]\n",
    "palavra_n = ''.join(palavra_n)\n",
    "\n",
    "print(f'A palavra orignal é         {palavra}')\n",
    "print(f'A palavra criptografada é   {palavra_n}')"
   ]
  },
  {
   "cell_type": "markdown",
   "metadata": {},
   "source": [
    "---\n",
    "\n",
    "### Para evoluir! 🚀"
   ]
  },
  {
   "cell_type": "markdown",
   "metadata": {},
   "source": [
    "**01. Faça um programa que peça para o usuário digitar uma palavra e imprima cada letra em uma linha.**"
   ]
  },
  {
   "cell_type": "code",
   "execution_count": null,
   "metadata": {},
   "outputs": [],
   "source": []
  },
  {
   "cell_type": "markdown",
   "metadata": {},
   "source": [
    "**02. Faça um programa que pede para o usuário digitar uma palavra e cria uma nova string igual, copiando letra por letra a palavra digitada, depois imprima a nova string.**"
   ]
  },
  {
   "cell_type": "code",
   "execution_count": null,
   "metadata": {},
   "outputs": [],
   "source": []
  },
  {
   "cell_type": "markdown",
   "metadata": {},
   "source": [
    "**03. Faça um programa que pede para o usuário digitar uma palavra e cria uma nova string igual, porém com espaço entre cada letra, depois imprima a nova string:**\n",
    "\n",
    "Exemplo: se o usuário digitar \"python\" o programa deve imprimir \"p y t h o n \""
   ]
  },
  {
   "cell_type": "code",
   "execution_count": null,
   "metadata": {},
   "outputs": [],
   "source": []
  },
  {
   "cell_type": "markdown",
   "metadata": {},
   "source": [
    "**04. Faça um programa que receba uma string e retorne uma nova string substituindo:**\n",
    "\n",
    "```\n",
    "'a' por '4'\n",
    "'e' por '3'\n",
    "'I' por '1'\n",
    "'t' por '7'\n",
    "```"
   ]
  },
  {
   "cell_type": "code",
   "execution_count": null,
   "metadata": {},
   "outputs": [],
   "source": []
  },
  {
   "cell_type": "markdown",
   "metadata": {},
   "source": [
    "**05. Faça uma função que recebe uma string e retorna ela ao contrário.**\n",
    "\n",
    "Exemplo: Recebe \"teste\" e retorna \"etset\"."
   ]
  },
  {
   "cell_type": "code",
   "execution_count": null,
   "metadata": {},
   "outputs": [],
   "source": []
  },
  {
   "cell_type": "markdown",
   "metadata": {},
   "source": [
    "**06. Agora faça um programa que recebe uma palavra e diz se ela é um palíndromo, ou seja, se ela é igual a ela mesma ao contrário.**"
   ]
  },
  {
   "cell_type": "code",
   "execution_count": null,
   "metadata": {},
   "outputs": [],
   "source": []
  },
  {
   "cell_type": "markdown",
   "metadata": {},
   "source": [
    "**07. Faça um programa que receba um texto e uma palavra, então verifique se a palavra está no texto, retornando True ou False.**"
   ]
  },
  {
   "cell_type": "code",
   "execution_count": null,
   "metadata": {},
   "outputs": [],
   "source": []
  },
  {
   "cell_type": "markdown",
   "metadata": {},
   "source": [
    "**08. Faça uma função que receba uma string e uma letra e:**\n",
    "\n",
    "a. imprima quantas vezes a letra aparece na string;  \n",
    "b. imprima todas as posições em que a letra aparece na string;  \n",
    "c. retorne a distância entre a primeira e a última aparição dessa letra na string.  "
   ]
  },
  {
   "cell_type": "code",
   "execution_count": null,
   "metadata": {},
   "outputs": [],
   "source": []
  }
 ],
 "metadata": {
  "kernelspec": {
   "display_name": "Python 3",
   "language": "python",
   "name": "python3"
  },
  "language_info": {
   "codemirror_mode": {
    "name": "ipython",
    "version": 3
   },
   "file_extension": ".py",
   "mimetype": "text/x-python",
   "name": "python",
   "nbconvert_exporter": "python",
   "pygments_lexer": "ipython3",
   "version": "3.8.8"
  }
 },
 "nbformat": 4,
 "nbformat_minor": 2
}
