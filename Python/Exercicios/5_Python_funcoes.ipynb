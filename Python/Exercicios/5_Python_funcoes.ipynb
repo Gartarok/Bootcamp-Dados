{
 "cells": [
  {
   "cell_type": "markdown",
   "metadata": {},
   "source": [
    "# Exercícios\n",
    "\n",
    "#### 05. Funções\n",
    "\n",
    "---\n",
    "\n",
    "<img src=\"https://selecao.letscode.com.br/favicon.png\" width=\"40px\" style=\"position: absolute; top: 0px; right: 40px; border-radius: 5px;\" />"
   ]
  },
  {
   "cell_type": "markdown",
   "metadata": {},
   "source": [
    "### Para entregar! 🔥"
   ]
  },
  {
   "cell_type": "markdown",
   "metadata": {},
   "source": [
    "**01. Faça uma função que recebe duas entradas: um input dado pelo usuário e um string que informa o tipo de dado (\"idade\", \"salário\" ou \"sexo\"), e verifica se os dados digitados foram válidos, usando os seguintes critérios:**\n",
    "\n",
    "a. Idade: entre 0 e 150;  \n",
    "b. Salário: maior que 0;  \n",
    "c. Sexo: M, F ou Outro."
   ]
  },
  {
   "cell_type": "code",
   "execution_count": 5,
   "metadata": {},
   "outputs": [],
   "source": [
    "def dados(valor,tipo):\n",
    "    if tipo == 'idade':\n",
    "        if valor>0 and valor<150:\n",
    "            print('Dado válido!')\n",
    "        else:\n",
    "            print('Dado inválido!')\n",
    "    elif tipo == 'salario':\n",
    "        if salario>0:\n",
    "            print('Dado válido!')\n",
    "        else:\n",
    "            print('Dado inválido!')\n",
    "    elif tipo == 'sexo':\n",
    "        if valor=='M' or valor=='F' or valor=='Outro':\n",
    "            print('Dado válido!')\n",
    "        else:\n",
    "            print('Dado inválido!')\n",
    "    else:\n",
    "        print('tipo invalido')"
   ]
  },
  {
   "cell_type": "code",
   "execution_count": 8,
   "metadata": {},
   "outputs": [
    {
     "name": "stdout",
     "output_type": "stream",
     "text": [
      "Dado inválido!\n"
     ]
    }
   ],
   "source": [
    "dados(1500,'idade')"
   ]
  },
  {
   "cell_type": "markdown",
   "metadata": {},
   "source": [
    "**02. Faça um sistema de cadastro de clientes. Modele cada cliente como uma lista de três elementos: nome, CPF e e-mail.**\n",
    "\n",
    "a. Faça uma função que peça o nome, o CPF e o e-mail da pessoa e retorne uma lista contendo esses elementos nessa ordem.  \n",
    "b. Os clientes cadastrados devem ser armazenados em uma lista (uma lista de listas, já que cada cliente será uma lista tal como produzido no item a).  \n",
    "c. Faça uma função que recebe a lista do item b) e um CPF e, se esse cliente estiver na lista de cadastro, sua função deve devolver a lista de dados desse cliente; caso contrário, sua função deve imprimir “não encontrado”.  \n",
    "d. Enquanto não for digitado 0, o seu programa deve continuar rodando. Se digitado 1, seu programa deve cadastrar um novo cliente; se digitado 2, seu programa deve pedir um CPF e procurá-lo na lista de clientes (item c); se digitado 3, seu programa deve imprimir todos os clientes cadastrados."
   ]
  },
  {
   "cell_type": "code",
   "execution_count": 18,
   "metadata": {},
   "outputs": [],
   "source": [
    "#Lista iniciada fora para persistir\n",
    "lista_clientes=[]"
   ]
  },
  {
   "cell_type": "code",
   "execution_count": 19,
   "metadata": {},
   "outputs": [],
   "source": [
    "#Função cadastro\n",
    "def cadastro():\n",
    "    nome = input('Digite o nome: ')\n",
    "    cpf = input('Digite o cpf: ')\n",
    "    email = input('Digite o email: ')\n",
    "    lista_cadastro=[nome,cpf,email]\n",
    "    lista_clientes.append(lista_cadastro)\n",
    "\n",
    "#Função procurar\n",
    "def procurar(lista_de_listas,CPF):\n",
    "    lista_correta=[]\n",
    "    for i in lista_de_listas:\n",
    "        if CPF in i:\n",
    "            lista_correta = i\n",
    "            \n",
    "    if len(lista_correta) == 0:\n",
    "        print('CPF não encontrado!')\n",
    "    else:\n",
    "        print(lista_correta)"
   ]
  },
  {
   "cell_type": "code",
   "execution_count": 20,
   "metadata": {},
   "outputs": [
    {
     "name": "stdout",
     "output_type": "stream",
     "text": [
      "\n",
      "0.Fechar Programa\n",
      "1.Cadastrar novo\n",
      "2.Procurar CPF\n",
      "3.Listar todos\n",
      "\n",
      "Digite uma opção: 0\n",
      "\n",
      "Programa encerrado!\n"
     ]
    }
   ],
   "source": [
    "#Main\n",
    "comando='1'\n",
    "while comando != '0':\n",
    "    print('\\n0.Fechar Programa\\n1.Cadastrar novo\\n2.Procurar CPF\\n3.Listar todos\\n')\n",
    "    comando = input('Digite uma opção: ')\n",
    "    if comando=='0':\n",
    "        print('\\nPrograma encerrado!')\n",
    "    elif comando=='1':\n",
    "        print('\\nCadastro de novo cliente')\n",
    "        cadastro()\n",
    "    elif comando=='2':\n",
    "        print('\\nProcurar por CPF')\n",
    "        CPF=input('Digite o CPF: ')\n",
    "        procurar(lista_clientes,CPF)\n",
    "    elif comando=='3':\n",
    "        print('\\nImprimir todos os contatos')\n",
    "        print(lista_clientes)\n",
    "    else:\n",
    "        print('\\nDigite uma opção válida!')"
   ]
  },
  {
   "cell_type": "markdown",
   "metadata": {},
   "source": [
    "**03. Faça um jogo de BlackJack usando funções: o BlackJack, ou Vinte e Um, é um jogo em que os jogadores podem comprar cartas livremente, enquanto tiverem menos de 21 pontos. No nosso jogo, o Ás vale um ponto; as cartas de 2 a 10 valem o número de pontos que elas representam; e Valete, Dama e Rei valem 10 pontos cada. Ganha o jogador que tiver o maior número de pontos, desde que este seja menor ou igual a 21. Nosso jogo deve ter as seguintes funções:**\n",
    "\n",
    "a. Função principal: a função que vamos chamar para iniciar o jogo. Essa função não irá receber nem retornar nenhuma variável. Ela deve perguntar o número de jogadores participantes e o nome de cada um. Em seguida ela chama as outras funções do jogo.  \n",
    "b. Função para criar o baralho: essa função deve criar um baralho (uma lista) com as cartas do baralho.  \n",
    "c. Função para a jogada: essa função deve receber o nome do jogador que irá realizar a jogada e, caso ele ainda esteja ativo (tenha menos de 21 pontos e ainda não tenha desistido de comprar cartas) deve perguntar se ele quer comprar uma carta. Se ele responder que sim, a função deve chamar a próxima função para sortear uma carta e somar o valor retornado na pontuação do jogador; se ele responder que não, a função deve desativar o jogador para que ele não possa mais comprar cartas; Essa função só deve ser chamada enquanto houver jogadores ativos.   \n",
    "d. Função para o sorteio: essa função retira uma carta aleatória do baralho e retorna o número de pontos que essa carta vale.  \n",
    "e. Função verificação: verifica e indica qual/quais jogador/jogadores tem o maior número de pontos, que seja menor ou igual a 21."
   ]
  },
  {
   "cell_type": "code",
   "execution_count": 1,
   "metadata": {},
   "outputs": [
    {
     "name": "stdout",
     "output_type": "stream",
     "text": [
      "Quantos jogadores? 2\n",
      "Nome do jogador 1: Walls\n",
      "Nome do jogador 2: Furlan\n",
      "\n",
      "Turno do jogador(a): Walls\n",
      "\n",
      "1.Comprar 2.Parar\n",
      "Digite o comando: 1\n",
      "\n",
      "Você comprou um 8\n",
      "8\n",
      "Sua mão vale 8\n",
      "\n",
      "1.Comprar 2.Parar\n",
      "Digite o comando: 1\n",
      "\n",
      "Você comprou um 10\n",
      "10\n",
      "Sua mão vale 18\n",
      "\n",
      "1.Comprar 2.Parar\n",
      "Digite o comando: 2\n",
      "Sua mão final é 18\n",
      "\n",
      "Turno do jogador(a): Furlan\n",
      "\n",
      "1.Comprar 2.Parar\n",
      "Digite o comando: 1\n",
      "\n",
      "Você comprou um 5\n",
      "5\n",
      "Sua mão vale 5\n",
      "\n",
      "1.Comprar 2.Parar\n",
      "Digite o comando: 1\n",
      "\n",
      "Você comprou um 9\n",
      "9\n",
      "Sua mão vale 14\n",
      "\n",
      "1.Comprar 2.Parar\n",
      "Digite o comando: 1\n",
      "\n",
      "Você comprou um 10\n",
      "10\n",
      "Sua mão vale 24\n",
      "\n",
      "1.Comprar 2.Parar\n",
      "Digite o comando: 2\n",
      "Você perdeu o jogo!\n",
      "\n",
      "Final do jogo!\n",
      "\n",
      "O ganhador foi Walls\n"
     ]
    }
   ],
   "source": [
    "import random\n",
    "\n",
    "#Função para definir os jogadores\n",
    "def jogadores():\n",
    "    numero_de_jogadores = int(input('Quantos jogadores? '))\n",
    "    maos_jogadores = {}\n",
    "    jogadores = [(input(f'Nome do jogador {i+1}: ')) for i in range(numero_de_jogadores)]\n",
    "    for i in jogadores:\n",
    "        maos_jogadores[i]=[]\n",
    "    return(maos_jogadores)\n",
    "\n",
    "#Função para comprar cartas\n",
    "def comprar_carta():\n",
    "    carta = (random.randint(0, len(baralho)))\n",
    "    print(f'\\nVocê comprou um {baralho[carta]}')\n",
    "    adicional = (baralho[carta])\n",
    "    baralho.pop(carta)\n",
    "    return adicional\n",
    "\n",
    "#Função de definir o baralho\n",
    "def baralho():\n",
    "    baralho = [i+1 for i in range(10)]*4\n",
    "    [baralho.append(10) for i in range(12)]\n",
    "    return baralho\n",
    "\n",
    "#Definir o vencedor\n",
    "def vencedor():\n",
    "    #Excluir os perdedores \n",
    "    chance_ganhar=[]\n",
    "    for i in mao_jogadores:\n",
    "        if sum(mao_jogadores[i])<=21:\n",
    "            chance_ganhar.append(i)\n",
    "\n",
    "    #Selecionar os vencedores\n",
    "    valores_ganhador=[]\n",
    "    for i in chance_ganhar:\n",
    "        valores_ganhador.append(sum(mao_jogadores[i]))\n",
    "    \n",
    "    ganhadores=[]\n",
    "    for i in chance_ganhar:\n",
    "        if sum(mao_jogadores[i]) == max(valores_ganhador):\n",
    "            ganhadores.append(i)\n",
    "    \n",
    "    if len(ganhadores)==1:\n",
    "        print(f'O ganhador foi {ganhadores[0]}')\n",
    "    else:\n",
    "        print(f'Os ganahadores foram {ganhadores}')\n",
    "        \n",
    "\n",
    "#    indice_vencedor= ganhador.index(max(ganhador))\n",
    "#    print(f'O vencedor é {chance_ganhar[indice_vencedor]}')\n",
    "\n",
    "\n",
    "\n",
    "#Chamada das funções\n",
    "baralho = baralho()\n",
    "mao_jogadores=jogadores()\n",
    "\n",
    "#Main\n",
    "for i in mao_jogadores:\n",
    "    comando = '1'  \n",
    "    print(f'\\nTurno do jogador(a): {i}')\n",
    "    while comando !='2':\n",
    "        print('\\n1.Comprar 2.Parar')\n",
    "        comando = input('Digite o comando: ')\n",
    "        if sum(mao_jogadores[i]) == 21:\n",
    "            print('Você chegou no valor máximo do jogo!')\n",
    "            comando = '2'\n",
    "        elif sum(mao_jogadores[i]) >21:\n",
    "            print('Você perdeu o jogo!')\n",
    "            comando = '2'\n",
    "        elif comando == '1':\n",
    "            carta = comprar_carta()\n",
    "            print(carta)\n",
    "            mao_jogadores[i].append(carta)\n",
    "            print(f'Sua mão vale {sum(mao_jogadores[i])}')\n",
    "        elif comando == '2':\n",
    "            print(f'Sua mão final é {sum(mao_jogadores[i])}')\n",
    "        else:\n",
    "            print('Digite algo válido!')\n",
    "\n",
    "#Final dos turnos!\n",
    "print('\\nFinal do jogo!\\n')\n",
    "\n",
    "vencedor()\n",
    "        "
   ]
  },
  {
   "cell_type": "markdown",
   "metadata": {},
   "source": [
    "**04. Desenvolva uma função recursiva que calcule e mostre o maior elemento de um array de tamanho N. Os elementos consistem em números inteiros.**"
   ]
  },
  {
   "cell_type": "code",
   "execution_count": 8,
   "metadata": {},
   "outputs": [],
   "source": [
    "def corroer(alfa): \n",
    "    #remover sublistas vazias, caso existam\n",
    "    for i in alfa:\n",
    "        if [] in alfa:\n",
    "            alfa.remove([])\n",
    "    \n",
    "    #Lista que vai avaliar se as sublistas são unitárias\n",
    "    unitarios=[]\n",
    "    for i in alfa:\n",
    "        if len(i)==1:\n",
    "            unitarios.append(1)\n",
    "            \n",
    "    #Caso onde todas as listas tem apenas 1 item\n",
    "    if sum(unitarios)==len(alfa) and len(alfa)>1:\n",
    "        if alfa[0]>=alfa[1]:\n",
    "            alfa.remove(alfa[1])\n",
    "            corroer(alfa)\n",
    "        else:\n",
    "            alfa.remove(alfa[0])\n",
    "            corroer(alfa)\n",
    "    \n",
    "    #Caso Final\n",
    "    elif len(alfa)==1 and len(alfa[0])==1:\n",
    "        print(f'O maior número do array é {alfa[0][0]}')\n",
    "    \n",
    "    #comparar e remover dentro das sublistas\n",
    "    else:       \n",
    "        for i in range(len(alfa)):\n",
    "            if len(alfa[i])>1:\n",
    "                if alfa[i][0]>=alfa[i][1]:\n",
    "                    alfa[i].remove(alfa[i][1])\n",
    "                    corroer(alfa)\n",
    "                else:\n",
    "                    alfa[i].remove(alfa[i][0])\n",
    "                    corroer(alfa)"
   ]
  },
  {
   "cell_type": "code",
   "execution_count": 9,
   "metadata": {},
   "outputs": [
    {
     "name": "stdout",
     "output_type": "stream",
     "text": [
      "O maior número do array é 777\n",
      "\n",
      "Tudo está funcionando!\n"
     ]
    }
   ],
   "source": [
    "alfa=[[2],[],[4,2,99],[31,12,0],[],[1,777,12],[1,100],[41]]\n",
    "\n",
    "try:\n",
    "    corroer(alfa)\n",
    "except:\n",
    "    print(\"\\nTudo está funcionando!\")"
   ]
  },
  {
   "cell_type": "markdown",
   "metadata": {},
   "source": [
    "#### Super Dígito 🤔\n",
    "\n",
    "O super dígito de um número inteiro *x* é obtido da seguinte forma:\n",
    "\n",
    "- Se *x* é composto por apenas um dígito, então, esse dígito é o super dígito de x.\n",
    "- Do contrário, o super dígito de *x* é igual ao super dígito da soma dos dígitos de x.\n",
    "\n",
    "Perceba que, enquanto não chegarmos a um número composto por apenas **um dígito**, ainda não encontramos o super dígito de *x*.\n",
    "\n",
    "Por exemplificar, o super dígito de 9875 é:\n",
    "\n",
    "```python\n",
    "super_digit(9875) = 9 + 8 + 7 + 5 = 29\n",
    "super_digit(29)   = 2 + 9 = 11\n",
    "super_digit(11)   = 1 + 1 = 2\n",
    "super_digit(2)    = 2\n",
    "```\n",
    "\n",
    "Portanto, no exemplo acima, se *x* for igual a 9875, o seu super dígito é igual a 2, pois calculamos o super dígito da soma dos seus dígitos, até que o resultado fosse apenas um número de apenas **um dígito**.\n",
    "\n",
    "Sabendo disso, o seu desafio é o seguinte:\n",
    "\n",
    "- você irá receber dois números do usuário, *n* e *k*. A partir desses dois números, você formará um novo número *p*, que será a concatenação no número *n*, *k* vezes. Por exemplo, se *n = 9875* e *k = 4*, *p = 9875 9875 9875 9875*; ou seja *p* é 9875, 4 vezes.\n",
    "\n",
    "- Sabendo o valor de *p*, **calcule o seu super dígito por meio de uma função recursiva**.\n",
    "\n",
    "Exemplo de entrada ||| Exemplo de saída\n",
    "------------------ ||| ----------------\n",
    "148 3              ||| 3\n",
    "9875 4             ||| 8\n",
    "123 3              ||| 9"
   ]
  },
  {
   "cell_type": "code",
   "execution_count": 30,
   "metadata": {},
   "outputs": [],
   "source": [
    "def super_numero(lista):\n",
    "    lista = [int(i) for i in lista] \n",
    "    final = sum(lista)\n",
    "    if final<10:\n",
    "        print(f'O super digito é {final}')\n",
    "    else:\n",
    "        lista = str(final)\n",
    "        return super_numero(lista)"
   ]
  },
  {
   "cell_type": "code",
   "execution_count": 31,
   "metadata": {},
   "outputs": [
    {
     "name": "stdout",
     "output_type": "stream",
     "text": [
      "O super digito é 3\n"
     ]
    }
   ],
   "source": [
    "#Entradas\n",
    "n='148'\n",
    "k=3\n",
    "p=n*k\n",
    "#Execução da Função\n",
    "super_numero(p)"
   ]
  },
  {
   "cell_type": "markdown",
   "metadata": {},
   "source": [
    "---\n",
    "\n",
    "### Para evoluir! 🚀"
   ]
  },
  {
   "cell_type": "markdown",
   "metadata": {},
   "source": [
    "**01. Faça uma função que recebe um número e imprime seu dobro.**"
   ]
  },
  {
   "cell_type": "code",
   "execution_count": 32,
   "metadata": {},
   "outputs": [
    {
     "name": "stdout",
     "output_type": "stream",
     "text": [
      "4\n"
     ]
    }
   ],
   "source": [
    "def dobro(numero):\n",
    "    print(2*numero)\n",
    "    \n",
    "dobro(2)"
   ]
  },
  {
   "cell_type": "markdown",
   "metadata": {},
   "source": [
    "**02. Faça uma função que recebe o valor do raio de um círculo e retorna o valor do comprimento de sua circunferência.**\n",
    "\n",
    "$$\n",
    "C = 2*pi*r\n",
    "$$"
   ]
  },
  {
   "cell_type": "code",
   "execution_count": 33,
   "metadata": {},
   "outputs": [
    {
     "name": "stdout",
     "output_type": "stream",
     "text": [
      "12.5652 unidades de área\n"
     ]
    }
   ],
   "source": [
    "def circ(r):\n",
    "    circunferencia = 2 * 3.1413 * r\n",
    "    print(f'{circunferencia} unidades de área')\n",
    "\n",
    "circ(2)"
   ]
  },
  {
   "cell_type": "markdown",
   "metadata": {},
   "source": [
    "**03. Faça uma função para cada operação matemática básica (soma, subtração, multiplicação e divisão). As funções devem receber dois números e retornar o resultado da operação.**"
   ]
  },
  {
   "cell_type": "code",
   "execution_count": 35,
   "metadata": {},
   "outputs": [
    {
     "data": {
      "text/plain": [
       "48"
      ]
     },
     "execution_count": 35,
     "metadata": {},
     "output_type": "execute_result"
    }
   ],
   "source": [
    "def soma(numero1,numero2):\n",
    "    return (numero1+numero2)\n",
    "def subt(numero1,numero2):\n",
    "    return (numero1-numero2)\n",
    "def mult(numero1,numero2):\n",
    "    return (numero1*numero2)\n",
    "def divi(numero1,numero2):\n",
    "    return (numero1/numero2)\n",
    "    \n",
    "mult(8,6)"
   ]
  },
  {
   "cell_type": "markdown",
   "metadata": {},
   "source": [
    "**04. Faça uma função que recebe um nome e imprime “olá, [nome]”.**"
   ]
  },
  {
   "cell_type": "code",
   "execution_count": 36,
   "metadata": {},
   "outputs": [
    {
     "name": "stdout",
     "output_type": "stream",
     "text": [
      "olá, walls\n"
     ]
    }
   ],
   "source": [
    "def apresentar(nome):\n",
    "    print(f'olá, {nome}')\n",
    "\n",
    "apresentar('walls')"
   ]
  },
  {
   "cell_type": "markdown",
   "metadata": {},
   "source": [
    "**05. Faça uma função que recebe um nome e um horário e imprime “Bom dia, [nome]”, caso seja antes de 12h, “Boa Tarde, [nome]”, caso seja entre 12h e 18h e “Boa noite, [nome]” se for após às 18h.**"
   ]
  },
  {
   "cell_type": "code",
   "execution_count": 228,
   "metadata": {},
   "outputs": [
    {
     "name": "stdout",
     "output_type": "stream",
     "text": [
      "Boa noite, Walls!\n"
     ]
    }
   ],
   "source": [
    "def saudacao(nome, hora):\n",
    "    if hora>=0 and hora<12:\n",
    "        print(f'Bom dia, {nome}!')\n",
    "    elif hora>=12 and hora<18:\n",
    "        print(f'Boa tarde, {nome}!')\n",
    "    elif hora>=18 and hora<24:\n",
    "        print(f'Boa noite, {nome}!')\n",
    "    else:\n",
    "        print('Horário inválido')\n",
    "\n",
    "saudacao('Walls',19)"
   ]
  },
  {
   "cell_type": "markdown",
   "metadata": {},
   "source": [
    "**06. Faça uma função que recebe um número e retorna True se ele é par ou False, se ele é ímpar.**"
   ]
  },
  {
   "cell_type": "code",
   "execution_count": 183,
   "metadata": {},
   "outputs": [
    {
     "data": {
      "text/plain": [
       "True"
      ]
     },
     "execution_count": 183,
     "metadata": {},
     "output_type": "execute_result"
    }
   ],
   "source": [
    "def definir(numero):\n",
    "    if numero%2==0:\n",
    "        return True\n",
    "    else:\n",
    "        return False\n",
    "\n",
    "definir(2)"
   ]
  },
  {
   "cell_type": "markdown",
   "metadata": {},
   "source": [
    "**07. Faça uma função que sorteia 10 números aleatórios entre 0 e 100 e retorna o maior entre eles.**"
   ]
  },
  {
   "cell_type": "code",
   "execution_count": 187,
   "metadata": {},
   "outputs": [
    {
     "name": "stdout",
     "output_type": "stream",
     "text": [
      "A lista sorteada é [65, 21, 81, 3, 82, 28, 82, 73, 90, 6]\n",
      "90\n"
     ]
    }
   ],
   "source": [
    "def aleatorio():\n",
    "    import random\n",
    "    lista = [(random.randint(0, 100)) for i in range(10)]\n",
    "    print(f'A lista sorteada é {lista}')\n",
    "    print(max(lista))\n",
    "\n",
    "aleatorio()"
   ]
  },
  {
   "cell_type": "markdown",
   "metadata": {},
   "source": [
    "**08. aça uma função que recebe um número n de entrada, sorteia n números aleatórios entre 0 e 100 e retorna a média deles.**"
   ]
  },
  {
   "cell_type": "code",
   "execution_count": 197,
   "metadata": {},
   "outputs": [
    {
     "name": "stdout",
     "output_type": "stream",
     "text": [
      "A lista sorteada é [92, 57, 22, 56, 17, 0, 17]\n",
      "A média dos número é 37.29\n"
     ]
    }
   ],
   "source": [
    "def aleatorio(n):\n",
    "    import random\n",
    "    lista = [(random.randint(0, 100)) for i in range(n)]\n",
    "    print(f'A lista sorteada é {lista}')\n",
    "    print(f'A média da lista é {round(sum(lista)/len(lista),2)}')\n",
    "\n",
    "aleatorio(7)"
   ]
  },
  {
   "cell_type": "markdown",
   "metadata": {},
   "source": [
    "**09. Faça uma função que recebe uma lista de palavras e retorna uma lista contendo as mesmas palavras da lista anterior, porém escritas em caixa alta.**"
   ]
  },
  {
   "cell_type": "code",
   "execution_count": 212,
   "metadata": {},
   "outputs": [
    {
     "name": "stdout",
     "output_type": "stream",
     "text": [
      "['ALTO', 'BAIXO', 'MEDIO']\n"
     ]
    }
   ],
   "source": [
    "def caixa_alta(lista):\n",
    "    caixa = [palavra.upper() for palavra in lista]\n",
    "    print(caixa)\n",
    "    \n",
    "caixa_alta(['alto','baixo','medio'])"
   ]
  },
  {
   "cell_type": "markdown",
   "metadata": {},
   "source": [
    "**10. Faça uma função que recebe duas listas e retorna a soma item a item dessas listas.**\n",
    "\n",
    "_Exemplo: Se a função receber as listas [1,4,3] e [3,5,1], então a função deve retornar [1+3, 4+5, 3+1] = [4, 9, 4]._"
   ]
  },
  {
   "cell_type": "code",
   "execution_count": 201,
   "metadata": {},
   "outputs": [
    {
     "name": "stdout",
     "output_type": "stream",
     "text": [
      "A soma das listas resulta em:\n",
      "[4, 9, 4]\n"
     ]
    }
   ],
   "source": [
    "def soma_lista(lista1,lista2):\n",
    "    lista3=[]\n",
    "    for i in range(len(lista1)):\n",
    "        soma=lista1[i]+lista2[i]\n",
    "        lista3.append(soma)\n",
    "        \n",
    "    print('A soma das listas resulta em:')\n",
    "    print(lista3)\n",
    "        \n",
    "soma_lista([1,4,3],[3,5,1])"
   ]
  },
  {
   "cell_type": "markdown",
   "metadata": {},
   "source": [
    "**11. Faça uma função que receba duas listas e retorne o produto item a item dessas listas.**\n",
    "\n",
    "_Exemplo: Se a função receber as listas [1,4,3] e [3,5,1], então a função deve retornar [1x3, 4x5, 3x1] = [3, 20, 3]._"
   ]
  },
  {
   "cell_type": "code",
   "execution_count": 202,
   "metadata": {},
   "outputs": [
    {
     "name": "stdout",
     "output_type": "stream",
     "text": [
      "A soma das listas resulta em:\n",
      "[3, 20, 3]\n"
     ]
    }
   ],
   "source": [
    "def mult_lista(lista1,lista2):\n",
    "    lista3=[]\n",
    "    for i in range(len(lista1)):\n",
    "        mult=lista1[i]*lista2[i]\n",
    "        lista3.append(mult)\n",
    "        \n",
    "    print('A soma das listas resulta em:')\n",
    "    print(lista3)\n",
    "        \n",
    "mult_lista([1,4,3],[3,5,1])"
   ]
  },
  {
   "cell_type": "markdown",
   "metadata": {},
   "source": [
    "**12. Faça uma função que recebe um número x e uma lista numérica e retorna uma lista cujos elementos são os itens da lista de entrada multiplicado por x.**\n",
    "\n",
    "_Exemplo: Se a função receber o número 5 e a lista [3,5,1], então a função deve retornar [5x3, 5x5, 5x1] = [15, 25, 5]._"
   ]
  },
  {
   "cell_type": "code",
   "execution_count": 205,
   "metadata": {},
   "outputs": [
    {
     "name": "stdout",
     "output_type": "stream",
     "text": [
      "A soma das listas resulta em:\n"
     ]
    },
    {
     "data": {
      "text/plain": [
       "[15, 25, 5]"
      ]
     },
     "execution_count": 205,
     "metadata": {},
     "output_type": "execute_result"
    }
   ],
   "source": [
    "def mult_lista(lista1,numero):\n",
    "    lista3=[]\n",
    "    for i in range(len(lista1)):\n",
    "        mult=lista1[i]*numero\n",
    "        lista3.append(mult)\n",
    "        \n",
    "    print('A soma das listas resulta em:')\n",
    "    return lista3\n",
    "        \n",
    "mult_lista([3,5,1],5)"
   ]
  },
  {
   "cell_type": "markdown",
   "metadata": {},
   "source": [
    "**13. Faça uma função que recebe uma lista de números e retorna a soma dos elementos dessa lista.**"
   ]
  },
  {
   "cell_type": "code",
   "execution_count": 204,
   "metadata": {},
   "outputs": [
    {
     "data": {
      "text/plain": [
       "15"
      ]
     },
     "execution_count": 204,
     "metadata": {},
     "output_type": "execute_result"
    }
   ],
   "source": [
    "def soma_lista(lista):\n",
    "    soma = sum(lista)\n",
    "    return soma\n",
    "\n",
    "soma_lista([1,2,3,4,5])"
   ]
  },
  {
   "cell_type": "markdown",
   "metadata": {},
   "source": [
    "**14. Faça uma função que recebe uma lista de números e retorna a média aritmética dos elementos dessa lista.**"
   ]
  },
  {
   "cell_type": "code",
   "execution_count": 207,
   "metadata": {},
   "outputs": [
    {
     "data": {
      "text/plain": [
       "3.5"
      ]
     },
     "execution_count": 207,
     "metadata": {},
     "output_type": "execute_result"
    }
   ],
   "source": [
    "def media(lista):\n",
    "    media = sum(lista)/len(lista)\n",
    "    return media\n",
    "\n",
    "media([1,2,3,4,5,6])"
   ]
  },
  {
   "cell_type": "markdown",
   "metadata": {},
   "source": [
    "**15. Crie uma função que recebe uma lista de números e devolve, nesta ordem, o mínimo, a média, o desvio padrão e o máximo.**\n",
    "\n",
    "_Dica: Use a biblioteca statistics (`import statistics`) para calcular o desvio padrão:\n",
    "`desvio = statistics.stdev(lista)`_"
   ]
  },
  {
   "cell_type": "code",
   "execution_count": 211,
   "metadata": {},
   "outputs": [
    {
     "data": {
      "text/plain": [
       "(1, 2.0, 1.0, 3)"
      ]
     },
     "execution_count": 211,
     "metadata": {},
     "output_type": "execute_result"
    }
   ],
   "source": [
    "def est(lista):\n",
    "    import statistics\n",
    "    minimo = min(lista)\n",
    "    media = sum(lista)/len(lista)\n",
    "    desvio = statistics.stdev(lista)\n",
    "    maximo = max(lista)\n",
    "    \n",
    "    return (minimo,media,desvio,maximo)\n",
    "\n",
    "est([1,2,3])"
   ]
  },
  {
   "cell_type": "markdown",
   "metadata": {},
   "source": [
    "**16. Crie uma função que recebe uma lista e retorna True se todos os seus elementos forem numéricos (int, float ou string contendo um int ou float) ou False do contrário. A função deve também retornar a lista tratada: transformar todas as entradas não numéricas em numéricas ou, no melhor caso, devolver a lista apenas.**"
   ]
  },
  {
   "cell_type": "code",
   "execution_count": 233,
   "metadata": {},
   "outputs": [
    {
     "data": {
      "text/plain": [
       "([1, 2, 3, 123.0], False)"
      ]
     },
     "execution_count": 233,
     "metadata": {},
     "output_type": "execute_result"
    }
   ],
   "source": [
    "lista = ['Casa',1,2,3,'123']\n",
    "\n",
    "def checar_numericos(lista):\n",
    "    conferir = []\n",
    "    for i in lista:\n",
    "        if type(i)==str:\n",
    "            if i.isnumeric()==True:\n",
    "                conferir.append(float(i))\n",
    "        else:\n",
    "            conferir.append(i)\n",
    "\n",
    "    if len(conferir)==len(lista):\n",
    "        numericos = True\n",
    "    else:\n",
    "        numericos = False\n",
    "\n",
    "    return(conferir,numericos)\n",
    "\n",
    "checar_numericos(lista)\n",
    "\n",
    "    \n"
   ]
  },
  {
   "cell_type": "markdown",
   "metadata": {},
   "source": [
    "**17. Faça uma função que recebe valores a, b e c, resolve a equação quadrática a*x**2 + b*x + c = 0 e retorna:**\n",
    "\n",
    "a. o valor de Δ onde Δ = b**2- 4*a*c  \n",
    "b. uma tupla com o valor do ponto de mínimo ou máximo: x_m = -b/(2*a) e y_m = -Δ/(4*a);  \n",
    "c. uma lista contendo as raízes (a lista pode ser vazia, caso Δ<0; pode conter apenas um elemento, caso Δ = 0; ou conter duas raízes, caso Δ> 0)."
   ]
  },
  {
   "cell_type": "code",
   "execution_count": 221,
   "metadata": {},
   "outputs": [
    {
     "data": {
      "text/plain": [
       "((-1.25, -1.125), [-4.25, -5.75])"
      ]
     },
     "execution_count": 221,
     "metadata": {},
     "output_type": "execute_result"
    }
   ],
   "source": [
    "def baskara(a,b,c):\n",
    "    import math\n",
    "    delta = (b**2)- 4*a*c\n",
    "    x_coord = -b/(2*a)\n",
    "    y_coord = -delta/(4*a)\n",
    "    tupla = (x_coord,y_coord)\n",
    "    #raizes:\n",
    "    if delta == 0:\n",
    "        raiz1 = -b+math.sqrt(delta)/(2*a)\n",
    "        raiz=[raiz1]\n",
    "    elif delta>0:\n",
    "        raiz1 = -b+math.sqrt(delta)/(2*a)\n",
    "        raiz2 = -b-math.sqrt(delta)/(2*a)\n",
    "        raiz=[raiz1,raiz2]\n",
    "    else:\n",
    "        print('Não há raizes reais!')\n",
    "        raiz=[]\n",
    "    return (tupla,raiz)\n",
    "\n",
    "a=2\n",
    "b=5\n",
    "c=2\n",
    "baskara(a,b,c)"
   ]
  },
  {
   "cell_type": "code",
   "execution_count": null,
   "metadata": {},
   "outputs": [],
   "source": []
  }
 ],
 "metadata": {
  "interpreter": {
   "hash": "31f2aee4e71d21fbe5cf8b01ff0e069b9275f58929596ceb00d14d90e3e16cd6"
  },
  "kernelspec": {
   "display_name": "Python 3",
   "language": "python",
   "name": "python3"
  },
  "language_info": {
   "codemirror_mode": {
    "name": "ipython",
    "version": 3
   },
   "file_extension": ".py",
   "mimetype": "text/x-python",
   "name": "python",
   "nbconvert_exporter": "python",
   "pygments_lexer": "ipython3",
   "version": "3.8.8"
  }
 },
 "nbformat": 4,
 "nbformat_minor": 2
}
