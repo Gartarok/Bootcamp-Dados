{
 "cells": [
  {
   "cell_type": "markdown",
   "metadata": {},
   "source": [
    "# Exercícios\n",
    "\n",
    "#### 04. Tuplas e Dicionários\n",
    "\n",
    "---\n",
    "\n",
    "<img src=\"https://selecao.letscode.com.br/favicon.png\" width=\"40px\" style=\"position: absolute; top: 0px; right: 40px; border-radius: 5px;\" />"
   ]
  },
  {
   "cell_type": "markdown",
   "metadata": {},
   "source": [
    "### Para entregar! 🔥"
   ]
  },
  {
   "cell_type": "markdown",
   "metadata": {},
   "source": [
    "**01. Faça um programa que receba uma string e conte quantas vezes cada letra apareceu nela. Seu programa deverá guardar os dados em um dicionário no qual as chaves são as letras da string e os valores são a contagem de quantas vezes essa letra aparece na string.**"
   ]
  },
  {
   "cell_type": "code",
   "execution_count": 7,
   "metadata": {},
   "outputs": [
    {
     "name": "stdout",
     "output_type": "stream",
     "text": [
      "Digite a palavra: casa da casa\n",
      "{'c': 2, 'a': 5, 's': 2, ' ': 2, 'd': 1}\n"
     ]
    }
   ],
   "source": [
    "palavra = input('Digite a palavra: ')\n",
    "palavra = list(palavra)\n",
    "\n",
    "dic = {}\n",
    "for i in palavra:\n",
    "    dic[i] = palavra.count(i)\n",
    "print(dic)"
   ]
  },
  {
   "cell_type": "markdown",
   "metadata": {},
   "source": [
    "**02. Faça um programa que disponha de um menu, o qual solicita uma resposta (número) do usuário, que varia entre 1 e 4.**\n",
    "\n",
    "- Ao digitar 1, o programa deve possibilitar ao usuário cadastrar uma nova pessoa, solicitando nome, CPF, e-mail e idade dela. Os dados de cada pessoa cadastrada devem ser guardados em um dicionário cuja chave é o CPF da pessoa, e o valor é outro dicionário com nome, idade e e-mail.\n",
    "- Ao digitar 2, o programa deve imprimir os usuários cadastrados.\n",
    "- Ao digitar 3, o usuário poderá pesquisar por uma pessoa cadastrada, informando o seu CPF.\n",
    "- Ao digitar 4, o programa deve encerrar."
   ]
  },
  {
   "cell_type": "code",
   "execution_count": 15,
   "metadata": {},
   "outputs": [
    {
     "name": "stdout",
     "output_type": "stream",
     "text": [
      "\n",
      "1. Adicionar nova pessoa \n",
      "2. Imprimir todos os cadastrados \n",
      "3. Pesquisar cadastrado \n",
      "4. Encerrar\n",
      "Digite uma opção! 2\n",
      "dict_keys([])\n",
      "\n",
      "1. Adicionar nova pessoa \n",
      "2. Imprimir todos os cadastrados \n",
      "3. Pesquisar cadastrado \n",
      "4. Encerrar\n",
      "Digite uma opção! 4\n",
      "Fim do programa! \n"
     ]
    }
   ],
   "source": [
    "cadastro = {}\n",
    "comando = 0\n",
    "while comando!=4:\n",
    "    print('\\n1. Adicionar nova pessoa \\n2. Imprimir todos os cadastrados \\n3. Pesquisar cadastrado \\n4. Encerrar')\n",
    "    comando = int(input('Digite uma opção! '))\n",
    "    if comando == 1: \n",
    "        print('Adicionar nova pessoa!\\n ')\n",
    "        CPF = input('Digite o CPF: ')\n",
    "        nome = input('Digite o nome: ')\n",
    "        idade = input('Digite o idade: ')\n",
    "        email = input('Digite o e-mail: ')\n",
    "        cadastro[CPF]={'nome':nome,'idade':idade,'email':email}\n",
    "    elif comando == 2:\n",
    "        print(cadastro.keys())\n",
    "    elif comando == 3:\n",
    "        print('Procurar via CPF ')\n",
    "        procuraCPF = input('Digite o CPF ')\n",
    "        print(cadastro[procuraCPF])\n",
    "    elif comando ==4:\n",
    "        print('Fim do programa! ')\n",
    "    else:\n",
    "        print('Digite um valor válido! ')"
   ]
  },
  {
   "cell_type": "markdown",
   "metadata": {},
   "source": [
    "### Tradutor de Papai Noel 🎅\n",
    "\n",
    "Nicolau já está bastante cansado e sua memória não é mais a mesma. Você, como programador, deverá auxiliar o Papai Noel a gritar a frase \"Feliz Natal\" no idioma correto de cada país de que trenó está sobrevoando.\n",
    "\n",
    "Como você é muito esperto(a), você já criou um pequeno app no seu celular  que irá lhe informar a frase no idioma correto dado o nome do país. Como o trenó é moderno, ele exibe no painel de navegação o nome do país atual.\n",
    "\n",
    "<img src=\"https://www.urionlinejudge.com.br/gallery/images/problems/UOJ_1763.gif\" style=\"display: block; margin: 1rem auto\" />\n",
    "\n",
    "Os dados inseridos no seu app foram:\n",
    "\n",
    "```\n",
    "brasil              Feliz Natal!\n",
    "alemanha            Frohliche Weihnachten!\n",
    "austria             Frohe Weihnacht!\n",
    "coreia              Chuk Sung Tan!\n",
    "espanha             Feliz Navidad!\n",
    "grecia              Kala Christougena!\n",
    "estados-unidos      Merry Christmas!\n",
    "inglaterra          Merry Christmas!\n",
    "australia           Merry Christmas!\n",
    "portugal            Feliz Natal!\n",
    "suecia              God Jul!\n",
    "turquia             Mutlu Noeller\n",
    "argentina           Feliz Navidad!\n",
    "chile               Feliz Navidad!\n",
    "mexico              Feliz Navidad!\n",
    "antardida           Merry Christmas!\n",
    "canada              Merry Christmas!\n",
    "irlanda             Nollaig Shona Dhuit!\n",
    "belgica             Zalig Kerstfeest!\n",
    "italia              Buon Natale!\n",
    "libia               Buon Natale!\n",
    "siria               Milad Mubarak!\n",
    "marrocos            Milad Mubarak!\n",
    "japao               Merii Kurisumasu!\n",
    "```\n",
    "\n",
    "Para não correr o risco de infomar o nome errado você decidiu testar o aplicativo mais algumas vezes. Você irá testar o seu aplicativo com diversos nomes de paises, simulando os dados informados pelo painel de navegação do trenó.\n",
    "\n",
    "O seu aplicativo deverá mostrar na tela a frase no idioma correto. Caso ela não esteja cadastrada, você deverá exibir a mensagem `--- NOT FOUND ---`.\n",
    "\n",
    "\n",
    "|  Exemplo de Entrada | Exemplo de Saída     |\n",
    "|:-------------------:|:--------------------:|\n",
    "| uri-online-judge    | --- NOT FOUND ---    |\n",
    "| alemanha      |  Frohliche Weihnachten!    |\n",
    "| brasil        |  Feliz Natal!              |\n",
    "| austria       |  Frohe Weihnacht!          |"
   ]
  },
  {
   "cell_type": "code",
   "execution_count": 1,
   "metadata": {},
   "outputs": [
    {
     "name": "stdout",
     "output_type": "stream",
     "text": [
      "\n",
      "1. Para selecionar o pais\n",
      "2. Encerrar o programa!\n",
      "Digite o comando: 1\n",
      "\n",
      "Digite o pais para saber o Feliz Natal: brasil\n",
      "Feliz Natal!\n",
      "\n",
      "1. Para selecionar o pais\n",
      "2. Encerrar o programa!\n",
      "Digite o comando: 2\n",
      "\n",
      "O programa foi encerado! Ho ho ho\n"
     ]
    }
   ],
   "source": [
    "feliz_natal = {'brasil'          :'Feliz Natal!',\n",
    "'alemanha'        :'Frohliche Weihnachten!',\n",
    "'austria'         :'Frohe Weihnacht!',\n",
    "'coreia'          :'Chuk Sung Tan!',\n",
    "'espanha'         :'Feliz Navidad!',\n",
    "'grecia'          :'Kala Christougena!',\n",
    "'estados-unidos'  :'Merry Christmas!',\n",
    "'inglaterra'      :'Merry Christmas!',\n",
    "'australia'       :'Merry Christmas!',\n",
    "'portugal'        :'Feliz Natal!',\n",
    "'suecia'          :'God Jul!',\n",
    "'turquia'         :'Mutlu Noeller',\n",
    "'argentina'       :'Feliz Navidad!',\n",
    "'chile'           :'Feliz Navidad!',\n",
    "'mexico'          :'Feliz Navidad!',\n",
    "'antardida'       :'Merry Christmas!',\n",
    "'canada'          :'Merry Christmas!',\n",
    "'irlanda'         :'Nollaig Shona Dhuit!',\n",
    "'belgica'         :'Zalig Kerstfeest!',\n",
    "'italia'          :'Buon Natale!',\n",
    "'libia'           :'Buon Natale!',\n",
    "'siria'           :'Milad Mubarak!',\n",
    "'marrocos'        :'Milad Mubarak!',\n",
    "'japao'           :'Merii Kurisumasu!',}\n",
    "\n",
    "comando = 0\n",
    "while comando !=2:\n",
    "    print('\\n1. Para selecionar o pais\\n2. Encerrar o programa!')\n",
    "    comando = int(input('Digite o comando: '))\n",
    "    if comando == 1:\n",
    "        pais = input('\\nDigite o pais para saber o Feliz Natal: ')\n",
    "        if (pais in feliz_natal.keys()) == False:\n",
    "            print('--- NOT FOUND ---')\n",
    "        else:\n",
    "            print(feliz_natal[pais])\n",
    "    elif comando == 2:\n",
    "        print('\\nO programa foi encerado! Ho ho ho')\n",
    "    else:\n",
    "        print('\\nDigite uma opção válida!')"
   ]
  },
  {
   "cell_type": "markdown",
   "metadata": {},
   "source": [
    "### Compondo Jingles 🎶\n",
    "\n",
    "A. C. Marcos está dando os primeiros passos para ser um compositor de jingles. Ele está tendo alguns problemas, mas ao menos ele está criando melodias agradáveis e ritmos atrativos.\n",
    "\n",
    "Na música, uma nota tem um tom (sua frequência, resultando em quão grave ou agudo é o som) e uma duração (por quanto tempo a nota soa). Neste problema, estamos interessados apenas na duração das notas.\n",
    "\n",
    "Um jingle é dividido em uma sequência de compassos, e um compasso é formado de uma série de notas.\n",
    "\n",
    "A duração de uma nota é indicada pela sua forma. Neste problema, iremos utilizar letras maiúsculas para indicar a duração de uma nota. A seguinte tabela lista todas as notas disponíveis:\n",
    "\n",
    "<img src=\"https://resources.beecrowd.com.br/gallery/images/novos/Jingle%20Composing_PT.png\" style=\"display: block; margin: 1rem auto\" />\n",
    "\n",
    "A duração de um compasso é a soma da duração de suas notas. Nos jingles de Marcos, cada compasso tem a mesma duração. Como Marcos é apenas um iniciante, seu famoso professor Johann Sebastian III o ensinou que a duração de um compasso deve ser sempre 1.\n",
    "\n",
    "Por exemplo, Marcos escreveu uma composição contendo cinco compassos, dentre os quais quatro possuem a duração correta e um está errado. No exemplo abaixo, cada compasso é delimitado com barras e cada nota é representada como na tabela acima.\n",
    "\n",
    "<center>\n",
    "/HH/QQQQ/XXXTXTEQH/W/HW/\n",
    "</center>\n",
    "\n",
    "Marcos gosta de computadores assim como de música. Ele quer que você escreva um programa que determine, para cada uma de suas composições, quantos compassos possuem a duração correta e quais são os compassos com duração incorreta.\n",
    "\n",
    "|  Exemplo de Entrada | Exemplo de Saída     |\n",
    "|:-------------------:|:--------------------:|\n",
    "|/HH/QQQQ/XXXTXTEQH/W/HW/ |\tQtd. de Corretos: 4 |\n",
    "| | Incorretos: HW |\n",
    "| /W/W/SQHES/\t| Qtd. de Corretos: 3|\n",
    "| /WE/TEX/THES/\t| Qtd. de Corretos: 0|\n",
    "| | Incorretos: [WE, TEX, THES] |"
   ]
  },
  {
   "cell_type": "code",
   "execution_count": 4,
   "metadata": {},
   "outputs": [
    {
     "name": "stdout",
     "output_type": "stream",
     "text": [
      "--------------------------------\n",
      "Qtd. de Corretos: 3\n",
      "--------------------------------\n"
     ]
    }
   ],
   "source": [
    "def analise(lista):\n",
    "    soma=0\n",
    "    for i in lista:\n",
    "        if i=='W':\n",
    "            soma+=1\n",
    "        elif i=='H':\n",
    "            soma+=1/2\n",
    "        elif i=='Q':\n",
    "            soma+=1/4\n",
    "        elif i=='E':\n",
    "            soma+=1/8\n",
    "        elif i=='S':\n",
    "            soma+=1/16\n",
    "        elif i=='T':\n",
    "            soma+=1/32\n",
    "        elif i=='X':\n",
    "            soma+=1/64\n",
    "        else:\n",
    "            #um valor errado / não previsto\n",
    "            soma+=1.1\n",
    "    return soma\n",
    "        \n",
    "#entrada = input('Entrada digite: ')\n",
    "entrada = '/W/W/SQHES/'\n",
    "entrada = entrada.split(\"/\")\n",
    "entrada.pop(0)\n",
    "entrada.pop(-1)\n",
    "\n",
    "notas={}\n",
    "for i in range(len(entrada)):\n",
    "    notas[i]=list(entrada[i])\n",
    "\n",
    "\n",
    "corretos=0\n",
    "lista_incorretos=[]\n",
    "\n",
    "for i in notas:\n",
    "    soma = analise(notas[i])\n",
    "    if soma==1:\n",
    "        corretos+=1\n",
    "    else:\n",
    "        errado=''.join(notas[i])\n",
    "        lista_incorretos.append(errado)\n",
    "\n",
    "print('--------------------------------')\n",
    "print(f'Qtd. de Corretos: {corretos}')\n",
    "if len(lista_incorretos)>0:\n",
    "    print(f'Incorretos: {lista_incorretos}')\n",
    "print('--------------------------------')"
   ]
  },
  {
   "cell_type": "markdown",
   "metadata": {},
   "source": [
    "### Amigo Secreto ⛄\n",
    "\n",
    "Na família Natalícia já é tradição a realização do amigo secreto (ou amigo oculto) na véspera de natal. Todos os anos a família inteira se reune para a troca de presentes. É um momento de muita diversão e descontração.\n",
    "\n",
    "Neste ano, a caçula Jocelina resolveu deixar o momento ainda mais divertido: ela propôs que todos os participantes colocassem em uma lista 3 sugestões para presentes. A partir dessa lista ela pensou em montar um programa que, colocado um nome **N** e um presente **P**, o programa retorna se a pessoa acertou ou não no presente para seu amigo secreto.\n",
    "\n",
    "Só que Joce não sabe muito de programação, e acabou precisando de ajuda para montar esse programa. Você, sendo tomado(a) pelo espírito natalino, aceitou o desafio!\n",
    "\n",
    "#### Entrada\n",
    "\n",
    "```\n",
    "5\n",
    "iara mochila estojo lapis\n",
    "adelar sapato camisa carteira\n",
    "jessica agenda bolsa brincos\n",
    "jocelina xicara meias perfume\n",
    "elaine sandalia sapatilha camiseta\n",
    "jessica carteira\n",
    "jessica agenda\n",
    "iara sandalia\n",
    "elaine mochila\n",
    "iara mochila\n",
    "adelar carteira\n",
    "```\n",
    "\n",
    "#### Saída\n",
    "```\n",
    "Tente Novamente!\n",
    "Uhul! Seu amigo secreto vai adorar o/\n",
    "Tente Novamente!\n",
    "Tente Novamente!\n",
    "Uhul! Seu amigo secreto vai adorar o/\n",
    "Uhul! Seu amigo secreto vai adorar o/\n",
    "```"
   ]
  },
  {
   "cell_type": "code",
   "execution_count": 46,
   "metadata": {},
   "outputs": [
    {
     "name": "stdout",
     "output_type": "stream",
     "text": [
      "Quantos participantes? 0\n",
      "{'iara': ['mochila', 'estojo', 'lapis'], 'adelar': ['sapato', 'camisa', 'carteira'], 'jessica': ['agenda', 'bolsa', 'brincos']}\n",
      "Digite 0 para parar o jogo: \n",
      "Digite o nome do amigo secreto: iara\n",
      "Digite o presente: Cala\n",
      "Tente Novamente!\n",
      "Digite o nome do amigo secreto: iara\n",
      "Digite o presente: mochila\n",
      "Uhul! Seu amigo secreto vai adorar o/\n",
      "Digite o nome do amigo secreto: 0\n",
      "Digite o presente: 0\n",
      "O jogo acabou!\n"
     ]
    }
   ],
   "source": [
    "#Já coloquei participantes padrões só para facilitar o processo\n",
    "participantes = int(input('Quantos participantes adicionais? '))\n",
    "dic={\n",
    "    'iara':['mochila','estojo','lapis'],\n",
    "    'adelar':['sapato','camisa','carteira'],\n",
    "    'jessica':['agenda','bolsa','brincos']\n",
    "}\n",
    "for i in range(participantes):\n",
    "    nome=input(f'Nome do participante {i+1}: ')\n",
    "    presente1=input('Primeiro presente: ')\n",
    "    presente2=input('Segundo presente: ')\n",
    "    presente3=input('Terceiro presente: ')\n",
    "    dic[nome]=[presente1,presente2,presente3]\n",
    "print(dic)\n",
    "\n",
    "print('Digite 0 para parar o jogo: ')\n",
    "\n",
    "amigo, presente = '1','1'\n",
    "while amigo !='0' or presente!='0':\n",
    "    amigo=input('Digite o nome do amigo secreto: ')\n",
    "    presente=input('Digite o presente: ')\n",
    "    if amigo=='0' or presente=='0':\n",
    "        print('O jogo acabou!')\n",
    "    elif amigo not in dic.keys():\n",
    "        print('Tente Novamente! Essa pessoa não está na lista!')\n",
    "    elif presente in dic[amigo]:\n",
    "        print('Uhul! Seu amigo secreto vai adorar o/')\n",
    "    else:\n",
    "        print('Tente Novamente!')\n",
    "        \n",
    "    "
   ]
  },
  {
   "cell_type": "code",
   "execution_count": null,
   "metadata": {},
   "outputs": [],
   "source": []
  }
 ],
 "metadata": {
  "kernelspec": {
   "display_name": "Python 3",
   "language": "python",
   "name": "python3"
  },
  "language_info": {
   "codemirror_mode": {
    "name": "ipython",
    "version": 3
   },
   "file_extension": ".py",
   "mimetype": "text/x-python",
   "name": "python",
   "nbconvert_exporter": "python",
   "pygments_lexer": "ipython3",
   "version": "3.8.8"
  }
 },
 "nbformat": 4,
 "nbformat_minor": 2
}
