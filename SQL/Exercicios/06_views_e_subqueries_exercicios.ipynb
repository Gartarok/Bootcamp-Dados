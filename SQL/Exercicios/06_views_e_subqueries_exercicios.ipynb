{
 "cells": [
  {
   "cell_type": "markdown",
   "id": "3b6eeada",
   "metadata": {},
   "source": [
    "# Exercícios para entregar"
   ]
  },
  {
   "cell_type": "markdown",
   "id": "19455861",
   "metadata": {},
   "source": [
    "Resolva o problema abaixo usando as três técnicas aprendidas na aula `06_views_e_subqueries`:\n",
    "\n",
    "    A. Select from select\n",
    "    B. WITH\n",
    "    C. VIEW\n",
    "\n",
    "1. Quantos vendedores tiveram menos de 300 pedidos e média superior a 700 unidades monetárias por pedido?\n"
   ]
  },
  {
   "cell_type": "code",
   "execution_count": 7,
   "id": "c8fa7108",
   "metadata": {},
   "outputs": [],
   "source": [
    "# Primeira Parte\n",
    "# Criar View\n",
    "# Filtra todos os que tiveram menos de 300 pedidos\n",
    "# numero_vendas | vendedor | valor_total"
   ]
  },
  {
   "cell_type": "markdown",
   "id": "ba908112",
   "metadata": {},
   "source": [
    "    CREATE VIEW vendas_view AS \n",
    "    (\n",
    "        SELECT \n",
    "            count(orders.employee_id) AS numero_vendas,\n",
    "            orders.employee_id AS vendedor,\n",
    "            SUM(order_details.unit_price * order_details.quantity * (1-order_details.discount)) AS valor_total    \n",
    "        FROM \n",
    "            order_details\n",
    "        INNER JOIN orders ON \n",
    "            orders.order_id = order_details.order_id\n",
    "        GROUP BY \n",
    "            orders.employee_id\n",
    "        HAVING \n",
    "            count(orders.employee_id) < 300\n",
    "        ORDER BY \n",
    "            employee_id\n",
    "    )"
   ]
  },
  {
   "cell_type": "code",
   "execution_count": 5,
   "id": "6e383b7e",
   "metadata": {},
   "outputs": [],
   "source": [
    "# Segunda parte"
   ]
  },
  {
   "cell_type": "markdown",
   "id": "91f99576",
   "metadata": {},
   "source": [
    "    WITH analise as (\n",
    "        SELECT \n",
    "            vendedor,\n",
    "            valor_total/numero_vendas AS media\n",
    "        FROM vendas_view\n",
    "    )\n",
    "\n",
    "    SELECT \n",
    "        vendedor,\n",
    "        employees.last_name,\n",
    "        employees.first_name\n",
    "    FROM \n",
    "        analise\n",
    "    INNER JOIN \n",
    "        employees ON employees.employee_id = analise.vendedor\n",
    "    WHERE \n",
    "        media > 700;"
   ]
  },
  {
   "attachments": {
    "image.png": {
     "image/png": "[encoded data removed]"
    }
   },
   "cell_type": "markdown",
   "id": "4c6af899",
   "metadata": {},
   "source": [
    "![image.png](attachment:image.png)"
   ]
  },
  {
   "cell_type": "code",
   "execution_count": null,
   "id": "958a164f",
   "metadata": {},
   "outputs": [],
   "source": []
  }
 ],
 "metadata": {
  "kernelspec": {
   "display_name": "Python 3",
   "language": "python",
   "name": "python3"
  },
  "language_info": {
   "codemirror_mode": {
    "name": "ipython",
    "version": 3
   },
   "file_extension": ".py",
   "mimetype": "text/x-python",
   "name": "python",
   "nbconvert_exporter": "python",
   "pygments_lexer": "ipython3",
   "version": "3.8.8"
  },
  "toc": {
   "base_numbering": 1,
   "nav_menu": {},
   "number_sections": true,
   "sideBar": true,
   "skip_h1_title": false,
   "title_cell": "Table of Contents",
   "title_sidebar": "Contents",
   "toc_cell": false,
   "toc_position": {},
   "toc_section_display": true,
   "toc_window_display": false
  }
 },
 "nbformat": 4,
 "nbformat_minor": 5
}
