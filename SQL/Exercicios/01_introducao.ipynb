{
 "cells": [
  {
   "cell_type": "markdown",
   "id": "29cd856b",
   "metadata": {},
   "source": [
    "# Exercícios para entregar"
   ]
  },
  {
   "cell_type": "markdown",
   "id": "cc495fc4",
   "metadata": {},
   "source": [
    "1. Selecione da tabela empolyees:\n",
    "    1. Os sobrenomes distintos dos empregrados;\n",
    "        \n",
    "    1. Empregados que nasceram entre 1950 e 1958 (inclusos);\n",
    "        \n",
    "    1. Empregados que nasceram em 1963 e foram contratados em 1993;\n",
    "    1. Todos os empregrados que reportam o chefe de id 5;\n",
    "1. Selecione da tabela order_details:\n",
    "    1. Produtos com 0.05 ou menos de desconto;\n",
    "1. Selecione da tabels orders:\n",
    "    1. Ordens enviadas em Setembro de 1996.\n",
    "    1. Ordens que possuam o campo região preenchido.\n",
    "1. Selecione da tabela suppliers:\n",
    "    1. Todos os contatos que tenham a palavra manager no titulo."
   ]
  },
  {
   "cell_type": "markdown",
   "id": "bdba8bf9",
   "metadata": {},
   "source": [
    "1A  \n",
    "SELECT DISTINCT last_name  \n",
    "FROM employees;  \n",
    "\n",
    "1B  \n",
    "SELECT employee_id, last_name, first_name  \n",
    "FROM employees  \n",
    "WHERE birth_date BETWEEN'1950-01-01' AND '1958-12-31';  \n",
    "\n",
    "1C  \n",
    "SELECT employee_id, last_name, first_name  \n",
    "FROM employees  \n",
    "WHERE birth_date BETWEEN '1963-01-01' AND '1963-12-31'  \n",
    "AND hire_date BETWEEN '1993-01-01' AND '1993-12-31';\n",
    "\n",
    "1D  \n",
    "SELECT employee_id, last_name, first_name    \n",
    "FROM employees    \n",
    "WHERE reports_to = 5;    "
   ]
  },
  {
   "cell_type": "markdown",
   "id": "e5161c77",
   "metadata": {},
   "source": [
    "2A  \n",
    "SELECT product_id, discount    \n",
    "FROM order_details  \n",
    "--0,051 por causa do bug de não incluir 0,05  \n",
    "WHERE discount <= 0.051;    "
   ]
  },
  {
   "cell_type": "markdown",
   "id": "89956b48",
   "metadata": {},
   "source": [
    "3A  \n",
    "SELECT order_id  \n",
    "FROM orders  \n",
    "WHERE shipped_date BETWEEN '1996-09-01' AND '1996-09-30';  \n",
    "\n",
    "3B  \n",
    "SELECT order_id  \n",
    "FROM orders  \n",
    "WHERE ship_region IS NOT NULL;  "
   ]
  },
  {
   "cell_type": "markdown",
   "id": "b3dba382",
   "metadata": {},
   "source": [
    "4A  \n",
    "SELECT contact_name  \n",
    "FROM suppliers  \n",
    "WHERE contact_title LIKE '%Manager%';  "
   ]
  },
  {
   "cell_type": "code",
   "execution_count": null,
   "id": "dc86d90a",
   "metadata": {},
   "outputs": [],
   "source": []
  }
 ],
 "metadata": {
  "kernelspec": {
   "display_name": "Python 3",
   "language": "python",
   "name": "python3"
  },
  "language_info": {
   "codemirror_mode": {
    "name": "ipython",
    "version": 3
   },
   "file_extension": ".py",
   "mimetype": "text/x-python",
   "name": "python",
   "nbconvert_exporter": "python",
   "pygments_lexer": "ipython3",
   "version": "3.8.8"
  },
  "toc": {
   "base_numbering": 1,
   "nav_menu": {},
   "number_sections": true,
   "sideBar": true,
   "skip_h1_title": false,
   "title_cell": "Table of Contents",
   "title_sidebar": "Contents",
   "toc_cell": false,
   "toc_position": {},
   "toc_section_display": true,
   "toc_window_display": false
  }
 },
 "nbformat": 4,
 "nbformat_minor": 5
}
