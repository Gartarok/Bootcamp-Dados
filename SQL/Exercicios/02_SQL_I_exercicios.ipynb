{
 "cells": [
  {
   "cell_type": "markdown",
   "id": "7a9e166a",
   "metadata": {},
   "source": [
    "# Exercícios para entregar"
   ]
  },
  {
   "cell_type": "markdown",
   "id": "f4a88eb9",
   "metadata": {},
   "source": [
    "### 02_SQL_I_exercicios_GGB"
   ]
  },
  {
   "cell_type": "markdown",
   "id": "24812fdd",
   "metadata": {
    "ExecuteTime": {
     "end_time": "2021-12-01T11:16:27.462957Z",
     "start_time": "2021-12-01T11:16:27.425073Z"
    }
   },
   "source": [
    "1. Selecione da tabela employees (não esqueça de nomear as colunas criadas):\n",
    "    1. A idade que os empregados tinham quando foram contratados em ordem crescente;\n",
    "    1. Qual a pessoa mais jovem que foi contratada?\n",
    "    \n",
    "1. Selecione da tabela products:\n",
    "    1. Os 5 produtos com maior valor agregado atualmente em estoque;\n",
    "1. Selecione da tabels orders:\n",
    "    1. O tempo (em dias) entre a compra e o envio;"
   ]
  },
  {
   "cell_type": "markdown",
   "id": "881e724f",
   "metadata": {},
   "source": [
    "1A  \n",
    "SELECT last_name, first_name,  \n",
    "round((hire_date - birth_date)/365.25,1) AS Idade_contratação  \n",
    "FROM employees  \n",
    "ORDER BY Idade_contratação ASC;  \n",
    "\n",
    "1B  \n",
    "--Leverlingm Janet. Aos 28,6 anos.  "
   ]
  },
  {
   "cell_type": "markdown",
   "id": "6aff87c4",
   "metadata": {},
   "source": [
    "2A  \n",
    "SELECT product_id, product_name, unit_price \n",
    "FROM products  \n",
    "WHERE units_in_stock > 0  \n",
    "ORDER BY unit_price DESC  \n",
    "LIMIT 5;  "
   ]
  },
  {
   "cell_type": "markdown",
   "id": "f09b6cc4",
   "metadata": {},
   "source": [
    "3A  \n",
    "SELECT   \n",
    "(shipped_date - order_date) AS Tempo_compra_e_envio,  \n",
    "order_date AS Dia_compra,  \n",
    "shipped_date AS Dia_envio  \n",
    "FROM orders;  "
   ]
  },
  {
   "cell_type": "markdown",
   "id": "90df36e2",
   "metadata": {},
   "source": [
    "-#--------------------------------------------------------------------------------------------------#-"
   ]
  },
  {
   "cell_type": "markdown",
   "id": "01e6abaa",
   "metadata": {},
   "source": [
    "Professor eu enviei um documento errado no primeiro exercício de SQL  \n",
    "\n",
    "Título: Intro ao SQL  \n",
    "    \n",
    "Segue aqui o conteúdo correto para esse envio  "
   ]
  },
  {
   "cell_type": "markdown",
   "id": "4159eeab",
   "metadata": {},
   "source": [
    "### 01_introducao_primeiros_passos_exercicio_GGB"
   ]
  },
  {
   "cell_type": "markdown",
   "id": "052ffc55",
   "metadata": {},
   "source": [
    "# Exercícios para entregar"
   ]
  },
  {
   "cell_type": "markdown",
   "id": "196af0e2",
   "metadata": {},
   "source": [
    "1. Selecione da tabela empolyees:\n",
    "    1. Os sobrenomes distintos dos empregrados;\n",
    "        \n",
    "    1. Empregados que nasceram entre 1950 e 1958 (inclusos);\n",
    "        \n",
    "    1. Empregados que nasceram em 1963 e foram contratados em 1993;\n",
    "    1. Todos os empregrados que reportam o chefe de id 5;\n",
    "1. Selecione da tabela order_details:\n",
    "    1. Produtos com 0.05 ou menos de desconto;\n",
    "1. Selecione da tabels orders:\n",
    "    1. Ordens enviadas em Setembro de 1996.\n",
    "    1. Ordens que possuam o campo região preenchido.\n",
    "1. Selecione da tabela suppliers:\n",
    "    1. Todos os contatos que tenham a palavra manager no titulo."
   ]
  },
  {
   "cell_type": "markdown",
   "id": "f0b6d867",
   "metadata": {},
   "source": [
    "1A  \n",
    "SELECT DISTINCT last_name  \n",
    "FROM employees;  \n",
    "\n",
    "1B\n",
    "SELECT employee_id, last_name, first_name  \n",
    "FROM employees  \n",
    "WHERE birth_date BETWEEN'1950-01-01' AND '1958-12-31';  \n",
    "\n",
    "1C  \n",
    "SELECT employee_id, last_name, first_name  \n",
    "FROM employees  \n",
    "WHERE birth_date BETWEEN '1963-01-01' AND '1963-12-31'  \n",
    "AND hire_date BETWEEN '1993-01-01' AND '1993-12-31';  \n",
    "\n",
    "1D  \n",
    "SELECT employee_id, last_name, first_name  \n",
    "FROM employees  \n",
    "WHERE reports_to = 5;  \n",
    "\n",
    "2A  \n",
    "SELECT product_id, discount  \n",
    "FROM order_details  \n",
    "--0,051 por causa do bug de não incluir 0,05  \n",
    "WHERE discount <= 0.051;  \n",
    "  \n",
    "3A  \n",
    "SELECT order_id  \n",
    "FROM orders  \n",
    "WHERE shipped_date BETWEEN '1996-09-01' AND '1996-09-30';  \n",
    "\n",
    "3B  \n",
    "SELECT order_id  \n",
    "FROM orders  \n",
    "WHERE ship_region IS NOT NULL;  \n",
    "\n",
    "4A  \n",
    "SELECT contact_name  \n",
    "FROM suppliers  \n",
    "WHERE contact_title LIKE '%Manager%';  "
   ]
  },
  {
   "cell_type": "code",
   "execution_count": null,
   "id": "9fba7798",
   "metadata": {},
   "outputs": [],
   "source": []
  }
 ],
 "metadata": {
  "kernelspec": {
   "display_name": "Python 3",
   "language": "python",
   "name": "python3"
  },
  "language_info": {
   "codemirror_mode": {
    "name": "ipython",
    "version": 3
   },
   "file_extension": ".py",
   "mimetype": "text/x-python",
   "name": "python",
   "nbconvert_exporter": "python",
   "pygments_lexer": "ipython3",
   "version": "3.8.8"
  },
  "toc": {
   "base_numbering": 1,
   "nav_menu": {},
   "number_sections": true,
   "sideBar": true,
   "skip_h1_title": false,
   "title_cell": "Table of Contents",
   "title_sidebar": "Contents",
   "toc_cell": false,
   "toc_position": {},
   "toc_section_display": true,
   "toc_window_display": false
  }
 },
 "nbformat": 4,
 "nbformat_minor": 5
}
