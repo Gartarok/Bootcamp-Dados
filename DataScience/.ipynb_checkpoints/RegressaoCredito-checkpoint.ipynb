{
 "cells": [
  {
   "cell_type": "markdown",
   "id": "fe467cbf",
   "metadata": {},
   "source": [
    "#### Regressão Linear Simples: Previsão de Limite de Crédito\n",
    "\n",
    "Neste case, você deverá aplicar a regressão linear simples para estimar o limite de crédito de clientes de um banco, a partir do score deles no Serasa. O seu dataset contém duas colunas: Score e Limit. Aplique a regressão linear, utilizando o LinearRegression do sklearn e, também, o OLS do statsmodels.\n",
    "\n",
    "Observe as características do erro, bem como calcule as métricas vistas durante a aula."
   ]
  },
  {
   "cell_type": "markdown",
   "id": "6e5aa0a7",
   "metadata": {},
   "source": [
    "### Importação das bibliotecas"
   ]
  },
  {
   "cell_type": "code",
   "execution_count": 1,
   "id": "bbf6904b",
   "metadata": {},
   "outputs": [],
   "source": [
    "import numpy as np\n",
    "import pandas as pd\n",
    "import matplotlib.pyplot as plt\n",
    "import seaborn as sns\n",
    "import plotly.express as px\n",
    "import plotly.io as pio\n",
    "import statsmodels.api as sm\n",
    "\n",
    "from scipy.stats import pearsonr\n",
    "from sklearn.linear_model import LinearRegression\n",
    "\n",
    "sns.set()\n",
    "pio.templates.default = 'plotly_dark'"
   ]
  },
  {
   "cell_type": "markdown",
   "id": "b51f7977",
   "metadata": {},
   "source": [
    "### Importar e avaliar o Dataframe"
   ]
  },
  {
   "cell_type": "code",
   "execution_count": 2,
   "id": "f8bf4635",
   "metadata": {},
   "outputs": [
    {
     "data": {
      "text/html": [
       "<div>\n",
       "<style scoped>\n",
       "    .dataframe tbody tr th:only-of-type {\n",
       "        vertical-align: middle;\n",
       "    }\n",
       "\n",
       "    .dataframe tbody tr th {\n",
       "        vertical-align: top;\n",
       "    }\n",
       "\n",
       "    .dataframe thead th {\n",
       "        text-align: right;\n",
       "    }\n",
       "</style>\n",
       "<table border=\"1\" class=\"dataframe\">\n",
       "  <thead>\n",
       "    <tr style=\"text-align: right;\">\n",
       "      <th></th>\n",
       "      <th>Limit</th>\n",
       "      <th>Score</th>\n",
       "    </tr>\n",
       "  </thead>\n",
       "  <tbody>\n",
       "    <tr>\n",
       "      <th>0</th>\n",
       "      <td>3606</td>\n",
       "      <td>283</td>\n",
       "    </tr>\n",
       "    <tr>\n",
       "      <th>1</th>\n",
       "      <td>6645</td>\n",
       "      <td>483</td>\n",
       "    </tr>\n",
       "    <tr>\n",
       "      <th>2</th>\n",
       "      <td>7075</td>\n",
       "      <td>514</td>\n",
       "    </tr>\n",
       "  </tbody>\n",
       "</table>\n",
       "</div>"
      ],
      "text/plain": [
       "   Limit  Score\n",
       "0   3606    283\n",
       "1   6645    483\n",
       "2   7075    514"
      ]
     },
     "execution_count": 2,
     "metadata": {},
     "output_type": "execute_result"
    }
   ],
   "source": [
    "#DataFrame\n",
    "df = pd.read_csv('credito.csv')\n",
    "df.head(3)"
   ]
  },
  {
   "cell_type": "code",
   "execution_count": 3,
   "id": "9185e960",
   "metadata": {},
   "outputs": [
    {
     "name": "stdout",
     "output_type": "stream",
     "text": [
      "<class 'pandas.core.frame.DataFrame'>\n",
      "RangeIndex: 400 entries, 0 to 399\n",
      "Data columns (total 2 columns):\n",
      " #   Column  Non-Null Count  Dtype\n",
      "---  ------  --------------  -----\n",
      " 0   Limit   400 non-null    int64\n",
      " 1   Score   400 non-null    int64\n",
      "dtypes: int64(2)\n",
      "memory usage: 6.4 KB\n"
     ]
    }
   ],
   "source": [
    "df.info()"
   ]
  },
  {
   "cell_type": "code",
   "execution_count": 4,
   "id": "b16fd0a2",
   "metadata": {
    "scrolled": false
   },
   "outputs": [
    {
     "data": {
      "text/html": [
       "<div>\n",
       "<style scoped>\n",
       "    .dataframe tbody tr th:only-of-type {\n",
       "        vertical-align: middle;\n",
       "    }\n",
       "\n",
       "    .dataframe tbody tr th {\n",
       "        vertical-align: top;\n",
       "    }\n",
       "\n",
       "    .dataframe thead th {\n",
       "        text-align: right;\n",
       "    }\n",
       "</style>\n",
       "<table border=\"1\" class=\"dataframe\">\n",
       "  <thead>\n",
       "    <tr style=\"text-align: right;\">\n",
       "      <th></th>\n",
       "      <th>Limit</th>\n",
       "      <th>Score</th>\n",
       "    </tr>\n",
       "  </thead>\n",
       "  <tbody>\n",
       "    <tr>\n",
       "      <th>count</th>\n",
       "      <td>400.000000</td>\n",
       "      <td>400.000000</td>\n",
       "    </tr>\n",
       "    <tr>\n",
       "      <th>mean</th>\n",
       "      <td>4735.600000</td>\n",
       "      <td>354.940000</td>\n",
       "    </tr>\n",
       "    <tr>\n",
       "      <th>std</th>\n",
       "      <td>2308.198848</td>\n",
       "      <td>154.724143</td>\n",
       "    </tr>\n",
       "    <tr>\n",
       "      <th>min</th>\n",
       "      <td>855.000000</td>\n",
       "      <td>93.000000</td>\n",
       "    </tr>\n",
       "    <tr>\n",
       "      <th>25%</th>\n",
       "      <td>3088.000000</td>\n",
       "      <td>247.250000</td>\n",
       "    </tr>\n",
       "    <tr>\n",
       "      <th>50%</th>\n",
       "      <td>4622.500000</td>\n",
       "      <td>344.000000</td>\n",
       "    </tr>\n",
       "    <tr>\n",
       "      <th>75%</th>\n",
       "      <td>5872.750000</td>\n",
       "      <td>437.250000</td>\n",
       "    </tr>\n",
       "    <tr>\n",
       "      <th>max</th>\n",
       "      <td>13913.000000</td>\n",
       "      <td>982.000000</td>\n",
       "    </tr>\n",
       "  </tbody>\n",
       "</table>\n",
       "</div>"
      ],
      "text/plain": [
       "              Limit       Score\n",
       "count    400.000000  400.000000\n",
       "mean    4735.600000  354.940000\n",
       "std     2308.198848  154.724143\n",
       "min      855.000000   93.000000\n",
       "25%     3088.000000  247.250000\n",
       "50%     4622.500000  344.000000\n",
       "75%     5872.750000  437.250000\n",
       "max    13913.000000  982.000000"
      ]
     },
     "execution_count": 4,
     "metadata": {},
     "output_type": "execute_result"
    }
   ],
   "source": [
    "df.describe()"
   ]
  },
  {
   "cell_type": "markdown",
   "id": "24170ef8",
   "metadata": {},
   "source": [
    "### Visualização gráfica"
   ]
  },
  {
   "cell_type": "code",
   "execution_count": 5,
   "id": "b473c775",
   "metadata": {
    "scrolled": true
   },
   "outputs": [
    {
     "data": {
      "text/plain": [
       "<seaborn.axisgrid.JointGrid at 0x2507fe42a00>"
      ]
     },
     "execution_count": 5,
     "metadata": {},
     "output_type": "execute_result"
    },
    {
     "data": {
      "image/png": "[encoded data removed]",
      "text/plain": [
       "<Figure size 432x432 with 3 Axes>"
      ]
     },
     "metadata": {},
     "output_type": "display_data"
    }
   ],
   "source": [
    "#Analisar a relação de forma visual\n",
    "px.scatter(df, x='Score', y='Limit', width=800, height=600, marginal_x='histogram', marginal_y='histogram')\n",
    "plt.style.use('seaborn')\n",
    "sns.jointplot(data=df, x='Score', y='Limit', kind='reg', joint_kws={'line_kws':{'color':'red'}})"
   ]
  },
  {
   "cell_type": "markdown",
   "id": "6fb83533",
   "metadata": {},
   "source": [
    "### Calculando a correlação entre Limit e Score"
   ]
  },
  {
   "cell_type": "code",
   "execution_count": 6,
   "id": "49dbf800",
   "metadata": {},
   "outputs": [
    {
     "name": "stdout",
     "output_type": "stream",
     "text": [
      "Rejeita a hipótese H0, ou seja, os nossos dados possuem uma correlação alta\n",
      "O valor da correlação é 0.9968797370016825\n"
     ]
    }
   ],
   "source": [
    "correlacao, p_value = pearsonr(df['Limit'], df['Score'])\n",
    "\n",
    "#𝐻0 : Os nossos dados não possuem uma correlação forte\n",
    "#𝐻1 : Os nossos dados possuem uma correlação forte\n",
    "\n",
    "if p_value <= 0.05:\n",
    "  print('Rejeita a hipótese H0, ou seja, os nossos dados possuem uma correlação alta')\n",
    "else:\n",
    "  print('Aceita H0, ou seja, os nossos dados NÃO possuem uma correlação alta')\n",
    "\n",
    "#A correlação é muito elevada, acima de 0.99\n",
    "print(f'O valor da correlação é {correlacao}')"
   ]
  },
  {
   "cell_type": "code",
   "execution_count": 7,
   "id": "b46e5e08",
   "metadata": {},
   "outputs": [
    {
     "data": {
      "text/html": [
       "<div>\n",
       "<style scoped>\n",
       "    .dataframe tbody tr th:only-of-type {\n",
       "        vertical-align: middle;\n",
       "    }\n",
       "\n",
       "    .dataframe tbody tr th {\n",
       "        vertical-align: top;\n",
       "    }\n",
       "\n",
       "    .dataframe thead th {\n",
       "        text-align: right;\n",
       "    }\n",
       "</style>\n",
       "<table border=\"1\" class=\"dataframe\">\n",
       "  <thead>\n",
       "    <tr style=\"text-align: right;\">\n",
       "      <th></th>\n",
       "      <th>Limit</th>\n",
       "      <th>Score</th>\n",
       "    </tr>\n",
       "  </thead>\n",
       "  <tbody>\n",
       "    <tr>\n",
       "      <th>Limit</th>\n",
       "      <td>1.00000</td>\n",
       "      <td>0.99688</td>\n",
       "    </tr>\n",
       "    <tr>\n",
       "      <th>Score</th>\n",
       "      <td>0.99688</td>\n",
       "      <td>1.00000</td>\n",
       "    </tr>\n",
       "  </tbody>\n",
       "</table>\n",
       "</div>"
      ],
      "text/plain": [
       "         Limit    Score\n",
       "Limit  1.00000  0.99688\n",
       "Score  0.99688  1.00000"
      ]
     },
     "execution_count": 7,
     "metadata": {},
     "output_type": "execute_result"
    }
   ],
   "source": [
    "df.corr()"
   ]
  },
  {
   "cell_type": "markdown",
   "id": "f14416ad",
   "metadata": {},
   "source": [
    "### Regressão com Scikit Learn"
   ]
  },
  {
   "cell_type": "code",
   "execution_count": 8,
   "id": "40d610ed",
   "metadata": {},
   "outputs": [],
   "source": [
    "X = df['Score']\n",
    "y = df['Limit']\n",
    "lr = LinearRegression()"
   ]
  },
  {
   "cell_type": "code",
   "execution_count": 9,
   "id": "c5fe610f",
   "metadata": {},
   "outputs": [
    {
     "name": "stdout",
     "output_type": "stream",
     "text": [
      "Valor beta1: [14.87160712]\n",
      "Valor beta0: -542.9282299869001\n"
     ]
    }
   ],
   "source": [
    "#Treinar o modelo\n",
    "lr.fit(X.values.reshape(-1, 1), y.values)\n",
    "\n",
    "print(f'Valor beta1: {lr.coef_}')\n",
    "print(f'Valor beta0: {lr.intercept_}')"
   ]
  },
  {
   "cell_type": "markdown",
   "id": "d2093455",
   "metadata": {},
   "source": [
    "Ou seja a função é | F(x) = 14.87*x -542.92 |"
   ]
  },
  {
   "cell_type": "code",
   "execution_count": 10,
   "id": "09490ba8",
   "metadata": {},
   "outputs": [
    {
     "data": {
      "text/plain": [
       "[<matplotlib.lines.Line2D at 0x2500606fc70>]"
      ]
     },
     "execution_count": 10,
     "metadata": {},
     "output_type": "execute_result"
    },
    {
     "data": {
      "image/png": "[encoded data removed]",
      "text/plain": [
       "<Figure size 576x396 with 1 Axes>"
      ]
     },
     "metadata": {},
     "output_type": "display_data"
    }
   ],
   "source": [
    "plt.scatter(df['Score'], df['Limit'])\n",
    "plt.plot(X,lr.predict(X.values.reshape(-1, 1)),'red')"
   ]
  },
  {
   "cell_type": "markdown",
   "id": "f89bc48f",
   "metadata": {},
   "source": [
    "### Regressão com Statsmodel OS"
   ]
  },
  {
   "cell_type": "code",
   "execution_count": 11,
   "id": "702f2775",
   "metadata": {
    "scrolled": true
   },
   "outputs": [
    {
     "name": "stderr",
     "output_type": "stream",
     "text": [
      "C:\\Users\\Gartarok\\anaconda3\\lib\\site-packages\\statsmodels\\tsa\\tsatools.py:142: FutureWarning:\n",
      "\n",
      "In a future version of pandas all arguments of concat except for the argument 'objs' will be keyword-only\n",
      "\n"
     ]
    },
    {
     "data": {
      "text/html": [
       "<table class=\"simpletable\">\n",
       "<caption>OLS Regression Results</caption>\n",
       "<tr>\n",
       "  <th>Dep. Variable:</th>          <td>Limit</td>      <th>  R-squared:         </th> <td>   0.994</td> \n",
       "</tr>\n",
       "<tr>\n",
       "  <th>Model:</th>                   <td>OLS</td>       <th>  Adj. R-squared:    </th> <td>   0.994</td> \n",
       "</tr>\n",
       "<tr>\n",
       "  <th>Method:</th>             <td>Least Squares</td>  <th>  F-statistic:       </th> <td>6.348e+04</td>\n",
       "</tr>\n",
       "<tr>\n",
       "  <th>Date:</th>             <td>Thu, 17 Feb 2022</td> <th>  Prob (F-statistic):</th>  <td>  0.00</td>  \n",
       "</tr>\n",
       "<tr>\n",
       "  <th>Time:</th>                 <td>08:34:05</td>     <th>  Log-Likelihood:    </th> <td> -2649.1</td> \n",
       "</tr>\n",
       "<tr>\n",
       "  <th>No. Observations:</th>      <td>   400</td>      <th>  AIC:               </th> <td>   5302.</td> \n",
       "</tr>\n",
       "<tr>\n",
       "  <th>Df Residuals:</th>          <td>   398</td>      <th>  BIC:               </th> <td>   5310.</td> \n",
       "</tr>\n",
       "<tr>\n",
       "  <th>Df Model:</th>              <td>     1</td>      <th>                     </th>     <td> </td>    \n",
       "</tr>\n",
       "<tr>\n",
       "  <th>Covariance Type:</th>      <td>nonrobust</td>    <th>                     </th>     <td> </td>    \n",
       "</tr>\n",
       "</table>\n",
       "<table class=\"simpletable\">\n",
       "<tr>\n",
       "    <td></td>       <th>coef</th>     <th>std err</th>      <th>t</th>      <th>P>|t|</th>  <th>[0.025</th>    <th>0.975]</th>  \n",
       "</tr>\n",
       "<tr>\n",
       "  <th>const</th> <td> -542.9282</td> <td>   22.850</td> <td>  -23.760</td> <td> 0.000</td> <td> -587.851</td> <td> -498.006</td>\n",
       "</tr>\n",
       "<tr>\n",
       "  <th>Score</th> <td>   14.8716</td> <td>    0.059</td> <td>  251.949</td> <td> 0.000</td> <td>   14.756</td> <td>   14.988</td>\n",
       "</tr>\n",
       "</table>\n",
       "<table class=\"simpletable\">\n",
       "<tr>\n",
       "  <th>Omnibus:</th>       <td> 6.887</td> <th>  Durbin-Watson:     </th> <td>   2.080</td>\n",
       "</tr>\n",
       "<tr>\n",
       "  <th>Prob(Omnibus):</th> <td> 0.032</td> <th>  Jarque-Bera (JB):  </th> <td>   4.980</td>\n",
       "</tr>\n",
       "<tr>\n",
       "  <th>Skew:</th>          <td>-0.145</td> <th>  Prob(JB):          </th> <td>  0.0829</td>\n",
       "</tr>\n",
       "<tr>\n",
       "  <th>Kurtosis:</th>      <td> 2.537</td> <th>  Cond. No.          </th> <td>    970.</td>\n",
       "</tr>\n",
       "</table><br/><br/>Notes:<br/>[1] Standard Errors assume that the covariance matrix of the errors is correctly specified."
      ],
      "text/plain": [
       "<class 'statsmodels.iolib.summary.Summary'>\n",
       "\"\"\"\n",
       "                            OLS Regression Results                            \n",
       "==============================================================================\n",
       "Dep. Variable:                  Limit   R-squared:                       0.994\n",
       "Model:                            OLS   Adj. R-squared:                  0.994\n",
       "Method:                 Least Squares   F-statistic:                 6.348e+04\n",
       "Date:                Thu, 17 Feb 2022   Prob (F-statistic):               0.00\n",
       "Time:                        08:34:05   Log-Likelihood:                -2649.1\n",
       "No. Observations:                 400   AIC:                             5302.\n",
       "Df Residuals:                     398   BIC:                             5310.\n",
       "Df Model:                           1                                         \n",
       "Covariance Type:            nonrobust                                         \n",
       "==============================================================================\n",
       "                 coef    std err          t      P>|t|      [0.025      0.975]\n",
       "------------------------------------------------------------------------------\n",
       "const       -542.9282     22.850    -23.760      0.000    -587.851    -498.006\n",
       "Score         14.8716      0.059    251.949      0.000      14.756      14.988\n",
       "==============================================================================\n",
       "Omnibus:                        6.887   Durbin-Watson:                   2.080\n",
       "Prob(Omnibus):                  0.032   Jarque-Bera (JB):                4.980\n",
       "Skew:                          -0.145   Prob(JB):                       0.0829\n",
       "Kurtosis:                       2.537   Cond. No.                         970.\n",
       "==============================================================================\n",
       "\n",
       "Notes:\n",
       "[1] Standard Errors assume that the covariance matrix of the errors is correctly specified.\n",
       "\"\"\""
      ]
     },
     "execution_count": 11,
     "metadata": {},
     "output_type": "execute_result"
    }
   ],
   "source": [
    "x = sm.add_constant(X)\n",
    "\n",
    "model = sm.OLS(y, x).fit()\n",
    "\n",
    "model.summary()"
   ]
  },
  {
   "cell_type": "code",
   "execution_count": null,
   "id": "d7dafaa8",
   "metadata": {},
   "outputs": [],
   "source": []
  },
  {
   "cell_type": "markdown",
   "id": "5116b78f",
   "metadata": {},
   "source": [
    "Ou seja a função é | F(x) = 14.87*x -542.92 |"
   ]
  },
  {
   "cell_type": "code",
   "execution_count": null,
   "id": "625faacb",
   "metadata": {},
   "outputs": [],
   "source": []
  },
  {
   "cell_type": "markdown",
   "id": "afc37114",
   "metadata": {},
   "source": [
    "### Residuos da regressão"
   ]
  },
  {
   "cell_type": "code",
   "execution_count": 12,
   "id": "9d4cf346",
   "metadata": {},
   "outputs": [
    {
     "data": {
      "text/plain": [
       "<matplotlib.collections.PathCollection at 0x250060fab80>"
      ]
     },
     "execution_count": 12,
     "metadata": {},
     "output_type": "execute_result"
    },
    {
     "data": {
      "image/png": "[encoded data removed]",
      "text/plain": [
       "<Figure size 576x396 with 1 Axes>"
      ]
     },
     "metadata": {},
     "output_type": "display_data"
    }
   ],
   "source": [
    "plt.scatter(df['Limit'], model.resid)"
   ]
  },
  {
   "cell_type": "code",
   "execution_count": null,
   "id": "841ad327",
   "metadata": {},
   "outputs": [],
   "source": []
  }
 ],
 "metadata": {
  "kernelspec": {
   "display_name": "Python 3 (ipykernel)",
   "language": "python",
   "name": "python3"
  },
  "language_info": {
   "codemirror_mode": {
    "name": "ipython",
    "version": 3
   },
   "file_extension": ".py",
   "mimetype": "text/x-python",
   "name": "python",
   "nbconvert_exporter": "python",
   "pygments_lexer": "ipython3",
   "version": "3.9.7"
  }
 },
 "nbformat": 4,
 "nbformat_minor": 5
}
