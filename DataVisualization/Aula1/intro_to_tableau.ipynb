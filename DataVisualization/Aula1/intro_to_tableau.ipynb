{
 "cells": [
  {
   "cell_type": "markdown",
   "id": "b2c2da56",
   "metadata": {
    "heading_collapsed": true
   },
   "source": [
    "# Sua licença de estudante por um ano!"
   ]
  },
  {
   "cell_type": "markdown",
   "id": "9bfe6f77",
   "metadata": {
    "hidden": true
   },
   "source": [
    "1. Download Tableau Desktop 3 Tableau Prep Builder [aqui](https://www.tableau.com/tft/activation)\n",
    "1. Selecione “Download Tableau Desktop” e depois “Download Tableau Prep Builder”.\n",
    "1. Clique em \"Download Free Trial\"\n",
    "1. Activate with your product key:  `TCDK-C2CB-E8E0-623F-345E` \n",
    "1. Se já tiver uma versão instalada, atualize a licença em Help menu → Manage Product Keys"
   ]
  },
  {
   "cell_type": "code",
   "execution_count": null,
   "id": "b37753ef",
   "metadata": {
    "hidden": true
   },
   "outputs": [],
   "source": []
  },
  {
   "cell_type": "markdown",
   "id": "1826545c",
   "metadata": {
    "heading_collapsed": true
   },
   "source": [
    "# Quer ir além?"
   ]
  },
  {
   "cell_type": "markdown",
   "id": "653b140f",
   "metadata": {
    "hidden": true
   },
   "source": [
    "Explore a [página de recursos para estudantes](https://community.tableau.com/s/students)."
   ]
  },
  {
   "cell_type": "code",
   "execution_count": null,
   "id": "06009c3c",
   "metadata": {
    "hidden": true
   },
   "outputs": [],
   "source": []
  },
  {
   "cell_type": "markdown",
   "id": "f958221e",
   "metadata": {},
   "source": [
    "# Para que usar ferramentas de visualização e análise?"
   ]
  },
  {
   "cell_type": "markdown",
   "id": "4a020a15",
   "metadata": {
    "heading_collapsed": true
   },
   "source": [
    "## Ache respostas nos dados"
   ]
  },
  {
   "cell_type": "markdown",
   "id": "ef06d72c",
   "metadata": {
    "hidden": true
   },
   "source": [
    "[Escape the room](https://public.tableau.com/app/profile/mark.bradbourne/viz/EscapeRoom/CanYouEscape)"
   ]
  },
  {
   "cell_type": "markdown",
   "id": "512370a7",
   "metadata": {
    "heading_collapsed": true
   },
   "source": [
    "## Conte uma história"
   ]
  },
  {
   "cell_type": "markdown",
   "id": "0358d3da",
   "metadata": {
    "hidden": true
   },
   "source": [
    "[Pirâmides do Egito](https://public.tableau.com/app/profile/robertrouse/viz/Pyramids_1/EgyptianPyramids)\n",
    "[Polarização Política](https://public.tableau.com/app/profile/robertrouse/viz/USvsTHEM/USvs_THEM)"
   ]
  },
  {
   "cell_type": "markdown",
   "id": "1647291b",
   "metadata": {
    "heading_collapsed": true
   },
   "source": [
    "## O poder de um gráfico!"
   ]
  },
  {
   "cell_type": "markdown",
   "id": "942bd103",
   "metadata": {
    "hidden": true
   },
   "source": [
    "[FLORENCE NIGHTINGALE](https://www.sciencemuseum.org.uk/objects-and-stories/florence-nightingale-pioneer-statistician)"
   ]
  },
  {
   "cell_type": "code",
   "execution_count": null,
   "id": "2c025c37",
   "metadata": {
    "hidden": true
   },
   "outputs": [],
   "source": []
  }
 ],
 "metadata": {
  "kernelspec": {
   "display_name": "Python 3",
   "language": "python",
   "name": "python3"
  },
  "language_info": {
   "codemirror_mode": {
    "name": "ipython",
    "version": 3
   },
   "file_extension": ".py",
   "mimetype": "text/x-python",
   "name": "python",
   "nbconvert_exporter": "python",
   "pygments_lexer": "ipython3",
   "version": "3.8.8"
  },
  "toc": {
   "base_numbering": 1,
   "nav_menu": {},
   "number_sections": true,
   "sideBar": true,
   "skip_h1_title": false,
   "title_cell": "Table of Contents",
   "title_sidebar": "Contents",
   "toc_cell": false,
   "toc_position": {},
   "toc_section_display": true,
   "toc_window_display": true
  }
 },
 "nbformat": 4,
 "nbformat_minor": 5
}
