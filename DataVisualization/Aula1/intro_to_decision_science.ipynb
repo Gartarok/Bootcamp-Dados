{
 "cells": [
  {
   "cell_type": "markdown",
   "id": "63b4c9d6",
   "metadata": {
    "heading_collapsed": true
   },
   "source": [
    "# Decision Science: Para que serve?"
   ]
  },
  {
   "cell_type": "markdown",
   "id": "6544abbd",
   "metadata": {
    "hidden": true
   },
   "source": [
    "[O Guia Completo Sobre Data Science: Tudo O Que Você Precisa Saber!](https://letscode.com.br/blog/o-guia-completo-sobre-data-science-tudo-o-que-voce-precisa-saber)\n",
    "\n",
    "\n",
    "![img1](https://miro.medium.com/max/2000/0*U9CJoBFVjzRI3odH.png)"
   ]
  },
  {
   "cell_type": "code",
   "execution_count": null,
   "id": "2e64d594",
   "metadata": {
    "hidden": true
   },
   "outputs": [],
   "source": []
  },
  {
   "cell_type": "markdown",
   "id": "91363c67",
   "metadata": {
    "heading_collapsed": true
   },
   "source": [
    "# Arquitetura de Dados "
   ]
  },
  {
   "cell_type": "markdown",
   "id": "63085405",
   "metadata": {
    "hidden": true
   },
   "source": [
    "**A arquitetura de dados** é um daqueles componentes invisíveis, mas que, quando falham, podem comprometer seriamente a performance de uma empresa e seus profissionais.* É a forma para organizar seus dados, ativos digitais e as relações entre eles.\n",
    "\n",
    "Uma arquitetura eficiente é aquela que garante o **acesso aos dados com segurança, no tempo adequado e de forma inteligível** para seus usuários.\n",
    "\n",
    "![img2](https://www.fiveacts.com.br/wp-content/webp-express/webp-images/doc-root/wp-content/uploads/2021/02/gestao-de-dados-e-informacoes.jpg.webp)\n",
    "\n",
    "1. **SEGURANÇA**\n",
    "2. **FLEXIBILIDADE**\n",
    "3. **COLABORAÇÃO**\n",
    "4. **INTELIGÊNCIA**\n",
    "5. **AUTOMAÇÃO**\n",
    "6. **ORIENTADA PARA RESULTADOS**\n",
    "\n",
    "Nós podemos construir uma casa habitável, mas mal projetada, fazendo com que a luz do sol se direcione sobre os cômodos na pior hora possível.\n",
    "\n",
    "O mesmo se aplica à **Arquitetura de Dados**, onde um projeto mal feito pode não só dificultar o acesso aos dados como comprometê-los de forma difícil de contornar."
   ]
  },
  {
   "cell_type": "code",
   "execution_count": null,
   "id": "b2c94cd0",
   "metadata": {
    "hidden": true
   },
   "outputs": [],
   "source": []
  },
  {
   "cell_type": "markdown",
   "id": "d3b0ca95",
   "metadata": {
    "heading_collapsed": true
   },
   "source": [
    "# Análise de dados"
   ]
  },
  {
   "cell_type": "markdown",
   "id": "86e13844",
   "metadata": {
    "hidden": true
   },
   "source": [
    "\n",
    "*A **Análise de Dados** é a arte de transformar dados em conhecimentos e insights relevantes.*\n",
    "\n",
    "![img3](https://miro.medium.com/max/848/1*eTkbro695IQB_UPUGk1WSw.jpeg)"
   ]
  },
  {
   "cell_type": "code",
   "execution_count": null,
   "id": "61d8421c",
   "metadata": {
    "hidden": true
   },
   "outputs": [],
   "source": []
  },
  {
   "attachments": {},
   "cell_type": "markdown",
   "id": "b3284095",
   "metadata": {
    "heading_collapsed": true
   },
   "source": [
    "# Etapas da tomada de decisão com dados"
   ]
  },
  {
   "cell_type": "markdown",
   "id": "72ab24b3",
   "metadata": {
    "heading_collapsed": true,
    "hidden": true
   },
   "source": [
    "## Faça perguntas: Definição do problema a ser resolvido"
   ]
  },
  {
   "cell_type": "markdown",
   "id": "b5393e6c",
   "metadata": {
    "hidden": true
   },
   "source": [
    "![einstein](https://www.azquotes.com/picture-quotes/quote-if-i-had-an-hour-to-solve-a-problem-i-d-spend-55-minutes-thinking-about-the-problem-albert-einstein-36-1-0150.jpg)\n"
   ]
  },
  {
   "cell_type": "markdown",
   "id": "e2659899",
   "metadata": {
    "heading_collapsed": true,
    "hidden": true
   },
   "source": [
    "## Defina o que medir: KPI's / métricas\n"
   ]
  },
  {
   "cell_type": "markdown",
   "id": "ebd091d4",
   "metadata": {
    "hidden": true
   },
   "source": [
    "![oque](https://memegenerator.net/img/instances/54802779.jpg)"
   ]
  },
  {
   "cell_type": "markdown",
   "id": "6818072a",
   "metadata": {
    "heading_collapsed": true,
    "hidden": true
   },
   "source": [
    "## Defina como medir"
   ]
  },
  {
   "cell_type": "markdown",
   "id": "2cc3f390",
   "metadata": {
    "hidden": true
   },
   "source": [
    "![como](https://media.makeameme.org/created/i-can-measure-a5781df603.jpg)"
   ]
  },
  {
   "cell_type": "markdown",
   "id": "2074f03c",
   "metadata": {
    "heading_collapsed": true,
    "hidden": true
   },
   "source": [
    "## Faça a coleta de dados: Análise Exploratória e Preparação dos dados"
   ]
  },
  {
   "cell_type": "markdown",
   "id": "c81e3dff",
   "metadata": {
    "hidden": true
   },
   "source": [
    "![collect](https://memegenerator.net/img/instances/75031594.jpg)"
   ]
  },
  {
   "cell_type": "markdown",
   "id": "a6715d0c",
   "metadata": {
    "heading_collapsed": true,
    "hidden": true
   },
   "source": [
    "## Faça a análise: entender ou prever situações com base nos dados"
   ]
  },
  {
   "cell_type": "markdown",
   "id": "43d9e523",
   "metadata": {
    "hidden": true
   },
   "source": [
    "![image-5.png](https://149695847.v2.pressablecdn.com/wp-content/uploads/2017/06/ea8853d740994d7a23b587d20033c262.jpg)"
   ]
  },
  {
   "cell_type": "markdown",
   "id": "bbbe2ba6",
   "metadata": {
    "heading_collapsed": true,
    "hidden": true
   },
   "source": [
    "## Visualize e interprete os resultados"
   ]
  },
  {
   "cell_type": "markdown",
   "id": "4a51b016",
   "metadata": {
    "hidden": true
   },
   "source": [
    "![viz](https://i.kym-cdn.com/entries/icons/original/000/021/464/14608107_1180665285312703_1558693314_n.jpg)"
   ]
  },
  {
   "cell_type": "markdown",
   "id": "64996860",
   "metadata": {
    "heading_collapsed": true,
    "hidden": true
   },
   "source": [
    "## Tome decisões"
   ]
  },
  {
   "cell_type": "markdown",
   "id": "d60c3180",
   "metadata": {
    "hidden": true
   },
   "source": [
    "![decision](https://miro.medium.com/max/500/1*ZhYNqU2y96_f3QkWq9oiWQ.jpeg)"
   ]
  },
  {
   "cell_type": "code",
   "execution_count": null,
   "id": "373dda65",
   "metadata": {
    "hidden": true
   },
   "outputs": [],
   "source": []
  },
  {
   "attachments": {},
   "cell_type": "markdown",
   "id": "7ef4ec8f",
   "metadata": {
    "heading_collapsed": true
   },
   "source": [
    "# Métricas e KPIs"
   ]
  },
  {
   "cell_type": "markdown",
   "id": "333ab926",
   "metadata": {
    "hidden": true
   },
   "source": [
    "As **métricas** são informações sobre o negócio, os **KPIs** são resultados de alguma ação que foi tomada com base nas métricas.\n",
    "\n",
    "![kpis](https://marketoonist.com/wp-content/uploads/2019/11/191111.roi_.jpg)\n",
    "\n",
    "\n",
    "## Métricas\n",
    "\n",
    "Possibilitam mensurar, monitorar e gerir as estratégias de uma empresa. Elas apresentam informações sobre quais estratégias devem ser continuadas, aperfeiçoadas ou abandonadas.\n",
    "\n",
    "## KPI's\n",
    "\n",
    "**KPIs** ou **Indicadores chave de desempenho**, são criados a partir das métricas. São eles que indicam de forma percentual ou numérica o resultado de uma ação e por onde é avaliado o desempenho da organização.\n",
    "\n",
    "\n",
    "1. **Indicadores de produtividade**\n",
    "2. **Indicadores de capacidade**\n",
    "3. **Indicadores de qualidade**\n",
    "4. **Indicadores estratégicos**"
   ]
  },
  {
   "cell_type": "code",
   "execution_count": null,
   "id": "8a838a52",
   "metadata": {
    "hidden": true
   },
   "outputs": [],
   "source": []
  }
 ],
 "metadata": {
  "kernelspec": {
   "display_name": "Python 3",
   "language": "python",
   "name": "python3"
  },
  "language_info": {
   "codemirror_mode": {
    "name": "ipython",
    "version": 3
   },
   "file_extension": ".py",
   "mimetype": "text/x-python",
   "name": "python",
   "nbconvert_exporter": "python",
   "pygments_lexer": "ipython3",
   "version": "3.8.8"
  },
  "toc": {
   "base_numbering": 1,
   "nav_menu": {},
   "number_sections": true,
   "sideBar": true,
   "skip_h1_title": false,
   "title_cell": "Table of Contents",
   "title_sidebar": "Contents",
   "toc_cell": false,
   "toc_position": {},
   "toc_section_display": true,
   "toc_window_display": true
  }
 },
 "nbformat": 4,
 "nbformat_minor": 5
}
