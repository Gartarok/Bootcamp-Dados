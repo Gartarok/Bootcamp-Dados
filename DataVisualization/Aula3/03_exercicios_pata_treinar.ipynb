{
 "cells": [
  {
   "cell_type": "markdown",
   "id": "a80b78be",
   "metadata": {},
   "source": [
    "# Análises individuais"
   ]
  },
  {
   "cell_type": "markdown",
   "id": "c08afcf9",
   "metadata": {},
   "source": [
    "## RH "
   ]
  },
  {
   "cell_type": "markdown",
   "id": "fbb58b14",
   "metadata": {},
   "source": [
    "1. O RH quer premiar os colaboradores com um placa metálica por tempo de empresa. Crie uma tabela `nome_completo | data_admissao | premio` onde a coluna `premio` contenha a palavra OURO para quem está a mais de 30 anos na empresa, PRATA para quem está a mais de 25 anos e ESPERAR para os demais.\n",
    "    1. Quantas placas de cada material será preciso confeccionar? \n",
    "\n",
    "1. A empresa está passando por uma reestruturação e precisa saber quantos funcionários estão alocados em cada departamento, bem como o total e a média de salários deles. Faça um relatório no formato `nome_departamento | numero_funcionarios | salario_total | salario_medio` ordenado por salario medio, do maior para o menor. Os números decimais devem conter duas casas após a virgula.\n",
    "\n",
    "1. um relatório para descobrir quais os três departamentos que mais gastam com salários incluindo valor absoluto e relativo ao total da empresa de cada um e em quais paises eles estão localizados."
   ]
  },
  {
   "cell_type": "markdown",
   "id": "22cee3dc",
   "metadata": {},
   "source": [
    "## Nortwind"
   ]
  },
  {
   "cell_type": "markdown",
   "id": "ea754e4f",
   "metadata": {},
   "source": [
    "1. Uma lista de clientes com o respetivo número de pedidos ordenados em ordem decrescente de nº de pedidos. \n",
    "\n",
    "1. Criar uma tabela com: `categoria|numero_de_pedidos|valor_total|media_de_valores`, onde a categoria é definida de acordo com o preço total (incluindo frete) como:\n",
    "    - Gold: valor_total >= 5.000\n",
    "    - Silver: 1.000 <= valor_total < 5.000\n",
    "    - Bronze: valor_total < 1000\n",
    "    \n",
    "1. Compare o valor de cada ordem com o valor total de vendas.\n",
    "    1. Crie um ranque da participação das ordens no valor total vendido."
   ]
  },
  {
   "cell_type": "code",
   "execution_count": null,
   "id": "0e9aec9f",
   "metadata": {},
   "outputs": [],
   "source": []
  },
  {
   "cell_type": "markdown",
   "id": "6ffa8449",
   "metadata": {},
   "source": [
    "# Dashboards"
   ]
  },
  {
   "cell_type": "markdown",
   "id": "c720453f",
   "metadata": {},
   "source": [
    "Faça um dashboard com gráficos, tabelas e filtros para responder às perguntas abaixo. Use a base `northwind`. \n"
   ]
  },
  {
   "cell_type": "markdown",
   "id": "838b8245",
   "metadata": {},
   "source": [
    "1. Qual valor médio das vendas em cada mês?\n",
    "    1. Qual a variação de um mês comparado com o anterior?\n",
    "\n",
    "1. Quantas unidades de produtos foram compradas e qual o valor total gasto por cada consumidor em cada fornecedor?\n",
    "1. Qual o valor total vendido por cada funcionário (total e por fornecedor)? \n",
    "\n",
    "1. Quantos clientes fizeram mais de 10 pedidos?\n",
    "1. Quantos vendedores tiveram menos de 70 pedidos?\n",
    "1. Qual a média dos valores por pedido de cada vendedor?\n",
    "1. Quantas ordens apresentam pelo menos um item com desconto?\n",
    "1. Qual a fração do valor vendido por cada cada vendedor em relação ao valor total das vendas?"
   ]
  }
 ],
 "metadata": {
  "kernelspec": {
   "display_name": "Python 3",
   "language": "python",
   "name": "python3"
  },
  "language_info": {
   "codemirror_mode": {
    "name": "ipython",
    "version": 3
   },
   "file_extension": ".py",
   "mimetype": "text/x-python",
   "name": "python",
   "nbconvert_exporter": "python",
   "pygments_lexer": "ipython3",
   "version": "3.8.8"
  },
  "toc": {
   "base_numbering": 1,
   "nav_menu": {},
   "number_sections": true,
   "sideBar": true,
   "skip_h1_title": false,
   "title_cell": "Table of Contents",
   "title_sidebar": "Contents",
   "toc_cell": false,
   "toc_position": {},
   "toc_section_display": true,
   "toc_window_display": false
  }
 },
 "nbformat": 4,
 "nbformat_minor": 5
}
