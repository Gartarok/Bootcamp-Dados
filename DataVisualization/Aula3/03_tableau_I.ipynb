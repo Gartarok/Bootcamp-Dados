{
 "cells": [
  {
   "cell_type": "markdown",
   "id": "01ea5bf4",
   "metadata": {},
   "source": [
    "# Visualização e manipulação de dados"
   ]
  },
  {
   "cell_type": "markdown",
   "id": "a46d3636",
   "metadata": {},
   "source": [
    "**Para pensar:** Descreva em poucas palavras o que o Tableau (ou ferramnetas similares como o Power BI) faz."
   ]
  },
  {
   "cell_type": "markdown",
   "id": "b82bf82d",
   "metadata": {},
   "source": [
    "> Uma ferramenta gráfica que facilita a criação de queries complexas."
   ]
  },
  {
   "cell_type": "code",
   "execution_count": null,
   "id": "ece29b93",
   "metadata": {},
   "outputs": [],
   "source": []
  },
  {
   "cell_type": "markdown",
   "id": "a5461964",
   "metadata": {},
   "source": [
    "## Roteiro"
   ]
  },
  {
   "cell_type": "markdown",
   "id": "90792c93",
   "metadata": {},
   "source": [
    "- [Instalar](https://www.dropbox.com/sh/nw81o5g3fo7ih6y/AAALfOWBhO0MnzrBRqYKpg4Aa?dl=0) Tableau\n",
    "    - Documentação em [português](https://help.tableau.com/current/pro/desktop/pt-br/default.htm)\n",
    "\n",
    "- [Conectar aos dados](https://help.tableau.com/current/pro/desktop/en-us/examples_tableauserver.htm)\n",
    "        - csv / folder\n",
    "        - Database\n",
    "\n",
    "- [Modelo de dados](https://www.tableau.com/about/blog/2020/5/relationships-part-1-meet-new-tableau-data-model?_ga=2.229765919.245965268.1643717512-1222308017.1642093811)\n",
    "\n",
    "- [Criar gráficos e/ou tabelas](https://help.tableau.com/current/pro/desktop/en-us/datafields_typesandroles.htm)\n",
    "        \n",
    "- [Filtros](https://www.tableau.com/about/blog/2020/5/relationships-part-2-tips-and-tricks?_ga=2.229765919.245965268.1643717512-1222308017.1642093811)\n",
    "\n",
    "- Campos calculados\n",
    "    - [Tabela única](https://help.tableau.com/current/pro/desktop/en-us/calculations_calculatedfields_create.htm)\n",
    "    - [Tabelas Múltiplas](https://www.tableau.com/about/blog/2020/6/relationships-part-3-asking-questions-across-multiple-related-tables?_ga=2.229765919.245965268.1643717512-1222308017.1642093811)\n",
    "        \n",
    "\n",
    "\n",
    "- Opcional: Passeio por um exemplo real (e maluco, mas em Power BI)\n"
   ]
  },
  {
   "cell_type": "code",
   "execution_count": null,
   "id": "b7419d4e",
   "metadata": {},
   "outputs": [],
   "source": []
  },
  {
   "cell_type": "markdown",
   "id": "8d0ac5ff",
   "metadata": {},
   "source": [
    "# Execício"
   ]
  },
  {
   "cell_type": "markdown",
   "id": "31fa239d",
   "metadata": {},
   "source": [
    "> 1. Conecte o Tableau à base `northwind`, criada no Postgres no módulo de [SQL](https://www.dropbox.com/sh/gas3hqar8wep8xk/AADBygvTrFUYDOFOEkTT2p3Pa?dl=0).\n",
    "> 1. Crie o modelo de dados dessa base no Tableau.\n",
    "> 1. Crie uma tabela no worksheet que dê o total de itens vendidos, bem como a soma dos valores unitários e o valor total agrupados pelo nome do vendedor. \n",
    "> 1. Crie um filtro de período. \n",
    "\n",
    "**Dica:** Use suas habilidades de SQL para construir a query no pgAdmin (Postegres) e comparar os resultados."
   ]
  },
  {
   "cell_type": "markdown",
   "id": "3fc18007",
   "metadata": {},
   "source": [
    "<details> \n",
    "    <summary> 🙆‍♂️ Query em SQL (faça antes de olhar!) 🙋‍ </summary>\n",
    "            <code>\n",
    "select e.first_name, sum(od.quantity) quantidade, sum(od.unit_price) valor_unitario, sum(od.quantity*od.unit_price) valor_total   \n",
    "from order_details od\n",
    "join orders o on o.order_id = od.order_id \n",
    "join employees e on e.employee_id = o.employee_id\n",
    "--where o.order_date between '1996-06-01' and '1996-12-30'\n",
    "group by e.first_name\n",
    "order by 1\n",
    "<code\\>\n"
   ]
  },
  {
   "cell_type": "code",
   "execution_count": null,
   "id": "38521c65",
   "metadata": {},
   "outputs": [],
   "source": []
  }
 ],
 "metadata": {
  "kernelspec": {
   "display_name": "Python 3",
   "language": "python",
   "name": "python3"
  },
  "language_info": {
   "codemirror_mode": {
    "name": "ipython",
    "version": 3
   },
   "file_extension": ".py",
   "mimetype": "text/x-python",
   "name": "python",
   "nbconvert_exporter": "python",
   "pygments_lexer": "ipython3",
   "version": "3.8.8"
  },
  "toc": {
   "base_numbering": 1,
   "nav_menu": {},
   "number_sections": true,
   "sideBar": true,
   "skip_h1_title": false,
   "title_cell": "Table of Contents",
   "title_sidebar": "Contents",
   "toc_cell": false,
   "toc_position": {},
   "toc_section_display": true,
   "toc_window_display": true
  }
 },
 "nbformat": 4,
 "nbformat_minor": 5
}
