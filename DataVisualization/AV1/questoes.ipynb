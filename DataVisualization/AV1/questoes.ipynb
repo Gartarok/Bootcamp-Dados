{
 "cells": [
  {
   "cell_type": "markdown",
   "metadata": {},
   "source": [
    "# Data Viz"
   ]
  },
  {
   "cell_type": "markdown",
   "metadata": {},
   "source": [
    "##\tA partir da avaliação crítica do seguinte gráfico:\n",
    "\n",
    "![questao1](questao1_img.png)\n",
    "\n",
    "a)\tAponte ao menos **5 modificações** que poderiam ser aplicadas para melhora visual, justificando suas escolhas.\n"
   ]
  },
  {
   "cell_type": "markdown",
   "metadata": {},
   "source": [
    "> 1. Remoção do fundo verde com borda vermelha. Isso é uma 'feature' poluição visual gratuita.\n",
    "\n",
    "> 2. O número de vendas é um valor inteiro, não há sentido em ter duas casas decimais na escala. Logo, devamos remover essas casas decimais.\n",
    "\n",
    "> 3."
   ]
  },
  {
   "cell_type": "markdown",
   "metadata": {},
   "source": [
    "b)\tSe o objetivo fosse comunicar e enfatizar o cliente de maior taxa de crescimento no período considerado, qual seria a melhor escolha gráfica? Qual recurso usaria para enfatizar esse crescimento? "
   ]
  },
  {
   "cell_type": "markdown",
   "metadata": {},
   "source": [
    "> Para esse fim um *gráfico de linha* seria melhor. O recurso adequado para enfatizar isso é uma *curva de tendência*"
   ]
  },
  {
   "cell_type": "markdown",
   "metadata": {},
   "source": [
    "## Para cada tipo de visualização listada a seguir, indique ao menos **dois exemplos** de uso, justificando suas escolhas.\n",
    "\n",
    "a)\tLinhas\n",
    "\n",
    "b)\tBarras\n",
    "\n",
    "c)\tTexto simples\n",
    "\n",
    "d)\tMapa de Calor (heatmap)\n",
    "\n",
    "e)\tGráfico de dispersão (scatterplot)\n"
   ]
  },
  {
   "cell_type": "code",
   "execution_count": null,
   "metadata": {},
   "outputs": [],
   "source": []
  }
 ],
 "metadata": {
  "kernelspec": {
   "display_name": "Python 3",
   "language": "python",
   "name": "python3"
  },
  "language_info": {
   "codemirror_mode": {
    "name": "ipython",
    "version": 3
   },
   "file_extension": ".py",
   "mimetype": "text/x-python",
   "name": "python",
   "nbconvert_exporter": "python",
   "pygments_lexer": "ipython3",
   "version": "3.8.8"
  },
  "toc": {
   "base_numbering": 1,
   "nav_menu": {},
   "number_sections": true,
   "sideBar": true,
   "skip_h1_title": false,
   "title_cell": "Table of Contents",
   "title_sidebar": "Contents",
   "toc_cell": false,
   "toc_position": {},
   "toc_section_display": true,
   "toc_window_display": true
  }
 },
 "nbformat": 4,
 "nbformat_minor": 2
}
