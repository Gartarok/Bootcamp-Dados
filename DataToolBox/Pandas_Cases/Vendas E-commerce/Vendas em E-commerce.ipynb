{
 "cells": [
  {
   "cell_type": "markdown",
   "metadata": {},
   "source": [
    "# Case 03: Vendas em E-commerce\n",
    "---\n",
    "\n",
    "<img src=\"https://selecao.letscode.com.br/favicon.png\" width=\"40px\" style=\"position: absolute; top: 1rem; right: 40px; border-radius: 5px;\" />"
   ]
  },
  {
   "cell_type": "markdown",
   "metadata": {},
   "source": [
    "## Importação das bibliotecas\n",
    "\n",
    "- Dados\n",
    "- Visualização gráfica\n",
    "- Definição de temas dos gráficos"
   ]
  },
  {
   "cell_type": "code",
   "execution_count": 35,
   "metadata": {},
   "outputs": [],
   "source": [
    "import numpy as np\n",
    "import pandas as pd\n",
    "import seaborn as sns"
   ]
  },
  {
   "cell_type": "markdown",
   "metadata": {},
   "source": [
    "## Carregando o dataset"
   ]
  },
  {
   "cell_type": "code",
   "execution_count": 36,
   "metadata": {},
   "outputs": [],
   "source": [
    "df = pd.read_csv('datasets/vendas.csv')"
   ]
  },
  {
   "cell_type": "markdown",
   "metadata": {
    "tags": []
   },
   "source": [
    "#### Analise as cinco primeiras linhas do seu conjunto de dados"
   ]
  },
  {
   "cell_type": "code",
   "execution_count": 37,
   "metadata": {
    "scrolled": true
   },
   "outputs": [
    {
     "data": {
      "text/html": [
       "<div>\n",
       "<style scoped>\n",
       "    .dataframe tbody tr th:only-of-type {\n",
       "        vertical-align: middle;\n",
       "    }\n",
       "\n",
       "    .dataframe tbody tr th {\n",
       "        vertical-align: top;\n",
       "    }\n",
       "\n",
       "    .dataframe thead th {\n",
       "        text-align: right;\n",
       "    }\n",
       "</style>\n",
       "<table border=\"1\" class=\"dataframe\">\n",
       "  <thead>\n",
       "    <tr style=\"text-align: right;\">\n",
       "      <th></th>\n",
       "      <th>amostra</th>\n",
       "      <th>id_cliente</th>\n",
       "      <th>id_unico_cliente</th>\n",
       "      <th>item_id</th>\n",
       "      <th>cep_cliente</th>\n",
       "      <th>cidade_cliente</th>\n",
       "      <th>estado_cliente</th>\n",
       "      <th>id_pedido</th>\n",
       "      <th>status_pedido</th>\n",
       "      <th>horario_pedido</th>\n",
       "      <th>...</th>\n",
       "      <th>pagamento_sequencial</th>\n",
       "      <th>pagamento_tipo</th>\n",
       "      <th>pagamento_prestacoes</th>\n",
       "      <th>pagamento_valor</th>\n",
       "      <th>review</th>\n",
       "      <th>categoria</th>\n",
       "      <th>categoria_ingles</th>\n",
       "      <th>cep_vendedor</th>\n",
       "      <th>cidade_vendedor</th>\n",
       "      <th>estado_vendedor</th>\n",
       "    </tr>\n",
       "  </thead>\n",
       "  <tbody>\n",
       "    <tr>\n",
       "      <th>0</th>\n",
       "      <td>0</td>\n",
       "      <td>06b8999e2fba1a1fbc88172c00ba8bc7</td>\n",
       "      <td>861eff4711a542e4b93843c6dd7febb0</td>\n",
       "      <td>1</td>\n",
       "      <td>14409</td>\n",
       "      <td>franca</td>\n",
       "      <td>SP</td>\n",
       "      <td>00e7ee1b050b8499577073aeb2a297a1</td>\n",
       "      <td>delivered</td>\n",
       "      <td>2017-05-16 15:05:35</td>\n",
       "      <td>...</td>\n",
       "      <td>1</td>\n",
       "      <td>credit_card</td>\n",
       "      <td>2</td>\n",
       "      <td>146.87</td>\n",
       "      <td>4</td>\n",
       "      <td>moveis_escritorio</td>\n",
       "      <td>office_furniture</td>\n",
       "      <td>8577</td>\n",
       "      <td>itaquaquecetuba</td>\n",
       "      <td>SP</td>\n",
       "    </tr>\n",
       "    <tr>\n",
       "      <th>1</th>\n",
       "      <td>1</td>\n",
       "      <td>8912fc0c3bbf1e2fbf35819e21706718</td>\n",
       "      <td>9eae34bbd3a474ec5d07949ca7de67c0</td>\n",
       "      <td>1</td>\n",
       "      <td>68030</td>\n",
       "      <td>santarem</td>\n",
       "      <td>PA</td>\n",
       "      <td>c1d2b34febe9cd269e378117d6681172</td>\n",
       "      <td>delivered</td>\n",
       "      <td>2017-11-09 00:50:13</td>\n",
       "      <td>...</td>\n",
       "      <td>1</td>\n",
       "      <td>credit_card</td>\n",
       "      <td>1</td>\n",
       "      <td>275.79</td>\n",
       "      <td>1</td>\n",
       "      <td>moveis_escritorio</td>\n",
       "      <td>office_furniture</td>\n",
       "      <td>8577</td>\n",
       "      <td>itaquaquecetuba</td>\n",
       "      <td>SP</td>\n",
       "    </tr>\n",
       "    <tr>\n",
       "      <th>2</th>\n",
       "      <td>2</td>\n",
       "      <td>8912fc0c3bbf1e2fbf35819e21706718</td>\n",
       "      <td>9eae34bbd3a474ec5d07949ca7de67c0</td>\n",
       "      <td>2</td>\n",
       "      <td>68030</td>\n",
       "      <td>santarem</td>\n",
       "      <td>PA</td>\n",
       "      <td>c1d2b34febe9cd269e378117d6681172</td>\n",
       "      <td>delivered</td>\n",
       "      <td>2017-11-09 00:50:13</td>\n",
       "      <td>...</td>\n",
       "      <td>1</td>\n",
       "      <td>credit_card</td>\n",
       "      <td>1</td>\n",
       "      <td>275.79</td>\n",
       "      <td>1</td>\n",
       "      <td>moveis_escritorio</td>\n",
       "      <td>office_furniture</td>\n",
       "      <td>8577</td>\n",
       "      <td>itaquaquecetuba</td>\n",
       "      <td>SP</td>\n",
       "    </tr>\n",
       "    <tr>\n",
       "      <th>3</th>\n",
       "      <td>3</td>\n",
       "      <td>f0ac8e5a239118859b1734e1087cbb1f</td>\n",
       "      <td>3c799d181c34d51f6d44bbbc563024db</td>\n",
       "      <td>1</td>\n",
       "      <td>92480</td>\n",
       "      <td>nova santa rita</td>\n",
       "      <td>RS</td>\n",
       "      <td>b1a5d5365d330d10485e0203d54ab9e8</td>\n",
       "      <td>delivered</td>\n",
       "      <td>2017-05-07 20:11:26</td>\n",
       "      <td>...</td>\n",
       "      <td>1</td>\n",
       "      <td>credit_card</td>\n",
       "      <td>7</td>\n",
       "      <td>140.61</td>\n",
       "      <td>3</td>\n",
       "      <td>moveis_escritorio</td>\n",
       "      <td>office_furniture</td>\n",
       "      <td>8577</td>\n",
       "      <td>itaquaquecetuba</td>\n",
       "      <td>SP</td>\n",
       "    </tr>\n",
       "    <tr>\n",
       "      <th>4</th>\n",
       "      <td>4</td>\n",
       "      <td>6bc8d08963a135220ed6c6d098831f84</td>\n",
       "      <td>23397e992b09769faf5e66f9e171a241</td>\n",
       "      <td>1</td>\n",
       "      <td>25931</td>\n",
       "      <td>mage</td>\n",
       "      <td>RJ</td>\n",
       "      <td>2e604b3614664aa66867856dba7e61b7</td>\n",
       "      <td>delivered</td>\n",
       "      <td>2018-02-03 19:45:40</td>\n",
       "      <td>...</td>\n",
       "      <td>1</td>\n",
       "      <td>credit_card</td>\n",
       "      <td>10</td>\n",
       "      <td>137.58</td>\n",
       "      <td>4</td>\n",
       "      <td>moveis_escritorio</td>\n",
       "      <td>office_furniture</td>\n",
       "      <td>8577</td>\n",
       "      <td>itaquaquecetuba</td>\n",
       "      <td>SP</td>\n",
       "    </tr>\n",
       "  </tbody>\n",
       "</table>\n",
       "<p>5 rows × 27 columns</p>\n",
       "</div>"
      ],
      "text/plain": [
       "   amostra                        id_cliente  \\\n",
       "0        0  06b8999e2fba1a1fbc88172c00ba8bc7   \n",
       "1        1  8912fc0c3bbf1e2fbf35819e21706718   \n",
       "2        2  8912fc0c3bbf1e2fbf35819e21706718   \n",
       "3        3  f0ac8e5a239118859b1734e1087cbb1f   \n",
       "4        4  6bc8d08963a135220ed6c6d098831f84   \n",
       "\n",
       "                   id_unico_cliente  item_id  cep_cliente   cidade_cliente  \\\n",
       "0  861eff4711a542e4b93843c6dd7febb0        1        14409           franca   \n",
       "1  9eae34bbd3a474ec5d07949ca7de67c0        1        68030         santarem   \n",
       "2  9eae34bbd3a474ec5d07949ca7de67c0        2        68030         santarem   \n",
       "3  3c799d181c34d51f6d44bbbc563024db        1        92480  nova santa rita   \n",
       "4  23397e992b09769faf5e66f9e171a241        1        25931             mage   \n",
       "\n",
       "  estado_cliente                         id_pedido status_pedido  \\\n",
       "0             SP  00e7ee1b050b8499577073aeb2a297a1     delivered   \n",
       "1             PA  c1d2b34febe9cd269e378117d6681172     delivered   \n",
       "2             PA  c1d2b34febe9cd269e378117d6681172     delivered   \n",
       "3             RS  b1a5d5365d330d10485e0203d54ab9e8     delivered   \n",
       "4             RJ  2e604b3614664aa66867856dba7e61b7     delivered   \n",
       "\n",
       "        horario_pedido  ... pagamento_sequencial pagamento_tipo  \\\n",
       "0  2017-05-16 15:05:35  ...                    1    credit_card   \n",
       "1  2017-11-09 00:50:13  ...                    1    credit_card   \n",
       "2  2017-11-09 00:50:13  ...                    1    credit_card   \n",
       "3  2017-05-07 20:11:26  ...                    1    credit_card   \n",
       "4  2018-02-03 19:45:40  ...                    1    credit_card   \n",
       "\n",
       "  pagamento_prestacoes pagamento_valor review          categoria  \\\n",
       "0                    2          146.87      4  moveis_escritorio   \n",
       "1                    1          275.79      1  moveis_escritorio   \n",
       "2                    1          275.79      1  moveis_escritorio   \n",
       "3                    7          140.61      3  moveis_escritorio   \n",
       "4                   10          137.58      4  moveis_escritorio   \n",
       "\n",
       "   categoria_ingles  cep_vendedor  cidade_vendedor  estado_vendedor  \n",
       "0  office_furniture          8577  itaquaquecetuba               SP  \n",
       "1  office_furniture          8577  itaquaquecetuba               SP  \n",
       "2  office_furniture          8577  itaquaquecetuba               SP  \n",
       "3  office_furniture          8577  itaquaquecetuba               SP  \n",
       "4  office_furniture          8577  itaquaquecetuba               SP  \n",
       "\n",
       "[5 rows x 27 columns]"
      ]
     },
     "execution_count": 37,
     "metadata": {},
     "output_type": "execute_result"
    }
   ],
   "source": [
    "#Cinco primeiras linhas do conjunto\n",
    "df.head(5)"
   ]
  },
  {
   "cell_type": "code",
   "execution_count": 77,
   "metadata": {
    "scrolled": true
   },
   "outputs": [
    {
     "data": {
      "text/plain": [
       "895ab968e7bb0d5659d16cd74cd1650c    63\n",
       "fedcd9f7ccdc8cba3a18defedd1a5547    38\n",
       "fa65dad1b0e818e3ccc5cb0e39231352    29\n",
       "Name: id_pedido, dtype: int64"
      ]
     },
     "execution_count": 77,
     "metadata": {},
     "output_type": "execute_result"
    }
   ],
   "source": [
    "#Clientes que mais aparecem no Dataset\n",
    "df['id_pedido'].value_counts().head(3)"
   ]
  },
  {
   "cell_type": "code",
   "execution_count": 39,
   "metadata": {
    "scrolled": true
   },
   "outputs": [
    {
     "data": {
      "text/html": [
       "<div>\n",
       "<style scoped>\n",
       "    .dataframe tbody tr th:only-of-type {\n",
       "        vertical-align: middle;\n",
       "    }\n",
       "\n",
       "    .dataframe tbody tr th {\n",
       "        vertical-align: top;\n",
       "    }\n",
       "\n",
       "    .dataframe thead th {\n",
       "        text-align: right;\n",
       "    }\n",
       "</style>\n",
       "<table border=\"1\" class=\"dataframe\">\n",
       "  <thead>\n",
       "    <tr style=\"text-align: right;\">\n",
       "      <th></th>\n",
       "      <th>amostra</th>\n",
       "      <th>id_cliente</th>\n",
       "      <th>id_unico_cliente</th>\n",
       "      <th>item_id</th>\n",
       "      <th>cep_cliente</th>\n",
       "      <th>cidade_cliente</th>\n",
       "      <th>estado_cliente</th>\n",
       "      <th>id_pedido</th>\n",
       "      <th>status_pedido</th>\n",
       "      <th>horario_pedido</th>\n",
       "      <th>...</th>\n",
       "      <th>pagamento_sequencial</th>\n",
       "      <th>pagamento_tipo</th>\n",
       "      <th>pagamento_prestacoes</th>\n",
       "      <th>pagamento_valor</th>\n",
       "      <th>review</th>\n",
       "      <th>categoria</th>\n",
       "      <th>categoria_ingles</th>\n",
       "      <th>cep_vendedor</th>\n",
       "      <th>cidade_vendedor</th>\n",
       "      <th>estado_vendedor</th>\n",
       "    </tr>\n",
       "  </thead>\n",
       "  <tbody>\n",
       "    <tr>\n",
       "      <th>10568</th>\n",
       "      <td>10568</td>\n",
       "      <td>bbbb6bbcabbb1712d83b6d996869b412</td>\n",
       "      <td>219291a07997c4fc9a962719151bfa38</td>\n",
       "      <td>1</td>\n",
       "      <td>13820</td>\n",
       "      <td>monte alegre do sul</td>\n",
       "      <td>SP</td>\n",
       "      <td>9d4ff04268ad793e7cac36f6224d44dc</td>\n",
       "      <td>delivered</td>\n",
       "      <td>2018-08-13 14:36:26</td>\n",
       "      <td>...</td>\n",
       "      <td>1</td>\n",
       "      <td>credit_card</td>\n",
       "      <td>20</td>\n",
       "      <td>811.32</td>\n",
       "      <td>5</td>\n",
       "      <td>utilidades_domesticas</td>\n",
       "      <td>housewares</td>\n",
       "      <td>15076</td>\n",
       "      <td>sao jose do rio preto</td>\n",
       "      <td>SP</td>\n",
       "    </tr>\n",
       "  </tbody>\n",
       "</table>\n",
       "<p>1 rows × 27 columns</p>\n",
       "</div>"
      ],
      "text/plain": [
       "       amostra                        id_cliente  \\\n",
       "10568    10568  bbbb6bbcabbb1712d83b6d996869b412   \n",
       "\n",
       "                       id_unico_cliente  item_id  cep_cliente  \\\n",
       "10568  219291a07997c4fc9a962719151bfa38        1        13820   \n",
       "\n",
       "            cidade_cliente estado_cliente                         id_pedido  \\\n",
       "10568  monte alegre do sul             SP  9d4ff04268ad793e7cac36f6224d44dc   \n",
       "\n",
       "      status_pedido       horario_pedido  ... pagamento_sequencial  \\\n",
       "10568     delivered  2018-08-13 14:36:26  ...                    1   \n",
       "\n",
       "      pagamento_tipo pagamento_prestacoes pagamento_valor review  \\\n",
       "10568    credit_card                   20          811.32      5   \n",
       "\n",
       "                   categoria  categoria_ingles  cep_vendedor  \\\n",
       "10568  utilidades_domesticas        housewares         15076   \n",
       "\n",
       "             cidade_vendedor  estado_vendedor  \n",
       "10568  sao jose do rio preto               SP  \n",
       "\n",
       "[1 rows x 27 columns]"
      ]
     },
     "execution_count": 39,
     "metadata": {},
     "output_type": "execute_result"
    }
   ],
   "source": [
    "#aparentemente todos os clientes sempre tem id_cliente com um valor fixo para id_unico_cliente\n",
    "df[df['id_pedido']=='9d4ff04268ad793e7cac36f6224d44dc'].head(3)"
   ]
  },
  {
   "cell_type": "code",
   "execution_count": 40,
   "metadata": {},
   "outputs": [
    {
     "data": {
      "text/plain": [
       "1    58030\n",
       "2    13515\n",
       "3    11653\n",
       "Name: pagamento_prestacoes, dtype: int64"
      ]
     },
     "execution_count": 40,
     "metadata": {},
     "output_type": "execute_result"
    }
   ],
   "source": [
    "df['pagamento_prestacoes'].value_counts().head(3)"
   ]
  },
  {
   "cell_type": "markdown",
   "metadata": {},
   "source": [
    "#### Utilize o método `info()` para analisar as principais informações e o atributo `columns` para observar todas as colunas"
   ]
  },
  {
   "cell_type": "code",
   "execution_count": 41,
   "metadata": {
    "scrolled": true
   },
   "outputs": [
    {
     "name": "stdout",
     "output_type": "stream",
     "text": [
      "<class 'pandas.core.frame.DataFrame'>\n",
      "RangeIndex: 116581 entries, 0 to 116580\n",
      "Data columns (total 27 columns):\n",
      " #   Column                Non-Null Count   Dtype  \n",
      "---  ------                --------------   -----  \n",
      " 0   amostra               116581 non-null  int64  \n",
      " 1   id_cliente            116581 non-null  object \n",
      " 2   id_unico_cliente      116581 non-null  object \n",
      " 3   item_id               116581 non-null  int64  \n",
      " 4   cep_cliente           116581 non-null  int64  \n",
      " 5   cidade_cliente        116581 non-null  object \n",
      " 6   estado_cliente        116581 non-null  object \n",
      " 7   id_pedido             116581 non-null  object \n",
      " 8   status_pedido         116581 non-null  object \n",
      " 9   horario_pedido        116581 non-null  object \n",
      " 10  pedido_aprovado       116567 non-null  object \n",
      " 11  pedido_entregador     115368 non-null  object \n",
      " 12  pedido_entregue       114066 non-null  object \n",
      " 13  data_estimada         116581 non-null  object \n",
      " 14  id_vendedor           116581 non-null  object \n",
      " 15  preco                 116581 non-null  float64\n",
      " 16  frete                 116581 non-null  float64\n",
      " 17  pagamento_sequencial  116581 non-null  int64  \n",
      " 18  pagamento_tipo        116581 non-null  object \n",
      " 19  pagamento_prestacoes  116581 non-null  int64  \n",
      " 20  pagamento_valor       116581 non-null  float64\n",
      " 21  review                116581 non-null  int64  \n",
      " 22  categoria             116581 non-null  object \n",
      " 23  categoria_ingles      116581 non-null  object \n",
      " 24  cep_vendedor          116581 non-null  int64  \n",
      " 25  cidade_vendedor       116581 non-null  object \n",
      " 26  estado_vendedor       116581 non-null  object \n",
      "dtypes: float64(3), int64(7), object(17)\n",
      "memory usage: 24.0+ MB\n"
     ]
    }
   ],
   "source": [
    "df.info()"
   ]
  },
  {
   "cell_type": "code",
   "execution_count": 42,
   "metadata": {},
   "outputs": [
    {
     "data": {
      "text/plain": [
       "Index(['amostra', 'id_cliente', 'id_unico_cliente', 'item_id', 'cep_cliente',\n",
       "       'cidade_cliente', 'estado_cliente', 'id_pedido', 'status_pedido',\n",
       "       'horario_pedido', 'pedido_aprovado', 'pedido_entregador',\n",
       "       'pedido_entregue', 'data_estimada', 'id_vendedor', 'preco', 'frete',\n",
       "       'pagamento_sequencial', 'pagamento_tipo', 'pagamento_prestacoes',\n",
       "       'pagamento_valor', 'review', 'categoria', 'categoria_ingles',\n",
       "       'cep_vendedor', 'cidade_vendedor', 'estado_vendedor'],\n",
       "      dtype='object')"
      ]
     },
     "execution_count": 42,
     "metadata": {},
     "output_type": "execute_result"
    }
   ],
   "source": [
    "df.columns"
   ]
  },
  {
   "cell_type": "markdown",
   "metadata": {},
   "source": [
    "#### Verifique o tamanho do seu conjunto de dados"
   ]
  },
  {
   "cell_type": "code",
   "execution_count": 43,
   "metadata": {},
   "outputs": [
    {
     "data": {
      "text/plain": [
       "(116581, 27)"
      ]
     },
     "execution_count": 43,
     "metadata": {},
     "output_type": "execute_result"
    }
   ],
   "source": [
    "df.shape"
   ]
  },
  {
   "cell_type": "code",
   "execution_count": 95,
   "metadata": {},
   "outputs": [
    {
     "name": "stdout",
     "output_type": "stream",
     "text": [
      "97255\n"
     ]
    }
   ],
   "source": [
    "print(df['id_pedido'].nunique())"
   ]
  },
  {
   "cell_type": "markdown",
   "metadata": {},
   "source": [
    "#### Quais são os 5 estados com o maior número de compradores?\n",
    "\n",
    "> Analise, também, em termos percetuais das compras."
   ]
  },
  {
   "cell_type": "code",
   "execution_count": 96,
   "metadata": {},
   "outputs": [
    {
     "data": {
      "text/plain": [
       "SP    49133\n",
       "RJ    15185\n",
       "MG    13530\n",
       "RS     6436\n",
       "PR     5908\n",
       "Name: estado_cliente, dtype: int64"
      ]
     },
     "execution_count": 96,
     "metadata": {},
     "output_type": "execute_result"
    }
   ],
   "source": [
    "#Contagem total\n",
    "df['estado_cliente'].value_counts().head(5)"
   ]
  },
  {
   "cell_type": "code",
   "execution_count": 97,
   "metadata": {
    "scrolled": true
   },
   "outputs": [
    {
     "data": {
      "text/plain": [
       "SP    0.421449\n",
       "RJ    0.130253\n",
       "MG    0.116057\n",
       "RS    0.055206\n",
       "PR    0.050677\n",
       "Name: estado_cliente, dtype: float64"
      ]
     },
     "execution_count": 97,
     "metadata": {},
     "output_type": "execute_result"
    }
   ],
   "source": [
    "#Contagem percentual\n",
    "df['estado_cliente'].value_counts(normalize=True).head(5)"
   ]
  },
  {
   "cell_type": "markdown",
   "metadata": {},
   "source": [
    "### Clientes únicos"
   ]
  },
  {
   "cell_type": "code",
   "execution_count": 98,
   "metadata": {},
   "outputs": [
    {
     "data": {
      "text/plain": [
       "(97255, 28)"
      ]
     },
     "execution_count": 98,
     "metadata": {},
     "output_type": "execute_result"
    }
   ],
   "source": [
    "#Para cliente unicos\n",
    "d_unicos=df.drop_duplicates(subset =\"id_cliente\",keep = 'first', inplace = False) \n",
    "d_unicos.shape"
   ]
  },
  {
   "cell_type": "code",
   "execution_count": 99,
   "metadata": {},
   "outputs": [
    {
     "data": {
      "text/plain": [
       "SP    40800\n",
       "RJ    12569\n",
       "MG    11375\n",
       "RS     5351\n",
       "PR     4928\n",
       "Name: estado_cliente, dtype: int64"
      ]
     },
     "execution_count": 99,
     "metadata": {},
     "output_type": "execute_result"
    }
   ],
   "source": [
    "#Contagem total - Clientes Unicos\n",
    "d_unicos['estado_cliente'].value_counts().head(5)"
   ]
  },
  {
   "cell_type": "code",
   "execution_count": 100,
   "metadata": {},
   "outputs": [
    {
     "data": {
      "text/plain": [
       "SP    0.419516\n",
       "RJ    0.129238\n",
       "MG    0.116961\n",
       "RS    0.055020\n",
       "PR    0.050671\n",
       "Name: estado_cliente, dtype: float64"
      ]
     },
     "execution_count": 100,
     "metadata": {},
     "output_type": "execute_result"
    }
   ],
   "source": [
    "#Contagem percentual - Clientes Unicos\n",
    "d_unicos['estado_cliente'].value_counts(normalize=True).head(5)"
   ]
  },
  {
   "cell_type": "markdown",
   "metadata": {},
   "source": [
    "#### Quais são os 5 estados que mais vendem produtos?\n",
    "\n",
    "> Analise, também, em termos percetuais de vendas."
   ]
  },
  {
   "cell_type": "code",
   "execution_count": 101,
   "metadata": {},
   "outputs": [
    {
     "data": {
      "text/plain": [
       "SP    83121\n",
       "MG     9099\n",
       "PR     9029\n",
       "RJ     4949\n",
       "SC     4252\n",
       "Name: estado_vendedor, dtype: int64"
      ]
     },
     "execution_count": 101,
     "metadata": {},
     "output_type": "execute_result"
    }
   ],
   "source": [
    "#Contagem total\n",
    "df['estado_vendedor'].value_counts().head(5)"
   ]
  },
  {
   "cell_type": "code",
   "execution_count": 102,
   "metadata": {
    "scrolled": true
   },
   "outputs": [
    {
     "data": {
      "text/plain": [
       "SP    0.712989\n",
       "MG    0.078049\n",
       "PR    0.077448\n",
       "RJ    0.042451\n",
       "SC    0.036472\n",
       "Name: estado_vendedor, dtype: float64"
      ]
     },
     "execution_count": 102,
     "metadata": {},
     "output_type": "execute_result"
    }
   ],
   "source": [
    "#Contagem percentual\n",
    "df['estado_vendedor'].value_counts(normalize=True).head(5)"
   ]
  },
  {
   "cell_type": "markdown",
   "metadata": {},
   "source": [
    "### Vendedores únicos"
   ]
  },
  {
   "cell_type": "code",
   "execution_count": 103,
   "metadata": {},
   "outputs": [
    {
     "data": {
      "text/plain": [
       "(3033, 28)"
      ]
     },
     "execution_count": 103,
     "metadata": {},
     "output_type": "execute_result"
    }
   ],
   "source": [
    "#Para vendedores unicos\n",
    "v_unicos=df.drop_duplicates(subset =\"id_vendedor\",keep = 'first', inplace = False) \n",
    "v_unicos.shape"
   ]
  },
  {
   "cell_type": "code",
   "execution_count": 104,
   "metadata": {},
   "outputs": [
    {
     "data": {
      "text/plain": [
       "SP    1809\n",
       "PR     344\n",
       "MG     236\n",
       "SC     186\n",
       "RJ     170\n",
       "Name: estado_vendedor, dtype: int64"
      ]
     },
     "execution_count": 104,
     "metadata": {},
     "output_type": "execute_result"
    }
   ],
   "source": [
    "#Contagem total - Vendedores unicos\n",
    "v_unicos['estado_vendedor'].value_counts().head(5)"
   ]
  },
  {
   "cell_type": "code",
   "execution_count": 105,
   "metadata": {},
   "outputs": [
    {
     "data": {
      "text/plain": [
       "SP    0.596439\n",
       "PR    0.113419\n",
       "MG    0.077811\n",
       "SC    0.061325\n",
       "RJ    0.056050\n",
       "Name: estado_vendedor, dtype: float64"
      ]
     },
     "execution_count": 105,
     "metadata": {},
     "output_type": "execute_result"
    }
   ],
   "source": [
    "#Contagem percentual - vendedores unicos\n",
    "v_unicos['estado_vendedor'].value_counts(normalize=True).head(5)"
   ]
  },
  {
   "cell_type": "markdown",
   "metadata": {},
   "source": [
    "#### Quantos vendedores aparecem nesse conjunto de dados?"
   ]
  },
  {
   "cell_type": "code",
   "execution_count": 91,
   "metadata": {},
   "outputs": [
    {
     "name": "stdout",
     "output_type": "stream",
     "text": [
      "3033\n"
     ]
    }
   ],
   "source": [
    "#id_vendedor, vendedores únicos\n",
    "print(df['id_vendedor'].nunique())"
   ]
  },
  {
   "cell_type": "markdown",
   "metadata": {},
   "source": [
    "#### Qual é a avalição média dos produtos nesse e-commerce?"
   ]
  },
  {
   "cell_type": "code",
   "execution_count": 51,
   "metadata": {},
   "outputs": [
    {
     "name": "stdout",
     "output_type": "stream",
     "text": [
      "4.017507140957789\n"
     ]
    }
   ],
   "source": [
    "#review geral\n",
    "print(df['review'].mean())"
   ]
  },
  {
   "cell_type": "code",
   "execution_count": 115,
   "metadata": {},
   "outputs": [
    {
     "data": {
      "text/html": [
       "<div>\n",
       "<style scoped>\n",
       "    .dataframe tbody tr th:only-of-type {\n",
       "        vertical-align: middle;\n",
       "    }\n",
       "\n",
       "    .dataframe tbody tr th {\n",
       "        vertical-align: top;\n",
       "    }\n",
       "\n",
       "    .dataframe thead th {\n",
       "        text-align: right;\n",
       "    }\n",
       "</style>\n",
       "<table border=\"1\" class=\"dataframe\">\n",
       "  <thead>\n",
       "    <tr style=\"text-align: right;\">\n",
       "      <th></th>\n",
       "      <th>review</th>\n",
       "    </tr>\n",
       "    <tr>\n",
       "      <th>categoria</th>\n",
       "      <th></th>\n",
       "    </tr>\n",
       "  </thead>\n",
       "  <tbody>\n",
       "    <tr>\n",
       "      <th>cds_dvds_musicais</th>\n",
       "      <td>4.642857</td>\n",
       "    </tr>\n",
       "    <tr>\n",
       "      <th>fashion_roupa_infanto_juvenil</th>\n",
       "      <td>4.500000</td>\n",
       "    </tr>\n",
       "    <tr>\n",
       "      <th>livros_interesse_geral</th>\n",
       "      <td>4.431858</td>\n",
       "    </tr>\n",
       "    <tr>\n",
       "      <th>livros_importados</th>\n",
       "      <td>4.419355</td>\n",
       "    </tr>\n",
       "    <tr>\n",
       "      <th>livros_tecnicos</th>\n",
       "      <td>4.345588</td>\n",
       "    </tr>\n",
       "    <tr>\n",
       "      <th>...</th>\n",
       "      <td>...</td>\n",
       "    </tr>\n",
       "    <tr>\n",
       "      <th>fashion_roupa_masculina</th>\n",
       "      <td>3.531034</td>\n",
       "    </tr>\n",
       "    <tr>\n",
       "      <th>moveis_escritorio</th>\n",
       "      <td>3.516779</td>\n",
       "    </tr>\n",
       "    <tr>\n",
       "      <th>casa_conforto_2</th>\n",
       "      <td>3.387097</td>\n",
       "    </tr>\n",
       "    <tr>\n",
       "      <th>fraldas_higiene</th>\n",
       "      <td>3.256410</td>\n",
       "    </tr>\n",
       "    <tr>\n",
       "      <th>seguros_e_servicos</th>\n",
       "      <td>2.500000</td>\n",
       "    </tr>\n",
       "  </tbody>\n",
       "</table>\n",
       "<p>71 rows × 1 columns</p>\n",
       "</div>"
      ],
      "text/plain": [
       "                                 review\n",
       "categoria                              \n",
       "cds_dvds_musicais              4.642857\n",
       "fashion_roupa_infanto_juvenil  4.500000\n",
       "livros_interesse_geral         4.431858\n",
       "livros_importados              4.419355\n",
       "livros_tecnicos                4.345588\n",
       "...                                 ...\n",
       "fashion_roupa_masculina        3.531034\n",
       "moveis_escritorio              3.516779\n",
       "casa_conforto_2                3.387097\n",
       "fraldas_higiene                3.256410\n",
       "seguros_e_servicos             2.500000\n",
       "\n",
       "[71 rows x 1 columns]"
      ]
     },
     "execution_count": 115,
     "metadata": {},
     "output_type": "execute_result"
    }
   ],
   "source": [
    "#Review por 'categoria'\n",
    "rev = df.groupby(['categoria']).mean()[['review']]\n",
    "rev.sort_values(by=['review'], ascending=False)"
   ]
  },
  {
   "cell_type": "markdown",
   "metadata": {},
   "source": [
    "#### Como se distribuem essas avaliações? Qual é a mais frequente?\n",
    "\n",
    "> Visualize graficamente."
   ]
  },
  {
   "cell_type": "code",
   "execution_count": 53,
   "metadata": {},
   "outputs": [
    {
     "data": {
      "image/png": "[encoded data removed]",
      "text/plain": [
       "<Figure size 432x288 with 1 Axes>"
      ]
     },
     "metadata": {
      "needs_background": "light"
     },
     "output_type": "display_data"
    }
   ],
   "source": [
    "ax = sns.countplot(x=\"review\", data=df)"
   ]
  },
  {
   "cell_type": "code",
   "execution_count": 54,
   "metadata": {},
   "outputs": [],
   "source": [
    "#Visivelmente 5 é a avaliação mais comum"
   ]
  },
  {
   "cell_type": "markdown",
   "metadata": {},
   "source": [
    "#### Obtenha as avaliações associadas a cada vendedor. Quais são os cinco que apresentam as melhores avaliações?"
   ]
  },
  {
   "cell_type": "code",
   "execution_count": 117,
   "metadata": {},
   "outputs": [
    {
     "data": {
      "text/html": [
       "<div>\n",
       "<style scoped>\n",
       "    .dataframe tbody tr th:only-of-type {\n",
       "        vertical-align: middle;\n",
       "    }\n",
       "\n",
       "    .dataframe tbody tr th {\n",
       "        vertical-align: top;\n",
       "    }\n",
       "\n",
       "    .dataframe thead th {\n",
       "        text-align: right;\n",
       "    }\n",
       "</style>\n",
       "<table border=\"1\" class=\"dataframe\">\n",
       "  <thead>\n",
       "    <tr style=\"text-align: right;\">\n",
       "      <th></th>\n",
       "      <th>review</th>\n",
       "    </tr>\n",
       "    <tr>\n",
       "      <th>id_vendedor</th>\n",
       "      <th></th>\n",
       "    </tr>\n",
       "  </thead>\n",
       "  <tbody>\n",
       "    <tr>\n",
       "      <th>d3891911c2feae53c52fea2bd14054e5</th>\n",
       "      <td>5.0</td>\n",
       "    </tr>\n",
       "    <tr>\n",
       "      <th>1927cdb9fa74f5270097f6250e8e8f34</th>\n",
       "      <td>5.0</td>\n",
       "    </tr>\n",
       "    <tr>\n",
       "      <th>226b05fe067266c59c15dae208213d06</th>\n",
       "      <td>5.0</td>\n",
       "    </tr>\n",
       "    <tr>\n",
       "      <th>228e4c1a0be164f613d41c24345f9d2c</th>\n",
       "      <td>5.0</td>\n",
       "    </tr>\n",
       "    <tr>\n",
       "      <th>f5b84683a9bf9e1df748cf40f601b39c</th>\n",
       "      <td>5.0</td>\n",
       "    </tr>\n",
       "  </tbody>\n",
       "</table>\n",
       "</div>"
      ],
      "text/plain": [
       "                                  review\n",
       "id_vendedor                             \n",
       "d3891911c2feae53c52fea2bd14054e5     5.0\n",
       "1927cdb9fa74f5270097f6250e8e8f34     5.0\n",
       "226b05fe067266c59c15dae208213d06     5.0\n",
       "228e4c1a0be164f613d41c24345f9d2c     5.0\n",
       "f5b84683a9bf9e1df748cf40f601b39c     5.0"
      ]
     },
     "execution_count": 117,
     "metadata": {},
     "output_type": "execute_result"
    }
   ],
   "source": [
    "#Muitos estão empatados no topo com 5\n",
    "novo=df.groupby('id_vendedor').mean()[['review']]\n",
    "novo.sort_values(by=['review'], inplace=False, ascending=False).head(5)"
   ]
  },
  {
   "cell_type": "markdown",
   "metadata": {},
   "source": [
    "#### Obtenha as avaliações associadas a cada categoria de produtos.\n",
    "\n",
    "- Quais são as cinco que apresentam as melhores avaliações?\n",
    "- Quais são as cinco que apresentam as piores avaliações?"
   ]
  },
  {
   "cell_type": "code",
   "execution_count": 56,
   "metadata": {},
   "outputs": [
    {
     "data": {
      "text/html": [
       "<div>\n",
       "<style scoped>\n",
       "    .dataframe tbody tr th:only-of-type {\n",
       "        vertical-align: middle;\n",
       "    }\n",
       "\n",
       "    .dataframe tbody tr th {\n",
       "        vertical-align: top;\n",
       "    }\n",
       "\n",
       "    .dataframe thead th {\n",
       "        text-align: right;\n",
       "    }\n",
       "</style>\n",
       "<table border=\"1\" class=\"dataframe\">\n",
       "  <thead>\n",
       "    <tr style=\"text-align: right;\">\n",
       "      <th></th>\n",
       "      <th>review</th>\n",
       "    </tr>\n",
       "    <tr>\n",
       "      <th>categoria</th>\n",
       "      <th></th>\n",
       "    </tr>\n",
       "  </thead>\n",
       "  <tbody>\n",
       "    <tr>\n",
       "      <th>cds_dvds_musicais</th>\n",
       "      <td>4.642857</td>\n",
       "    </tr>\n",
       "    <tr>\n",
       "      <th>fashion_roupa_infanto_juvenil</th>\n",
       "      <td>4.500000</td>\n",
       "    </tr>\n",
       "    <tr>\n",
       "      <th>livros_interesse_geral</th>\n",
       "      <td>4.431858</td>\n",
       "    </tr>\n",
       "    <tr>\n",
       "      <th>livros_importados</th>\n",
       "      <td>4.419355</td>\n",
       "    </tr>\n",
       "    <tr>\n",
       "      <th>livros_tecnicos</th>\n",
       "      <td>4.345588</td>\n",
       "    </tr>\n",
       "  </tbody>\n",
       "</table>\n",
       "</div>"
      ],
      "text/plain": [
       "                                 review\n",
       "categoria                              \n",
       "cds_dvds_musicais              4.642857\n",
       "fashion_roupa_infanto_juvenil  4.500000\n",
       "livros_interesse_geral         4.431858\n",
       "livros_importados              4.419355\n",
       "livros_tecnicos                4.345588"
      ]
     },
     "execution_count": 56,
     "metadata": {},
     "output_type": "execute_result"
    }
   ],
   "source": [
    "#categoria\n",
    "categoria=df.groupby('categoria').mean()[['review']]\n",
    "\n",
    "#Top5\n",
    "categoria.sort_values(by=['review'], inplace=False, ascending=False).head(5)"
   ]
  },
  {
   "cell_type": "code",
   "execution_count": 57,
   "metadata": {},
   "outputs": [
    {
     "data": {
      "text/html": [
       "<div>\n",
       "<style scoped>\n",
       "    .dataframe tbody tr th:only-of-type {\n",
       "        vertical-align: middle;\n",
       "    }\n",
       "\n",
       "    .dataframe tbody tr th {\n",
       "        vertical-align: top;\n",
       "    }\n",
       "\n",
       "    .dataframe thead th {\n",
       "        text-align: right;\n",
       "    }\n",
       "</style>\n",
       "<table border=\"1\" class=\"dataframe\">\n",
       "  <thead>\n",
       "    <tr style=\"text-align: right;\">\n",
       "      <th></th>\n",
       "      <th>review</th>\n",
       "    </tr>\n",
       "    <tr>\n",
       "      <th>categoria</th>\n",
       "      <th></th>\n",
       "    </tr>\n",
       "  </thead>\n",
       "  <tbody>\n",
       "    <tr>\n",
       "      <th>seguros_e_servicos</th>\n",
       "      <td>2.500000</td>\n",
       "    </tr>\n",
       "    <tr>\n",
       "      <th>fraldas_higiene</th>\n",
       "      <td>3.256410</td>\n",
       "    </tr>\n",
       "    <tr>\n",
       "      <th>casa_conforto_2</th>\n",
       "      <td>3.387097</td>\n",
       "    </tr>\n",
       "    <tr>\n",
       "      <th>moveis_escritorio</th>\n",
       "      <td>3.516779</td>\n",
       "    </tr>\n",
       "    <tr>\n",
       "      <th>fashion_roupa_masculina</th>\n",
       "      <td>3.531034</td>\n",
       "    </tr>\n",
       "  </tbody>\n",
       "</table>\n",
       "</div>"
      ],
      "text/plain": [
       "                           review\n",
       "categoria                        \n",
       "seguros_e_servicos       2.500000\n",
       "fraldas_higiene          3.256410\n",
       "casa_conforto_2          3.387097\n",
       "moveis_escritorio        3.516779\n",
       "fashion_roupa_masculina  3.531034"
      ]
     },
     "execution_count": 57,
     "metadata": {},
     "output_type": "execute_result"
    }
   ],
   "source": [
    "#Bottom 5\n",
    "categoria.sort_values(by=['review'], inplace=False, ascending=True).head(5)"
   ]
  },
  {
   "cell_type": "markdown",
   "metadata": {},
   "source": [
    "### Analise, graficamente, a distribuição dos preços e fretes dos produtos."
   ]
  },
  {
   "cell_type": "code",
   "execution_count": 128,
   "metadata": {},
   "outputs": [
    {
     "data": {
      "text/plain": [
       "<AxesSubplot:xlabel='preco', ylabel='frete'>"
      ]
     },
     "execution_count": 128,
     "metadata": {},
     "output_type": "execute_result"
    },
    {
     "data": {
      "image/png": "[encoded data removed]",
      "text/plain": [
       "<Figure size 432x288 with 1 Axes>"
      ]
     },
     "metadata": {
      "needs_background": "light"
     },
     "output_type": "display_data"
    }
   ],
   "source": [
    "sns.scatterplot(data=df, x=\"preco\", y=\"frete\")"
   ]
  },
  {
   "cell_type": "markdown",
   "metadata": {},
   "source": [
    "#### Qual é a média de preço e frete dos produtos por categoria?\n",
    "\n",
    "> Analise graficamente, em ambos os casos. Considere apenas as 20 principais categorias nos gráficos."
   ]
  },
  {
   "cell_type": "code",
   "execution_count": 59,
   "metadata": {},
   "outputs": [
    {
     "data": {
      "text/html": [
       "<div>\n",
       "<style scoped>\n",
       "    .dataframe tbody tr th:only-of-type {\n",
       "        vertical-align: middle;\n",
       "    }\n",
       "\n",
       "    .dataframe tbody tr th {\n",
       "        vertical-align: top;\n",
       "    }\n",
       "\n",
       "    .dataframe thead th {\n",
       "        text-align: right;\n",
       "    }\n",
       "</style>\n",
       "<table border=\"1\" class=\"dataframe\">\n",
       "  <thead>\n",
       "    <tr style=\"text-align: right;\">\n",
       "      <th></th>\n",
       "      <th>frete</th>\n",
       "      <th>preco</th>\n",
       "    </tr>\n",
       "    <tr>\n",
       "      <th>categoria</th>\n",
       "      <th></th>\n",
       "      <th></th>\n",
       "    </tr>\n",
       "  </thead>\n",
       "  <tbody>\n",
       "    <tr>\n",
       "      <th>pcs</th>\n",
       "      <td>48.012727</td>\n",
       "      <td>1103.689136</td>\n",
       "    </tr>\n",
       "    <tr>\n",
       "      <th>portateis_casa_forno_e_cafe</th>\n",
       "      <td>36.982821</td>\n",
       "      <td>627.509103</td>\n",
       "    </tr>\n",
       "    <tr>\n",
       "      <th>eletrodomesticos_2</th>\n",
       "      <td>45.968229</td>\n",
       "      <td>457.390258</td>\n",
       "    </tr>\n",
       "    <tr>\n",
       "      <th>agro_industria_e_comercio</th>\n",
       "      <td>27.646111</td>\n",
       "      <td>332.706151</td>\n",
       "    </tr>\n",
       "    <tr>\n",
       "      <th>instrumentos_musicais</th>\n",
       "      <td>27.295494</td>\n",
       "      <td>293.398651</td>\n",
       "    </tr>\n",
       "    <tr>\n",
       "      <th>eletroportateis</th>\n",
       "      <td>23.952823</td>\n",
       "      <td>286.297248</td>\n",
       "    </tr>\n",
       "    <tr>\n",
       "      <th>telefonia_fixa</th>\n",
       "      <td>17.591728</td>\n",
       "      <td>226.989890</td>\n",
       "    </tr>\n",
       "    <tr>\n",
       "      <th>construcao_ferramentas_seguranca</th>\n",
       "      <td>20.043869</td>\n",
       "      <td>210.942261</td>\n",
       "    </tr>\n",
       "    <tr>\n",
       "      <th>relogios_presentes</th>\n",
       "      <td>16.823216</td>\n",
       "      <td>201.886842</td>\n",
       "    </tr>\n",
       "    <tr>\n",
       "      <th>climatizacao</th>\n",
       "      <td>22.677152</td>\n",
       "      <td>185.305894</td>\n",
       "    </tr>\n",
       "    <tr>\n",
       "      <th>moveis_quarto</th>\n",
       "      <td>44.180000</td>\n",
       "      <td>175.997460</td>\n",
       "    </tr>\n",
       "    <tr>\n",
       "      <th>cool_stuff</th>\n",
       "      <td>22.021775</td>\n",
       "      <td>166.200833</td>\n",
       "    </tr>\n",
       "    <tr>\n",
       "      <th>moveis_cozinha_area_de_servico_jantar_e_jardim</th>\n",
       "      <td>42.485351</td>\n",
       "      <td>162.642375</td>\n",
       "    </tr>\n",
       "    <tr>\n",
       "      <th>moveis_escritorio</th>\n",
       "      <td>40.128003</td>\n",
       "      <td>160.750979</td>\n",
       "    </tr>\n",
       "    <tr>\n",
       "      <th>musica</th>\n",
       "      <td>17.884750</td>\n",
       "      <td>156.455000</td>\n",
       "    </tr>\n",
       "    <tr>\n",
       "      <th>construcao_ferramentas_construcao</th>\n",
       "      <td>22.171895</td>\n",
       "      <td>155.642377</td>\n",
       "    </tr>\n",
       "    <tr>\n",
       "      <th>construcao_ferramentas_ferramentas</th>\n",
       "      <td>19.833524</td>\n",
       "      <td>153.075238</td>\n",
       "    </tr>\n",
       "    <tr>\n",
       "      <th>industria_comercio_e_negocios</th>\n",
       "      <td>29.330699</td>\n",
       "      <td>147.542684</td>\n",
       "    </tr>\n",
       "    <tr>\n",
       "      <th>la_cuisine</th>\n",
       "      <td>24.180625</td>\n",
       "      <td>143.998750</td>\n",
       "    </tr>\n",
       "    <tr>\n",
       "      <th>seguros_e_servicos</th>\n",
       "      <td>20.610000</td>\n",
       "      <td>141.645000</td>\n",
       "    </tr>\n",
       "  </tbody>\n",
       "</table>\n",
       "</div>"
      ],
      "text/plain": [
       "                                                    frete        preco\n",
       "categoria                                                             \n",
       "pcs                                             48.012727  1103.689136\n",
       "portateis_casa_forno_e_cafe                     36.982821   627.509103\n",
       "eletrodomesticos_2                              45.968229   457.390258\n",
       "agro_industria_e_comercio                       27.646111   332.706151\n",
       "instrumentos_musicais                           27.295494   293.398651\n",
       "eletroportateis                                 23.952823   286.297248\n",
       "telefonia_fixa                                  17.591728   226.989890\n",
       "construcao_ferramentas_seguranca                20.043869   210.942261\n",
       "relogios_presentes                              16.823216   201.886842\n",
       "climatizacao                                    22.677152   185.305894\n",
       "moveis_quarto                                   44.180000   175.997460\n",
       "cool_stuff                                      22.021775   166.200833\n",
       "moveis_cozinha_area_de_servico_jantar_e_jardim  42.485351   162.642375\n",
       "moveis_escritorio                               40.128003   160.750979\n",
       "musica                                          17.884750   156.455000\n",
       "construcao_ferramentas_construcao               22.171895   155.642377\n",
       "construcao_ferramentas_ferramentas              19.833524   153.075238\n",
       "industria_comercio_e_negocios                   29.330699   147.542684\n",
       "la_cuisine                                      24.180625   143.998750\n",
       "seguros_e_servicos                              20.610000   141.645000"
      ]
     },
     "execution_count": 59,
     "metadata": {},
     "output_type": "execute_result"
    }
   ],
   "source": [
    "c1 = df.groupby('categoria').mean()[['frete','preco']]\n",
    "c1 = c1.sort_values(by=['preco'], inplace=False, ascending=False).head(20)\n",
    "c1"
   ]
  },
  {
   "cell_type": "code",
   "execution_count": 60,
   "metadata": {},
   "outputs": [
    {
     "data": {
      "text/plain": [
       "<AxesSubplot:xlabel='preco', ylabel='frete'>"
      ]
     },
     "execution_count": 60,
     "metadata": {},
     "output_type": "execute_result"
    },
    {
     "data": {
      "image/png": "[encoded data removed]",
      "text/plain": [
       "<Figure size 432x288 with 1 Axes>"
      ]
     },
     "metadata": {
      "needs_background": "light"
     },
     "output_type": "display_data"
    }
   ],
   "source": [
    "sns.scatterplot(data=c1, x=\"preco\", y=\"frete\",hue=\"preco\")"
   ]
  },
  {
   "cell_type": "markdown",
   "metadata": {},
   "source": [
    "**Crie uma tabela que contenha o tipo de pagamento nos índices, a categoria do produto nas colunas e o valor seja a média das avaliações para cada par (tipo de pagamento, categoria do produto).**\n",
    "\n",
    "> Dica: utilize a função `crosstab` do pandas."
   ]
  },
  {
   "cell_type": "code",
   "execution_count": 62,
   "metadata": {},
   "outputs": [
    {
     "data": {
      "text/html": [
       "<div>\n",
       "<style scoped>\n",
       "    .dataframe tbody tr th:only-of-type {\n",
       "        vertical-align: middle;\n",
       "    }\n",
       "\n",
       "    .dataframe tbody tr th {\n",
       "        vertical-align: top;\n",
       "    }\n",
       "\n",
       "    .dataframe thead th {\n",
       "        text-align: right;\n",
       "    }\n",
       "</style>\n",
       "<table border=\"1\" class=\"dataframe\">\n",
       "  <thead>\n",
       "    <tr style=\"text-align: right;\">\n",
       "      <th>categoria</th>\n",
       "      <th>agro_industria_e_comercio</th>\n",
       "      <th>alimentos</th>\n",
       "      <th>alimentos_bebidas</th>\n",
       "      <th>artes</th>\n",
       "      <th>artes_e_artesanato</th>\n",
       "      <th>artigos_de_festas</th>\n",
       "      <th>artigos_de_natal</th>\n",
       "      <th>audio</th>\n",
       "      <th>automotivo</th>\n",
       "      <th>bebes</th>\n",
       "      <th>...</th>\n",
       "      <th>perfumaria</th>\n",
       "      <th>pet_shop</th>\n",
       "      <th>portateis_casa_forno_e_cafe</th>\n",
       "      <th>relogios_presentes</th>\n",
       "      <th>seguros_e_servicos</th>\n",
       "      <th>sinalizacao_e_seguranca</th>\n",
       "      <th>tablets_impressao_imagem</th>\n",
       "      <th>telefonia</th>\n",
       "      <th>telefonia_fixa</th>\n",
       "      <th>utilidades_domesticas</th>\n",
       "    </tr>\n",
       "    <tr>\n",
       "      <th>pagamento_tipo</th>\n",
       "      <th></th>\n",
       "      <th></th>\n",
       "      <th></th>\n",
       "      <th></th>\n",
       "      <th></th>\n",
       "      <th></th>\n",
       "      <th></th>\n",
       "      <th></th>\n",
       "      <th></th>\n",
       "      <th></th>\n",
       "      <th></th>\n",
       "      <th></th>\n",
       "      <th></th>\n",
       "      <th></th>\n",
       "      <th></th>\n",
       "      <th></th>\n",
       "      <th></th>\n",
       "      <th></th>\n",
       "      <th></th>\n",
       "      <th></th>\n",
       "      <th></th>\n",
       "    </tr>\n",
       "  </thead>\n",
       "  <tbody>\n",
       "    <tr>\n",
       "      <th>boleto</th>\n",
       "      <td>3.833333</td>\n",
       "      <td>4.160377</td>\n",
       "      <td>4.116883</td>\n",
       "      <td>4.021277</td>\n",
       "      <td>3.714286</td>\n",
       "      <td>3.818182</td>\n",
       "      <td>3.687500</td>\n",
       "      <td>3.726190</td>\n",
       "      <td>4.122183</td>\n",
       "      <td>3.992793</td>\n",
       "      <td>...</td>\n",
       "      <td>4.168350</td>\n",
       "      <td>4.269022</td>\n",
       "      <td>4.222222</td>\n",
       "      <td>3.924051</td>\n",
       "      <td>1.0</td>\n",
       "      <td>3.838710</td>\n",
       "      <td>4.277778</td>\n",
       "      <td>3.876833</td>\n",
       "      <td>3.444444</td>\n",
       "      <td>4.087349</td>\n",
       "    </tr>\n",
       "    <tr>\n",
       "      <th>credit_card</th>\n",
       "      <td>4.075862</td>\n",
       "      <td>4.120735</td>\n",
       "      <td>4.387755</td>\n",
       "      <td>3.875817</td>\n",
       "      <td>4.142857</td>\n",
       "      <td>3.666667</td>\n",
       "      <td>3.966667</td>\n",
       "      <td>3.844697</td>\n",
       "      <td>4.010015</td>\n",
       "      <td>3.995068</td>\n",
       "      <td>...</td>\n",
       "      <td>4.162679</td>\n",
       "      <td>4.169725</td>\n",
       "      <td>4.307692</td>\n",
       "      <td>4.019934</td>\n",
       "      <td>4.0</td>\n",
       "      <td>4.175573</td>\n",
       "      <td>3.984615</td>\n",
       "      <td>3.947415</td>\n",
       "      <td>3.737968</td>\n",
       "      <td>4.027435</td>\n",
       "    </tr>\n",
       "    <tr>\n",
       "      <th>debit_card</th>\n",
       "      <td>3.400000</td>\n",
       "      <td>4.736842</td>\n",
       "      <td>4.333333</td>\n",
       "      <td>3.833333</td>\n",
       "      <td>5.000000</td>\n",
       "      <td>5.000000</td>\n",
       "      <td>4.000000</td>\n",
       "      <td>5.000000</td>\n",
       "      <td>4.152778</td>\n",
       "      <td>4.022727</td>\n",
       "      <td>...</td>\n",
       "      <td>4.208333</td>\n",
       "      <td>3.529412</td>\n",
       "      <td>4.000000</td>\n",
       "      <td>4.047619</td>\n",
       "      <td>NaN</td>\n",
       "      <td>5.000000</td>\n",
       "      <td>NaN</td>\n",
       "      <td>4.075000</td>\n",
       "      <td>4.333333</td>\n",
       "      <td>4.210526</td>\n",
       "    </tr>\n",
       "    <tr>\n",
       "      <th>voucher</th>\n",
       "      <td>4.952381</td>\n",
       "      <td>4.300000</td>\n",
       "      <td>4.333333</td>\n",
       "      <td>4.076923</td>\n",
       "      <td>NaN</td>\n",
       "      <td>5.000000</td>\n",
       "      <td>4.000000</td>\n",
       "      <td>3.560000</td>\n",
       "      <td>4.121053</td>\n",
       "      <td>4.005814</td>\n",
       "      <td>...</td>\n",
       "      <td>3.517391</td>\n",
       "      <td>4.401961</td>\n",
       "      <td>5.000000</td>\n",
       "      <td>3.929961</td>\n",
       "      <td>NaN</td>\n",
       "      <td>2.400000</td>\n",
       "      <td>4.000000</td>\n",
       "      <td>4.031963</td>\n",
       "      <td>3.600000</td>\n",
       "      <td>4.088757</td>\n",
       "    </tr>\n",
       "  </tbody>\n",
       "</table>\n",
       "<p>4 rows × 71 columns</p>\n",
       "</div>"
      ],
      "text/plain": [
       "categoria       agro_industria_e_comercio  alimentos  alimentos_bebidas  \\\n",
       "pagamento_tipo                                                            \n",
       "boleto                           3.833333   4.160377           4.116883   \n",
       "credit_card                      4.075862   4.120735           4.387755   \n",
       "debit_card                       3.400000   4.736842           4.333333   \n",
       "voucher                          4.952381   4.300000           4.333333   \n",
       "\n",
       "categoria          artes  artes_e_artesanato  artigos_de_festas  \\\n",
       "pagamento_tipo                                                    \n",
       "boleto          4.021277            3.714286           3.818182   \n",
       "credit_card     3.875817            4.142857           3.666667   \n",
       "debit_card      3.833333            5.000000           5.000000   \n",
       "voucher         4.076923                 NaN           5.000000   \n",
       "\n",
       "categoria       artigos_de_natal     audio  automotivo     bebes  ...  \\\n",
       "pagamento_tipo                                                    ...   \n",
       "boleto                  3.687500  3.726190    4.122183  3.992793  ...   \n",
       "credit_card             3.966667  3.844697    4.010015  3.995068  ...   \n",
       "debit_card              4.000000  5.000000    4.152778  4.022727  ...   \n",
       "voucher                 4.000000  3.560000    4.121053  4.005814  ...   \n",
       "\n",
       "categoria       perfumaria  pet_shop  portateis_casa_forno_e_cafe  \\\n",
       "pagamento_tipo                                                      \n",
       "boleto            4.168350  4.269022                     4.222222   \n",
       "credit_card       4.162679  4.169725                     4.307692   \n",
       "debit_card        4.208333  3.529412                     4.000000   \n",
       "voucher           3.517391  4.401961                     5.000000   \n",
       "\n",
       "categoria       relogios_presentes  seguros_e_servicos  \\\n",
       "pagamento_tipo                                           \n",
       "boleto                    3.924051                 1.0   \n",
       "credit_card               4.019934                 4.0   \n",
       "debit_card                4.047619                 NaN   \n",
       "voucher                   3.929961                 NaN   \n",
       "\n",
       "categoria       sinalizacao_e_seguranca  tablets_impressao_imagem  telefonia  \\\n",
       "pagamento_tipo                                                                 \n",
       "boleto                         3.838710                  4.277778   3.876833   \n",
       "credit_card                    4.175573                  3.984615   3.947415   \n",
       "debit_card                     5.000000                       NaN   4.075000   \n",
       "voucher                        2.400000                  4.000000   4.031963   \n",
       "\n",
       "categoria       telefonia_fixa  utilidades_domesticas  \n",
       "pagamento_tipo                                         \n",
       "boleto                3.444444               4.087349  \n",
       "credit_card           3.737968               4.027435  \n",
       "debit_card            4.333333               4.210526  \n",
       "voucher               3.600000               4.088757  \n",
       "\n",
       "[4 rows x 71 columns]"
      ]
     },
     "execution_count": 62,
     "metadata": {},
     "output_type": "execute_result"
    }
   ],
   "source": [
    "pd.crosstab(index = df.pagamento_tipo, columns = df.categoria, values = df.review, aggfunc = 'mean')"
   ]
  },
  {
   "cell_type": "markdown",
   "metadata": {},
   "source": [
    "#### Qual é o principal meio de pagamento utilizado pelos clientes?\n",
    "\n",
    "> Visualize essa resposta, também, de forma gráfica."
   ]
  },
  {
   "cell_type": "code",
   "execution_count": 63,
   "metadata": {},
   "outputs": [
    {
     "data": {
      "text/plain": [
       "credit_card    86012\n",
       "boleto         22692\n",
       "voucher         6211\n",
       "debit_card      1666\n",
       "Name: pagamento_tipo, dtype: int64"
      ]
     },
     "execution_count": 63,
     "metadata": {},
     "output_type": "execute_result"
    }
   ],
   "source": [
    "df['pagamento_tipo'].value_counts()"
   ]
  },
  {
   "cell_type": "code",
   "execution_count": 64,
   "metadata": {},
   "outputs": [
    {
     "data": {
      "image/png": "[encoded data removed]",
      "text/plain": [
       "<Figure size 432x288 with 1 Axes>"
      ]
     },
     "metadata": {
      "needs_background": "light"
     },
     "output_type": "display_data"
    }
   ],
   "source": [
    "ax = sns.countplot(x=\"pagamento_tipo\", data=df)"
   ]
  },
  {
   "cell_type": "markdown",
   "metadata": {},
   "source": [
    "#### Em quantas parcelas os clientes que compram em cartão de crédito costumam dividir suas compras?\n",
    "\n",
    "> Visualize esse resultado, também, graficamente."
   ]
  },
  {
   "cell_type": "code",
   "execution_count": 65,
   "metadata": {},
   "outputs": [
    {
     "data": {
      "text/plain": [
       "3.6425149979072686"
      ]
     },
     "execution_count": 65,
     "metadata": {},
     "output_type": "execute_result"
    }
   ],
   "source": [
    "card = df.where(df['pagamento_tipo'] == 'credit_card')\n",
    "card['pagamento_prestacoes'].mean()"
   ]
  },
  {
   "cell_type": "code",
   "execution_count": 66,
   "metadata": {},
   "outputs": [
    {
     "data": {
      "text/plain": [
       "1.0     27461\n",
       "2.0     13515\n",
       "3.0     11653\n",
       "4.0      7926\n",
       "10.0     6867\n",
       "5.0      5983\n",
       "8.0      5055\n",
       "Name: pagamento_prestacoes, dtype: int64"
      ]
     },
     "execution_count": 66,
     "metadata": {},
     "output_type": "execute_result"
    }
   ],
   "source": [
    "card['pagamento_prestacoes'].value_counts().head(7)"
   ]
  },
  {
   "cell_type": "code",
   "execution_count": 67,
   "metadata": {},
   "outputs": [
    {
     "data": {
      "image/png": "[encoded data removed]",
      "text/plain": [
       "<Figure size 432x288 with 1 Axes>"
      ]
     },
     "metadata": {
      "needs_background": "light"
     },
     "output_type": "display_data"
    }
   ],
   "source": [
    "ax = sns.countplot(x=\"pagamento_prestacoes\", data=df)"
   ]
  },
  {
   "cell_type": "markdown",
   "metadata": {},
   "source": [
    "####"
   ]
  },
  {
   "cell_type": "markdown",
   "metadata": {},
   "source": [
    "#### Utilize o percentil para responder a seguinte pergunta:\n",
    "\n",
    "**30% dos clientes fazem compras no valor (preço) de até quanto?**"
   ]
  },
  {
   "cell_type": "code",
   "execution_count": 68,
   "metadata": {},
   "outputs": [
    {
     "data": {
      "text/plain": [
       "47.6"
      ]
     },
     "execution_count": 68,
     "metadata": {},
     "output_type": "execute_result"
    }
   ],
   "source": [
    "df['preco'].quantile(q=0.3)"
   ]
  },
  {
   "cell_type": "code",
   "execution_count": 69,
   "metadata": {
    "scrolled": true
   },
   "outputs": [
    {
     "data": {
      "text/plain": [
       "0.25     39.9\n",
       "0.50     74.9\n",
       "0.75    134.9\n",
       "Name: preco, dtype: float64"
      ]
     },
     "execution_count": 69,
     "metadata": {},
     "output_type": "execute_result"
    }
   ],
   "source": [
    "df['preco'].quantile([.25, .5, .75])"
   ]
  },
  {
   "cell_type": "markdown",
   "metadata": {},
   "source": [
    "###### Média de preço para cliente único"
   ]
  },
  {
   "cell_type": "code",
   "execution_count": 131,
   "metadata": {},
   "outputs": [],
   "source": [
    "pc = df.groupby(['id_cliente']).mean()[['preco']]"
   ]
  },
  {
   "cell_type": "code",
   "execution_count": 132,
   "metadata": {},
   "outputs": [
    {
     "data": {
      "text/plain": [
       "49.0"
      ]
     },
     "execution_count": 132,
     "metadata": {},
     "output_type": "execute_result"
    }
   ],
   "source": [
    "pc['preco'].quantile(q=0.3)"
   ]
  },
  {
   "cell_type": "code",
   "execution_count": 133,
   "metadata": {},
   "outputs": [
    {
     "data": {
      "text/plain": [
       "0.25     42.0\n",
       "0.50     79.0\n",
       "0.75    139.9\n",
       "Name: preco, dtype: float64"
      ]
     },
     "execution_count": 133,
     "metadata": {},
     "output_type": "execute_result"
    }
   ],
   "source": [
    "pc['preco'].quantile([.25, .5, .75])"
   ]
  },
  {
   "cell_type": "markdown",
   "metadata": {},
   "source": [
    "#### Transforme a coluna `horario_pedido` para o formato `datetime` do Python e, em seguida, avalie o valor total de vendas realizadas por dia, durante todo o intervalo disponível no dataset."
   ]
  },
  {
   "cell_type": "code",
   "execution_count": 70,
   "metadata": {},
   "outputs": [],
   "source": [
    "#Primeira Abordagem\n",
    "#Converter para datetime\n",
    "df['horario_pedido'] = pd.to_datetime(df['horario_pedido'], format='%Y-%m-%d %H:%M:%S')\n",
    "#df.strptime()"
   ]
  },
  {
   "cell_type": "code",
   "execution_count": 71,
   "metadata": {},
   "outputs": [
    {
     "data": {
      "text/html": [
       "<div>\n",
       "<style scoped>\n",
       "    .dataframe tbody tr th:only-of-type {\n",
       "        vertical-align: middle;\n",
       "    }\n",
       "\n",
       "    .dataframe tbody tr th {\n",
       "        vertical-align: top;\n",
       "    }\n",
       "\n",
       "    .dataframe thead th {\n",
       "        text-align: right;\n",
       "    }\n",
       "</style>\n",
       "<table border=\"1\" class=\"dataframe\">\n",
       "  <thead>\n",
       "    <tr style=\"text-align: right;\">\n",
       "      <th></th>\n",
       "      <th>preco</th>\n",
       "    </tr>\n",
       "    <tr>\n",
       "      <th>horario_pedido</th>\n",
       "      <th></th>\n",
       "    </tr>\n",
       "  </thead>\n",
       "  <tbody>\n",
       "    <tr>\n",
       "      <th>1</th>\n",
       "      <td>466142.42</td>\n",
       "    </tr>\n",
       "    <tr>\n",
       "      <th>2</th>\n",
       "      <td>456050.10</td>\n",
       "    </tr>\n",
       "    <tr>\n",
       "      <th>3</th>\n",
       "      <td>466292.27</td>\n",
       "    </tr>\n",
       "    <tr>\n",
       "      <th>4</th>\n",
       "      <td>495320.15</td>\n",
       "    </tr>\n",
       "    <tr>\n",
       "      <th>5</th>\n",
       "      <td>491447.59</td>\n",
       "    </tr>\n",
       "    <tr>\n",
       "      <th>6</th>\n",
       "      <td>503291.75</td>\n",
       "    </tr>\n",
       "    <tr>\n",
       "      <th>7</th>\n",
       "      <td>488830.76</td>\n",
       "    </tr>\n",
       "    <tr>\n",
       "      <th>8</th>\n",
       "      <td>443033.44</td>\n",
       "    </tr>\n",
       "    <tr>\n",
       "      <th>9</th>\n",
       "      <td>470131.77</td>\n",
       "    </tr>\n",
       "    <tr>\n",
       "      <th>10</th>\n",
       "      <td>463565.28</td>\n",
       "    </tr>\n",
       "    <tr>\n",
       "      <th>11</th>\n",
       "      <td>484273.24</td>\n",
       "    </tr>\n",
       "    <tr>\n",
       "      <th>12</th>\n",
       "      <td>457436.77</td>\n",
       "    </tr>\n",
       "    <tr>\n",
       "      <th>13</th>\n",
       "      <td>461981.65</td>\n",
       "    </tr>\n",
       "    <tr>\n",
       "      <th>14</th>\n",
       "      <td>472463.79</td>\n",
       "    </tr>\n",
       "    <tr>\n",
       "      <th>15</th>\n",
       "      <td>492367.28</td>\n",
       "    </tr>\n",
       "    <tr>\n",
       "      <th>16</th>\n",
       "      <td>510521.80</td>\n",
       "    </tr>\n",
       "    <tr>\n",
       "      <th>17</th>\n",
       "      <td>451244.74</td>\n",
       "    </tr>\n",
       "    <tr>\n",
       "      <th>18</th>\n",
       "      <td>519922.28</td>\n",
       "    </tr>\n",
       "    <tr>\n",
       "      <th>19</th>\n",
       "      <td>465214.00</td>\n",
       "    </tr>\n",
       "    <tr>\n",
       "      <th>20</th>\n",
       "      <td>474650.10</td>\n",
       "    </tr>\n",
       "    <tr>\n",
       "      <th>21</th>\n",
       "      <td>404786.83</td>\n",
       "    </tr>\n",
       "    <tr>\n",
       "      <th>22</th>\n",
       "      <td>416114.52</td>\n",
       "    </tr>\n",
       "    <tr>\n",
       "      <th>23</th>\n",
       "      <td>428609.08</td>\n",
       "    </tr>\n",
       "    <tr>\n",
       "      <th>24</th>\n",
       "      <td>532340.01</td>\n",
       "    </tr>\n",
       "    <tr>\n",
       "      <th>25</th>\n",
       "      <td>451099.48</td>\n",
       "    </tr>\n",
       "    <tr>\n",
       "      <th>26</th>\n",
       "      <td>450656.39</td>\n",
       "    </tr>\n",
       "    <tr>\n",
       "      <th>27</th>\n",
       "      <td>435263.42</td>\n",
       "    </tr>\n",
       "    <tr>\n",
       "      <th>28</th>\n",
       "      <td>438997.99</td>\n",
       "    </tr>\n",
       "    <tr>\n",
       "      <th>29</th>\n",
       "      <td>389711.64</td>\n",
       "    </tr>\n",
       "    <tr>\n",
       "      <th>30</th>\n",
       "      <td>349470.37</td>\n",
       "    </tr>\n",
       "    <tr>\n",
       "      <th>31</th>\n",
       "      <td>246084.46</td>\n",
       "    </tr>\n",
       "  </tbody>\n",
       "</table>\n",
       "</div>"
      ],
      "text/plain": [
       "                    preco\n",
       "horario_pedido           \n",
       "1               466142.42\n",
       "2               456050.10\n",
       "3               466292.27\n",
       "4               495320.15\n",
       "5               491447.59\n",
       "6               503291.75\n",
       "7               488830.76\n",
       "8               443033.44\n",
       "9               470131.77\n",
       "10              463565.28\n",
       "11              484273.24\n",
       "12              457436.77\n",
       "13              461981.65\n",
       "14              472463.79\n",
       "15              492367.28\n",
       "16              510521.80\n",
       "17              451244.74\n",
       "18              519922.28\n",
       "19              465214.00\n",
       "20              474650.10\n",
       "21              404786.83\n",
       "22              416114.52\n",
       "23              428609.08\n",
       "24              532340.01\n",
       "25              451099.48\n",
       "26              450656.39\n",
       "27              435263.42\n",
       "28              438997.99\n",
       "29              389711.64\n",
       "30              349470.37\n",
       "31              246084.46"
      ]
     },
     "execution_count": 71,
     "metadata": {},
     "output_type": "execute_result"
    }
   ],
   "source": [
    "#df['horario_pedido'].dt.day\n",
    "df.groupby(df['horario_pedido'].dt.day).sum()[['preco']]\n",
    "\n",
    "#Analise por dia do mes, todos os dias tem um valor parecido\n",
    "#Menos o 31 porque nem todo mes tem 31"
   ]
  },
  {
   "cell_type": "code",
   "execution_count": 73,
   "metadata": {},
   "outputs": [
    {
     "data": {
      "text/html": [
       "<div>\n",
       "<style scoped>\n",
       "    .dataframe tbody tr th:only-of-type {\n",
       "        vertical-align: middle;\n",
       "    }\n",
       "\n",
       "    .dataframe tbody tr th {\n",
       "        vertical-align: top;\n",
       "    }\n",
       "\n",
       "    .dataframe thead th {\n",
       "        text-align: right;\n",
       "    }\n",
       "</style>\n",
       "<table border=\"1\" class=\"dataframe\">\n",
       "  <thead>\n",
       "    <tr style=\"text-align: right;\">\n",
       "      <th></th>\n",
       "      <th>preco</th>\n",
       "    </tr>\n",
       "    <tr>\n",
       "      <th>dia</th>\n",
       "      <th></th>\n",
       "    </tr>\n",
       "  </thead>\n",
       "  <tbody>\n",
       "    <tr>\n",
       "      <th>2016-09-04</th>\n",
       "      <td>72.89</td>\n",
       "    </tr>\n",
       "    <tr>\n",
       "      <th>2016-09-05</th>\n",
       "      <td>59.50</td>\n",
       "    </tr>\n",
       "    <tr>\n",
       "      <th>2016-10-02</th>\n",
       "      <td>100.00</td>\n",
       "    </tr>\n",
       "    <tr>\n",
       "      <th>2016-10-03</th>\n",
       "      <td>463.48</td>\n",
       "    </tr>\n",
       "    <tr>\n",
       "      <th>2016-10-04</th>\n",
       "      <td>10438.27</td>\n",
       "    </tr>\n",
       "    <tr>\n",
       "      <th>...</th>\n",
       "      <td>...</td>\n",
       "    </tr>\n",
       "    <tr>\n",
       "      <th>2018-08-26</th>\n",
       "      <td>8235.71</td>\n",
       "    </tr>\n",
       "    <tr>\n",
       "      <th>2018-08-27</th>\n",
       "      <td>4870.87</td>\n",
       "    </tr>\n",
       "    <tr>\n",
       "      <th>2018-08-28</th>\n",
       "      <td>3757.51</td>\n",
       "    </tr>\n",
       "    <tr>\n",
       "      <th>2018-08-29</th>\n",
       "      <td>1546.04</td>\n",
       "    </tr>\n",
       "    <tr>\n",
       "      <th>2018-09-03</th>\n",
       "      <td>145.00</td>\n",
       "    </tr>\n",
       "  </tbody>\n",
       "</table>\n",
       "<p>615 rows × 1 columns</p>\n",
       "</div>"
      ],
      "text/plain": [
       "               preco\n",
       "dia                 \n",
       "2016-09-04     72.89\n",
       "2016-09-05     59.50\n",
       "2016-10-02    100.00\n",
       "2016-10-03    463.48\n",
       "2016-10-04  10438.27\n",
       "...              ...\n",
       "2018-08-26   8235.71\n",
       "2018-08-27   4870.87\n",
       "2018-08-28   3757.51\n",
       "2018-08-29   1546.04\n",
       "2018-09-03    145.00\n",
       "\n",
       "[615 rows x 1 columns]"
      ]
     },
     "execution_count": 73,
     "metadata": {},
     "output_type": "execute_result"
    }
   ],
   "source": [
    "#Abordagem final\n",
    "df['dia'] = df['horario_pedido'].dt.date\n",
    "dia = df.groupby([df['dia']]).sum()[['preco']]\n",
    "dia"
   ]
  },
  {
   "cell_type": "code",
   "execution_count": 74,
   "metadata": {},
   "outputs": [
    {
     "data": {
      "text/plain": [
       "<AxesSubplot:xlabel='dia'>"
      ]
     },
     "execution_count": 74,
     "metadata": {},
     "output_type": "execute_result"
    },
    {
     "data": {
      "image/png": "[encoded data removed]",
      "text/plain": [
       "<Figure size 432x288 with 1 Axes>"
      ]
     },
     "metadata": {
      "needs_background": "light"
     },
     "output_type": "display_data"
    }
   ],
   "source": [
    "sns.lineplot(data=dia)"
   ]
  },
  {
   "cell_type": "code",
   "execution_count": 75,
   "metadata": {},
   "outputs": [],
   "source": [
    "#fim"
   ]
  }
 ],
 "metadata": {
  "kernelspec": {
   "display_name": "Python 3",
   "language": "python",
   "name": "python3"
  },
  "language_info": {
   "codemirror_mode": {
    "name": "ipython",
    "version": 3
   },
   "file_extension": ".py",
   "mimetype": "text/x-python",
   "name": "python",
   "nbconvert_exporter": "python",
   "pygments_lexer": "ipython3",
   "version": "3.8.8"
  }
 },
 "nbformat": 4,
 "nbformat_minor": 4
}
