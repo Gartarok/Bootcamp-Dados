{
 "cells": [
  {
   "cell_type": "markdown",
   "id": "3a4f280e",
   "metadata": {},
   "source": [
    "# Exercício para entregar"
   ]
  },
  {
   "cell_type": "markdown",
   "id": "9f9b2f6e",
   "metadata": {},
   "source": [
    "## Controle de qualidade"
   ]
  },
  {
   "cell_type": "markdown",
   "id": "cd6144a8",
   "metadata": {},
   "source": [
    "Uma companhia multinacional tem três fábricas que produzem o mesmo tipo de produto. A fábrica I é responsável por 30% do total produzido, a fábrica II produz 45% do total, e o restante vem da fábrica III. Cada uma das fábricas, no entanto, produz uma proporção de produtos que não atendem aos padrões estabelecidos pelas normas internacionais. Tais produtos são considerados \"defeituosos\" e correspondem a 1%, 2% e 1,5%, respectivamente, dos totais produzidos por fábrica.\n",
    "\n",
    "No centro de distribuição, é feito o controle de qualidade da produção combinada das fábricas.\n",
    "\n",
    "1. Qual é a probabilidade de encontrar um produto defeituoso durante a inspeção de qualidade?\n",
    "2. Se durante a inspeção encontrarmos um produto defeituoso, qual é a probabilidade de que ele tenha sido produzino na Fábrica II?"
   ]
  },
  {
   "cell_type": "markdown",
   "id": "8ed2f1e2",
   "metadata": {},
   "source": [
    "|                | Produção       |Percentual Correto | Percentual Defeituoso|\n",
    "|----------------|----------------|-------------------|----------------------|\n",
    "| Fabrica 1      | 30 %           |99 %               | 1 %                  |\n",
    "| Fabrica 2      |  45 %          |98 %               | 2 %                  |\n",
    "| Fabrica 3      |  25 %          |98.5%              | 1.5 %                |"
   ]
  },
  {
   "cell_type": "markdown",
   "id": "56e15431",
   "metadata": {},
   "source": [
    "----------------------------------------\n",
    "Questão 1   \n",
    "$P(DF|+) = (30\\% \\times 1\\%) \\times (45\\% \\times 2\\%) \\times (25\\% \\times 1.5\\%) = ProbabilidadeDefeituoso $  "
   ]
  },
  {
   "cell_type": "code",
   "execution_count": 11,
   "id": "84495aa6",
   "metadata": {
    "scrolled": false
   },
   "outputs": [
    {
     "name": "stdout",
     "output_type": "stream",
     "text": [
      "Qual é a probabilidade de encontrar um produto defeituoso durante a inspeção de qualidade?\n",
      "\n",
      "A chance é de 1.575%\n"
     ]
    }
   ],
   "source": [
    "F1 = 0.30   \n",
    "F2 = 0.45   \n",
    "F3 = 0.25    \n",
    "\n",
    "DF1 = 0.01  \n",
    "DF2 = 0.02  \n",
    "DF3 = 0.015  \n",
    "\n",
    "Probabilidade_defeituoso = DF1*F1 + DF2*F2 + DF3*F3\n",
    "print(\"Qual é a probabilidade de encontrar um produto defeituoso durante a inspeção de qualidade?\")\n",
    "print(f'\\nA chance é de {Probabilidade_defeituoso*100}%')"
   ]
  },
  {
   "cell_type": "markdown",
   "id": "f9bd74c5",
   "metadata": {},
   "source": [
    "----------------------------------------\n",
    "Questão 2  \n",
    "$P(DF2|+) = \\frac{45\\% \\times 2\\%}{1.575\\%} = ProbabilidadeFabrica2 $  "
   ]
  },
  {
   "cell_type": "code",
   "execution_count": 12,
   "id": "bf829fbe",
   "metadata": {},
   "outputs": [
    {
     "name": "stdout",
     "output_type": "stream",
     "text": [
      "Se durante a inspeção encontrarmos um produto defeituoso, qual é a probabilidade de que ele tenha sido produzino na Fábrica II?\n",
      "\n",
      "A chance é de 57.14%\n"
     ]
    }
   ],
   "source": [
    "Chance_DF2 = F2*DF2/(Probabilidade_defeituoso)\n",
    "\n",
    "print('Se durante a inspeção encontrarmos um produto defeituoso, qual é a probabilidade de que ele tenha sido produzino na Fábrica II?')\n",
    "print(f'\\nA chance é de {round(Chance_DF2*100,2)}%')"
   ]
  },
  {
   "cell_type": "markdown",
   "id": "1afa6a3a",
   "metadata": {},
   "source": [
    "----------------------------"
   ]
  },
  {
   "cell_type": "code",
   "execution_count": null,
   "id": "cb9f92d4",
   "metadata": {},
   "outputs": [],
   "source": [
    "#fim"
   ]
  }
 ],
 "metadata": {
  "kernelspec": {
   "display_name": "Python 3",
   "language": "python",
   "name": "python3"
  },
  "language_info": {
   "codemirror_mode": {
    "name": "ipython",
    "version": 3
   },
   "file_extension": ".py",
   "mimetype": "text/x-python",
   "name": "python",
   "nbconvert_exporter": "python",
   "pygments_lexer": "ipython3",
   "version": "3.8.8"
  },
  "toc": {
   "base_numbering": 1,
   "nav_menu": {},
   "number_sections": true,
   "sideBar": true,
   "skip_h1_title": false,
   "title_cell": "Table of Contents",
   "title_sidebar": "Contents",
   "toc_cell": false,
   "toc_position": {
    "height": "calc(100% - 180px)",
    "left": "10px",
    "top": "150px",
    "width": "198.188px"
   },
   "toc_section_display": true,
   "toc_window_display": true
  }
 },
 "nbformat": 4,
 "nbformat_minor": 5
}
