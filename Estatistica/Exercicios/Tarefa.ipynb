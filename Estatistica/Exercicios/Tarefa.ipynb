{
 "cells": [
  {
   "cell_type": "markdown",
   "id": "8e376068",
   "metadata": {},
   "source": [
    "A aplicação deve dispor de um menu com as seguintes opções para o usuário:\n",
    "\n",
    "1. **Adicionar tarefa:** Ao solicitar essa opção o usuário poderá criar uma nova tarefa. Para isso, ele deverá informar o título, a data de realização e a categoria da tarefa. Você deverá salvar essas três informações (além de uma informação de que o status da tarefa está como *Pendente*) dentro de um arquivo CSV (`tarefas.csv`, por exemplo).\n",
    "2. **Alterar status da Tarefa:** Ao solicitar essa opção o usuário poderá alterar o status de uma determinada tarefa, ou seja, se a tarefa está como *Pendente*, ficará como *Concluída*, e vice-versa. Para isso, ele deve informar o título da tarefa. Você deverá alterar a coluna de *Status* do arquivo, referente à tarefa que possui o título informado pelo usuário.\n",
    "3. **Remover tarefa:** Ao solicitar essa opção o usuário poderá escolher uma tarefa para que essa seja removida. Para isso, ele deve informar o título da tarefa. Você deve remover a linha do arquivo que contém a tarefa cujo título foi informado pelo usuário.\n",
    "4. **Visualizar tarefas:** Ao solicitar essa opção o usuário poderá escolher um dia específico para ver as tarefas agendadas para ele. Para isso, após escolher essa opção, o usuário precisa informar uma data. Você deve procurar pelas atividades que estão programadas para aquele dia específico (dentro do arquivo csv), e exibir todas elas.\n",
    "5. **Fechar:** Ao solicitar essa opção o programa deverá ser encerrado."
   ]
  },
  {
   "cell_type": "code",
   "execution_count": 48,
   "id": "708ea70a",
   "metadata": {},
   "outputs": [],
   "source": [
    "atividade = tarefa('malhar','hoje','carro')"
   ]
  },
  {
   "cell_type": "code",
   "execution_count": 49,
   "id": "2ba681ae",
   "metadata": {},
   "outputs": [],
   "source": [
    "atividade.alterar_status()"
   ]
  },
  {
   "cell_type": "code",
   "execution_count": 50,
   "id": "3ad98cc1",
   "metadata": {},
   "outputs": [
    {
     "data": {
      "text/plain": [
       "'Concluída'"
      ]
     },
     "execution_count": 50,
     "metadata": {},
     "output_type": "execute_result"
    }
   ],
   "source": [
    "atividade.status"
   ]
  },
  {
   "cell_type": "code",
   "execution_count": 76,
   "id": "c7568c6c",
   "metadata": {},
   "outputs": [
    {
     "name": "stdout",
     "output_type": "stream",
     "text": [
      "2.0\n",
      "0\n",
      "1\n"
     ]
    }
   ],
   "source": [
    "lista = [1,2,3,4,5,6]\n",
    "print(len(lista)/3)\n",
    "\n",
    "for i in range(len(lista)//3):\n",
    "    print(i)"
   ]
  },
  {
   "cell_type": "code",
   "execution_count": 83,
   "id": "a5163eaf",
   "metadata": {},
   "outputs": [
    {
     "name": "stdout",
     "output_type": "stream",
     "text": [
      "0\n",
      "1\n",
      "2\n",
      "3\n"
     ]
    },
    {
     "ename": "IndexError",
     "evalue": "list index out of range",
     "output_type": "error",
     "traceback": [
      "\u001b[1;31m---------------------------------------------------------------------------\u001b[0m",
      "\u001b[1;31mIndexError\u001b[0m                                Traceback (most recent call last)",
      "\u001b[1;32m<ipython-input-83-4c66b96d0ac7>\u001b[0m in \u001b[0;36m<module>\u001b[1;34m\u001b[0m\n\u001b[0;32m      4\u001b[0m     \u001b[0malfa\u001b[0m \u001b[1;33m=\u001b[0m \u001b[0mi\u001b[0m\u001b[1;33m*\u001b[0m\u001b[1;36m3\u001b[0m\u001b[1;33m\u001b[0m\u001b[1;33m\u001b[0m\u001b[0m\n\u001b[0;32m      5\u001b[0m     \u001b[0mprint\u001b[0m\u001b[1;33m(\u001b[0m\u001b[0mi\u001b[0m\u001b[1;33m)\u001b[0m\u001b[1;33m\u001b[0m\u001b[1;33m\u001b[0m\u001b[0m\n\u001b[1;32m----> 6\u001b[1;33m     \u001b[0mlista_Tarefas\u001b[0m\u001b[1;33m.\u001b[0m\u001b[0mappend\u001b[0m\u001b[1;33m(\u001b[0m\u001b[1;33m[\u001b[0m\u001b[1;33m(\u001b[0m\u001b[0mlista\u001b[0m\u001b[1;33m[\u001b[0m\u001b[0mi\u001b[0m\u001b[1;33m+\u001b[0m\u001b[0malfa\u001b[0m\u001b[1;33m]\u001b[0m\u001b[1;33m)\u001b[0m\u001b[1;33m,\u001b[0m\u001b[1;33m(\u001b[0m\u001b[0mlista\u001b[0m\u001b[1;33m[\u001b[0m\u001b[0mi\u001b[0m\u001b[1;33m+\u001b[0m\u001b[1;36m1\u001b[0m\u001b[1;33m+\u001b[0m\u001b[0malfa\u001b[0m\u001b[1;33m]\u001b[0m\u001b[1;33m)\u001b[0m\u001b[1;33m,\u001b[0m\u001b[1;33m(\u001b[0m\u001b[0mlista\u001b[0m\u001b[1;33m[\u001b[0m\u001b[0mi\u001b[0m\u001b[1;33m+\u001b[0m\u001b[1;36m2\u001b[0m\u001b[1;33m+\u001b[0m\u001b[0malfa\u001b[0m\u001b[1;33m]\u001b[0m\u001b[1;33m)\u001b[0m\u001b[1;33m,\u001b[0m\u001b[1;33m(\u001b[0m\u001b[0mlista\u001b[0m\u001b[1;33m[\u001b[0m\u001b[0mi\u001b[0m\u001b[1;33m+\u001b[0m\u001b[1;36m3\u001b[0m\u001b[1;33m+\u001b[0m\u001b[0malfa\u001b[0m\u001b[1;33m]\u001b[0m\u001b[1;33m)\u001b[0m\u001b[1;33m]\u001b[0m\u001b[1;33m)\u001b[0m\u001b[1;33m\u001b[0m\u001b[1;33m\u001b[0m\u001b[0m\n\u001b[0m",
      "\u001b[1;31mIndexError\u001b[0m: list index out of range"
     ]
    }
   ],
   "source": [
    "lista_Tarefas = []\n",
    "lista = [1,2,3,4,5,6,7,8,9,10,11,12]\n",
    "for i in range(len(lista)//3):\n",
    "    alfa = i*3\n",
    "    print(i)\n",
    "    lista_Tarefas.append([(lista[i+alfa]),(lista[i+1+alfa]),(lista[i+2+alfa]),(lista[i+3+alfa])])"
   ]
  },
  {
   "cell_type": "code",
   "execution_count": null,
   "id": "1a9bf780",
   "metadata": {},
   "outputs": [],
   "source": [
    "tarefas=[]\n",
    "\n",
    "class tarefa:\n",
    "  def __init__(self, titulo, data, categoria, status = 'Pendente'):\n",
    "    self.titulo = titulo\n",
    "    self.data = data\n",
    "    self.categoria = categoria\n",
    "    self.status = status\n",
    "    #inserir\n",
    "    nova_tarefa = [titulo,data,categoria,status]\n",
    "    tarefas.append(nova_tarefa)\n",
    "\n",
    "  def lancar_o_dado(self):\n",
    "    valor_do_dado = randint(1, 6)\n",
    "    self.pontuacao += valor_do_dado\n",
    "\n",
    "  def alterar_status(self):\n",
    "    if self.status == 'Concluída':\n",
    "        self.status = 'Pendente'\n",
    "    else:\n",
    "        self.status = 'Concluída'\n",
    "#main\n",
    "#adicionar_tarefa\n",
    "def adiconar_tarefa():\n",
    "    titulo = input('Digite o titulo: ')"
   ]
  },
  {
   "cell_type": "code",
   "execution_count": 52,
   "id": "c5131818",
   "metadata": {},
   "outputs": [
    {
     "data": {
      "text/plain": [
       "[['malhar', 'hoje', 'carro', 'Pendente'], <__main__.tarefa at 0x2559b50d760>]"
      ]
     },
     "execution_count": 52,
     "metadata": {},
     "output_type": "execute_result"
    }
   ],
   "source": [
    "#CARCADA\n",
    "from source.Tarefas import Tarefas\n",
    "\n",
    "lista = Tarefas('tarefas.csv')\n",
    "\n",
    "for i in range(2):\n",
    "\ttitulo = input('Digite o título para a tarefa: ')\n",
    "\tdata = input('Digite a data que ela deva ser concluída (AAAA/MM/DD): ')\n",
    "\tcategoria = input('Digite a categoria da tarefa: ')\n",
    "\tpendente = True\n",
    "\tlista.adicionar(titulo, data, categoria, pendente)\n",
    "\n",
    "lista.fechar()\n"
   ]
  },
  {
   "cell_type": "code",
   "execution_count": null,
   "id": "56216c82",
   "metadata": {},
   "outputs": [],
   "source": [
    "#lista de lista com todas as atividades\n",
    "\n",
    "#criar_nova_tarefa\n",
    "def nova_tarefa():\n",
    "    titulo = input('Digite o título para a tarefa: ')\n",
    "    data = input('Digite a data que ela deva ser concluída (AAAA/MM/DD): ')\n",
    "    categoria = input('Digite a categoria da tarefa: ')\n",
    "    pendente = True\n",
    "    lista.adicionar(titulo, data, categoria, pendente)\n",
    "\n",
    "#visualizar as tarefas de um dia\n",
    "def visualizar():\n",
    "    data = input('Qual a data: ')\n",
    "    for i in lista:\n",
    "        if data in i:\n",
    "            print(i)\n",
    "\n",
    "#alterar o status baseado no titulo\n",
    "def alterar_status():\n",
    "    titulo = input('Qual o titulo da tarefa: ')\n",
    "    for i in tarefas:\n",
    "        if titulo in i:\n",
    "            if i[3] == False\n",
    "                i[3] = True\n",
    "            else:\n",
    "                i[3] = False\n",
    "\n",
    "#remover uma tarefa das lista baseada no titulo\n",
    "def remover_tarefa():\n",
    "    titulo = input('Qual o titulo: ')\n",
    "    for i in lista:\n",
    "        if titulo in i:\n",
    "            lista.remove(i)\n",
    "        \n",
    "def fechar_programa():\n",
    "    lista.fechar()\n",
    "    print('Programa está sendo fechado')\n",
    "\n",
    "            \n",
    "#MainMenu\n",
    "comando = False\n",
    "while comando!= '5':\n",
    "    print('\\n1. Adicionar tarefa \\n2. Alterar status da Tarefa \\n3. Remover tarefa \\n4. Visualizar tarefas \\n5. Fechar \\n')\n",
    "    comando = input('Escolha uma opção: ')\n",
    "    if comando == '1':\n",
    "        print('adicionar')\n",
    "        nova_tarefa()\n",
    "    elif comando =='2':\n",
    "        alterar_status()\n",
    "        print('alterar')\n",
    "    elif comando =='3':\n",
    "        remover_tarefa()\n",
    "        print('remover')\n",
    "    elif comando =='4':\n",
    "        visualizar()\n",
    "        print('visualizar')\n",
    "    elif comando =='5':\n",
    "        fechar_programa()\n",
    "        print('fechar')\n",
    "    else:\n",
    "        print('Escolhar uma opção válida! [1 2 3 4 5]')\n",
    "    "
   ]
  },
  {
   "cell_type": "code",
   "execution_count": 67,
   "id": "faa3dbc3",
   "metadata": {},
   "outputs": [
    {
     "name": "stdout",
     "output_type": "stream",
     "text": [
      "\n",
      "1. Adicionar tarefa \n",
      "2. Alterar status da Tarefa \n",
      "3. Remover tarefa \n",
      "4. Visualizar tarefas \n",
      "5. Fechar \n",
      "\n",
      "Escolha uma opção: 1\n",
      "adicionar\n",
      "\n",
      "1. Adicionar tarefa \n",
      "2. Alterar status da Tarefa \n",
      "3. Remover tarefa \n",
      "4. Visualizar tarefas \n",
      "5. Fechar \n",
      "\n",
      "Escolha uma opção: 5\n",
      "fechar\n"
     ]
    }
   ],
   "source": [
    "#lista de lista com todas as atividades\n",
    "tarefas = [['ExercicioPOO',10012022,'Educação','Concluída'],\n",
    "           ['Malhar',12012022,'Saude','Pendende'],\n",
    "           ['Fazer compras',13012022,'Casa','Pendende'],\n",
    "           ['Limpar casa',13012022,'Casa','Pendente']]\n",
    "\n",
    "#criar_nova_tarefa\n",
    "def nova_tarefa():\n",
    "    nova_tarefa = [titulo,data,categoria,status]\n",
    "    tarefas.append(nova_tarefa)\n",
    "\n",
    "#visualizar as tarefas de um dia\n",
    "def visualizar(data):\n",
    "    for i in tarefas:\n",
    "        if data in i:\n",
    "            print(i)\n",
    "\n",
    "#alterar o status baseado no titulo\n",
    "def alterar_status(titulo):\n",
    "    for i in tarefas:\n",
    "        if titulo in i:\n",
    "            if i[3] == 'Concluída':\n",
    "                i[3] = 'Pendente'\n",
    "            else:\n",
    "                i[3] = 'Concluída'\n",
    "\n",
    "#remover uma tarefa das lista baseada no titulo\n",
    "def remover_tarefa(titulo):\n",
    "    for i in tarefas:\n",
    "        if titulo in i:\n",
    "            tarefas.remove(i)\n",
    "        \n",
    "def fechar_programa():\n",
    "    #persistir tudo em CSV\n",
    "    print('Programa está sendo fechado')\n",
    "\n",
    "            \n",
    "#MainMenu\n",
    "comando = False\n",
    "while comando!= '5':\n",
    "    print('\\n1. Adicionar tarefa \\n2. Alterar status da Tarefa \\n3. Remover tarefa \\n4. Visualizar tarefas \\n5. Fechar \\n')\n",
    "    comando = input('Escolha uma opção: ')\n",
    "    if comando == '1':\n",
    "        #adicionar\n",
    "        print('adicionar')\n",
    "    elif comando =='2':\n",
    "        #alterar\n",
    "        print('alterar')\n",
    "    elif comando =='3':\n",
    "        #remover\n",
    "        print('remover')\n",
    "    elif comando =='4':\n",
    "        #visualizar\n",
    "        print('visualizar')\n",
    "    elif comando =='5':\n",
    "        #fechar\n",
    "        print('fechar')\n",
    "    else:\n",
    "        print('Escolhar uma opção válida! [1 2 3 4 5]')\n",
    "    "
   ]
  },
  {
   "cell_type": "code",
   "execution_count": 57,
   "id": "67928e30",
   "metadata": {},
   "outputs": [
    {
     "name": "stdout",
     "output_type": "stream",
     "text": [
      "[['Malhar', 12012022, 'Saude', 'Pendente'], ['Fazer compras', 13012022, 'Casa', 'Pendende']]\n"
     ]
    }
   ],
   "source": [
    "data  = 12012022\n",
    "visualizar(data)\n",
    "alterar_status('Malhar')\n",
    "print(tarefas)\n",
    "alterar_status('Malhar')\n",
    "print(tarefas)"
   ]
  },
  {
   "cell_type": "code",
   "execution_count": 60,
   "id": "e2f964e5",
   "metadata": {},
   "outputs": [
    {
     "name": "stdout",
     "output_type": "stream",
     "text": [
      "[['Fazer compras', 13012022, 'Casa', 'Pendende']]\n"
     ]
    }
   ],
   "source": [
    "remover_tarefa('Malhar')\n",
    "print(tarefas)"
   ]
  },
  {
   "cell_type": "code",
   "execution_count": null,
   "id": "b34131f4",
   "metadata": {},
   "outputs": [],
   "source": []
  }
 ],
 "metadata": {
  "kernelspec": {
   "display_name": "Python 3",
   "language": "python",
   "name": "python3"
  },
  "language_info": {
   "codemirror_mode": {
    "name": "ipython",
    "version": 3
   },
   "file_extension": ".py",
   "mimetype": "text/x-python",
   "name": "python",
   "nbconvert_exporter": "python",
   "pygments_lexer": "ipython3",
   "version": "3.8.8"
  }
 },
 "nbformat": 4,
 "nbformat_minor": 5
}
