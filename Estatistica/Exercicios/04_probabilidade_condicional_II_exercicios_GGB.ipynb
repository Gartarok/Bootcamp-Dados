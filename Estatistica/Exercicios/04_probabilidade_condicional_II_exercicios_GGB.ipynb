{
 "cells": [
  {
   "cell_type": "markdown",
   "id": "8a31bbf8",
   "metadata": {
    "ExecuteTime": {
     "end_time": "2022-01-06T15:14:09.404740Z",
     "start_time": "2022-01-06T15:14:09.394216Z"
    }
   },
   "source": [
    "# Exercício para entregar"
   ]
  },
  {
   "cell_type": "code",
   "execution_count": 51,
   "id": "4501b549",
   "metadata": {},
   "outputs": [],
   "source": [
    "import seaborn as sns\n",
    "import pandas as pd\n",
    "import numpy as np"
   ]
  },
  {
   "cell_type": "markdown",
   "id": "85971e71",
   "metadata": {},
   "source": [
    "**Abaixo está um código para criar dados falsos sobre a quantidade de coisas que as pessoas compram, de acordo com a faixa etária**.\n",
    "\n",
    "Ele gera 100.000 \"pessoas\" aleatórias e as atribui aleatoriamente como tendo entre 20, 30, 40, 50, 60 ou 70 anos.\n",
    "\n",
    "Em seguida, atribui uma menor probabilidade de os jovens comprarem coisas.\n",
    "\n",
    "No final, temos dois dicionários Python:\n",
    "\n",
    "- \"totais\" contém o número total de pessoas em cada faixa etária. \n",
    "- \"compras\" contém o número total de itens comprados por pessoas em cada faixa etária. \n",
    "- O total geral de compras é total de compras. \n",
    "- número total de pessoas é 100.000.\n",
    "\n",
    "Vamos executá-lo e dar uma olhada:"
   ]
  },
  {
   "cell_type": "code",
   "execution_count": 9,
   "id": "f0a5fc59",
   "metadata": {
    "ExecuteTime": {
     "end_time": "2022-01-05T14:19:36.706343Z",
     "start_time": "2022-01-05T14:19:35.804066Z"
    }
   },
   "outputs": [
    {
     "name": "stdout",
     "output_type": "stream",
     "text": [
      "45012\n",
      "{20: 3392, 30: 4974, 40: 6670, 50: 8319, 60: 9944, 70: 11713}\n",
      "<class 'dict'>\n"
     ]
    }
   ],
   "source": [
    "from numpy import random\n",
    "\n",
    "random.seed(0)\n",
    "\n",
    "totals = {20:0, 30:0, 40:0, 50:0, 60:0, 70:0}\n",
    "compras = {20:0, 30:0, 40:0, 50:0, 60:0, 70:0}\n",
    "total_compras = 0\n",
    "for _ in range(100000):\n",
    "    Decada_ano = random.choice([20, 30, 40, 50, 60, 70])\n",
    "    Probabilidade_compra = float(Decada_ano) / 100.0 ## por exemplo quem nasceu na decada 20/100\n",
    "    totals[Decada_ano] += 1\n",
    "    if (random.random() < Probabilidade_compra):\n",
    "        total_compras += 1\n",
    "        compras[Decada_ano] += 1\n",
    "        \n",
    "print(total_compras)\n",
    "print(compras)\n",
    "print(type(compras))"
   ]
  },
  {
   "cell_type": "code",
   "execution_count": 11,
   "id": "d93223aa",
   "metadata": {
    "ExecuteTime": {
     "end_time": "2022-01-05T14:32:36.386155Z",
     "start_time": "2022-01-05T14:32:36.380154Z"
    }
   },
   "outputs": [
    {
     "data": {
      "text/plain": [
       "{20: 16576, 30: 16619, 40: 16632, 50: 16805, 60: 16664, 70: 16704}"
      ]
     },
     "execution_count": 11,
     "metadata": {},
     "output_type": "execute_result"
    }
   ],
   "source": [
    "pessoas = totals\n",
    "pessoas"
   ]
  },
  {
   "cell_type": "code",
   "execution_count": 12,
   "id": "65e67b9e",
   "metadata": {
    "ExecuteTime": {
     "end_time": "2022-01-05T14:19:55.201329Z",
     "start_time": "2022-01-05T14:19:55.197136Z"
    }
   },
   "outputs": [
    {
     "data": {
      "text/plain": [
       "{20: 3392, 30: 4974, 40: 6670, 50: 8319, 60: 9944, 70: 11713}"
      ]
     },
     "execution_count": 12,
     "metadata": {},
     "output_type": "execute_result"
    }
   ],
   "source": [
    "compras"
   ]
  },
  {
   "cell_type": "code",
   "execution_count": 13,
   "id": "8535dccf",
   "metadata": {
    "ExecuteTime": {
     "end_time": "2022-01-05T14:20:14.389053Z",
     "start_time": "2022-01-05T14:20:14.386055Z"
    }
   },
   "outputs": [
    {
     "data": {
      "text/plain": [
       "45012"
      ]
     },
     "execution_count": 13,
     "metadata": {},
     "output_type": "execute_result"
    }
   ],
   "source": [
    "total_compras"
   ]
  },
  {
   "cell_type": "code",
   "execution_count": 14,
   "id": "c6cb3fac",
   "metadata": {
    "ExecuteTime": {
     "end_time": "2022-01-05T14:33:20.556273Z",
     "start_time": "2022-01-05T14:33:20.554273Z"
    }
   },
   "outputs": [],
   "source": [
    "total_pessoas = 100_000"
   ]
  },
  {
   "cell_type": "code",
   "execution_count": 113,
   "id": "94d08049",
   "metadata": {},
   "outputs": [
    {
     "data": {
      "text/plain": [
       "54988"
      ]
     },
     "execution_count": 113,
     "metadata": {},
     "output_type": "execute_result"
    }
   ],
   "source": [
    "total_n_compras = total_pessoas - total_compras\n",
    "total_n_compras"
   ]
  },
  {
   "cell_type": "code",
   "execution_count": 96,
   "id": "a0e80acc",
   "metadata": {},
   "outputs": [],
   "source": [
    "PC_lista = [round(total_compras*100/total_pessoas,2) for i in range(7)]\n",
    "PNC_lista = [round((total_pessoas - total_compras)*100/total_pessoas,2) for i in range(7)]"
   ]
  },
  {
   "cell_type": "markdown",
   "id": "76d799c5",
   "metadata": {},
   "source": [
    "1. Com os dados acima, faça um programa que calcule todas probabilidade e preencha o gráfico abaixo. O resultado do programa pode ser mostrado como e o gráfico completo deve ser anexado:\n",
    "\n",
    "\n",
    "| P(C)   | I | P(I\\|C) | P(I∩C) |  \n",
    "|--------|-------|---|--------|\n",
    "| x | 20 | \n",
    "\n",
    "\n",
    "| P(NC)   | I | P(I\\|NC) | P(I∩NC) |  \n",
    "|--------|-------|---|--------|\n",
    "| y | 20 | "
   ]
  },
  {
   "cell_type": "markdown",
   "id": "ddcd4898",
   "metadata": {},
   "source": [
    "--------------------------------------\n",
    "# Primeira Parte\n",
    "## Probabilidade de comprar PC\n",
    "--------------------------------------"
   ]
  },
  {
   "cell_type": "code",
   "execution_count": 111,
   "id": "6c92aaad",
   "metadata": {},
   "outputs": [
    {
     "name": "stdout",
     "output_type": "stream",
     "text": [
      "\n",
      "\n",
      "[7.54, 11.05, 14.82, 18.48, 22.09, 26.02]\n",
      "[3.39, 4.97, 6.67, 8.32, 9.94, 11.71]\n",
      "[20, 30, 40, 50, 60, 70]\n"
     ]
    }
   ],
   "source": [
    "#P(C)\n",
    "#Comprar\n",
    "#P(I|C)  \n",
    "lista1 = []\n",
    "for i in compras:\n",
    "    lista1.append(compras[i]/total_compras)\n",
    "    \n",
    "#P(I∩C)\n",
    "lista2 = []\n",
    "for i in compras:\n",
    "    lista2.append(compras[i]/total_pessoas)\n",
    " \n",
    "print('\\n')\n",
    "\n",
    "percentual1 = [round(i*100,2) for i in lista1]\n",
    "print(percentual1)\n",
    "percentual2 = [round(i*100,2) for i in lista2]\n",
    "print(percentual2)\n",
    "\n",
    "lista_keys = [i for i in pessoas.keys()]\n",
    "print(lista_keys)\n",
    "\n",
    "listaX= ['x' for i in range(7)]"
   ]
  },
  {
   "cell_type": "code",
   "execution_count": 98,
   "id": "e2dd3bf9",
   "metadata": {
    "scrolled": true
   },
   "outputs": [
    {
     "data": {
      "text/html": [
       "<div>\n",
       "<style scoped>\n",
       "    .dataframe tbody tr th:only-of-type {\n",
       "        vertical-align: middle;\n",
       "    }\n",
       "\n",
       "    .dataframe tbody tr th {\n",
       "        vertical-align: top;\n",
       "    }\n",
       "\n",
       "    .dataframe thead th {\n",
       "        text-align: right;\n",
       "    }\n",
       "</style>\n",
       "<table border=\"1\" class=\"dataframe\">\n",
       "  <thead>\n",
       "    <tr style=\"text-align: right;\">\n",
       "      <th></th>\n",
       "      <th>P(C)</th>\n",
       "      <th>I</th>\n",
       "      <th>P(I\\|C) [%]</th>\n",
       "      <th>P(I∩C) [%]</th>\n",
       "    </tr>\n",
       "  </thead>\n",
       "  <tbody>\n",
       "    <tr>\n",
       "      <th>0</th>\n",
       "      <td>45.01</td>\n",
       "      <td>20.0</td>\n",
       "      <td>7.54</td>\n",
       "      <td>3.39</td>\n",
       "    </tr>\n",
       "    <tr>\n",
       "      <th>1</th>\n",
       "      <td>45.01</td>\n",
       "      <td>30.0</td>\n",
       "      <td>11.05</td>\n",
       "      <td>4.97</td>\n",
       "    </tr>\n",
       "    <tr>\n",
       "      <th>2</th>\n",
       "      <td>45.01</td>\n",
       "      <td>40.0</td>\n",
       "      <td>14.82</td>\n",
       "      <td>6.67</td>\n",
       "    </tr>\n",
       "    <tr>\n",
       "      <th>3</th>\n",
       "      <td>45.01</td>\n",
       "      <td>50.0</td>\n",
       "      <td>18.48</td>\n",
       "      <td>8.32</td>\n",
       "    </tr>\n",
       "    <tr>\n",
       "      <th>4</th>\n",
       "      <td>45.01</td>\n",
       "      <td>60.0</td>\n",
       "      <td>22.09</td>\n",
       "      <td>9.94</td>\n",
       "    </tr>\n",
       "    <tr>\n",
       "      <th>5</th>\n",
       "      <td>45.01</td>\n",
       "      <td>70.0</td>\n",
       "      <td>26.02</td>\n",
       "      <td>11.71</td>\n",
       "    </tr>\n",
       "  </tbody>\n",
       "</table>\n",
       "</div>"
      ],
      "text/plain": [
       "    P(C)     I  P(I\\|C) [%]  P(I∩C) [%]\n",
       "0  45.01  20.0         7.54        3.39\n",
       "1  45.01  30.0        11.05        4.97\n",
       "2  45.01  40.0        14.82        6.67\n",
       "3  45.01  50.0        18.48        8.32\n",
       "4  45.01  60.0        22.09        9.94\n",
       "5  45.01  70.0        26.02       11.71"
      ]
     },
     "execution_count": 98,
     "metadata": {},
     "output_type": "execute_result"
    }
   ],
   "source": [
    "data1 = []\n",
    "for i in range(len(lista_keys)):\n",
    "    listap = []\n",
    "    listap.append(PC_lista[i])\n",
    "    listap.append(lista_keys[i])\n",
    "    listap.append(percentual1[i])\n",
    "    listap.append(percentual2[i])\n",
    "    data1.append(listap)\n",
    "    \n",
    "PC =pd.DataFrame(np.array(data1), columns = [\"P(C)\",\"I\",\"P(I\\|C) [%]\",\"P(I∩C) [%]\"])\n",
    "PC"
   ]
  },
  {
   "cell_type": "code",
   "execution_count": 104,
   "id": "e488520e",
   "metadata": {},
   "outputs": [
    {
     "data": {
      "text/plain": [
       "<AxesSubplot:xlabel='I', ylabel='P(I\\\\|C) [%]'>"
      ]
     },
     "execution_count": 104,
     "metadata": {},
     "output_type": "execute_result"
    },
    {
     "data": {
      "image/png": "[encoded data removed]",
      "text/plain": [
       "<Figure size 432x288 with 1 Axes>"
      ]
     },
     "metadata": {
      "needs_background": "light"
     },
     "output_type": "display_data"
    }
   ],
   "source": [
    "sns.barplot(x = PC[\"I\"], y = PC[\"P(I\\|C) [%]\"], data = PC )"
   ]
  },
  {
   "cell_type": "code",
   "execution_count": 105,
   "id": "22425e89",
   "metadata": {},
   "outputs": [
    {
     "data": {
      "text/plain": [
       "<AxesSubplot:xlabel='I', ylabel='P(I∩C) [%]'>"
      ]
     },
     "execution_count": 105,
     "metadata": {},
     "output_type": "execute_result"
    },
    {
     "data": {
      "image/png": "[encoded data removed]",
      "text/plain": [
       "<Figure size 432x288 with 1 Axes>"
      ]
     },
     "metadata": {
      "needs_background": "light"
     },
     "output_type": "display_data"
    }
   ],
   "source": [
    "sns.barplot(x = PC[\"I\"], y = PC[\"P(I∩C) [%]\"], data = PC )"
   ]
  },
  {
   "cell_type": "markdown",
   "id": "4c424a5a",
   "metadata": {},
   "source": [
    "--------------------------------------\n",
    "# Segunda Parte\n",
    "## Probabilidade de não comprar PNC\n",
    "--------------------------------------"
   ]
  },
  {
   "cell_type": "code",
   "execution_count": 114,
   "id": "0bc51821",
   "metadata": {},
   "outputs": [
    {
     "name": "stdout",
     "output_type": "stream",
     "text": [
      "\n",
      "\n",
      "[23.98, 21.18, 18.12, 15.43, 12.22, 9.08]\n",
      "[13.18, 11.64, 9.96, 8.49, 6.72, 4.99]\n",
      "[20, 30, 40, 50, 60, 70]\n"
     ]
    }
   ],
   "source": [
    "#P(NC)\n",
    "#Não Comprar\n",
    "#P(I|NC)  \n",
    "lista1NC = []\n",
    "for i in compras:\n",
    "    lista1NC.append((pessoas[i]-compras[i])/total_n_compras)\n",
    "    \n",
    "#P(I∩NC)\n",
    "lista2NC = []\n",
    "for i in compras:\n",
    "    lista2NC.append((pessoas[i]-compras[i])/total_pessoas)\n",
    " \n",
    "print('\\n')\n",
    "\n",
    "percentual1NC = [round(i*100,2) for i in lista1NC]\n",
    "print(percentual1NC)\n",
    "percentual2NC = [round(i*100,2) for i in lista2NC]\n",
    "print(percentual2NC)\n",
    "\n",
    "lista_keys = [i for i in pessoas.keys()]\n",
    "print(lista_keys)\n",
    "\n",
    "listaY= ['y' for i in range(7)]"
   ]
  },
  {
   "cell_type": "code",
   "execution_count": 115,
   "id": "ec656345",
   "metadata": {},
   "outputs": [
    {
     "data": {
      "text/html": [
       "<div>\n",
       "<style scoped>\n",
       "    .dataframe tbody tr th:only-of-type {\n",
       "        vertical-align: middle;\n",
       "    }\n",
       "\n",
       "    .dataframe tbody tr th {\n",
       "        vertical-align: top;\n",
       "    }\n",
       "\n",
       "    .dataframe thead th {\n",
       "        text-align: right;\n",
       "    }\n",
       "</style>\n",
       "<table border=\"1\" class=\"dataframe\">\n",
       "  <thead>\n",
       "    <tr style=\"text-align: right;\">\n",
       "      <th></th>\n",
       "      <th>P(NC)</th>\n",
       "      <th>I</th>\n",
       "      <th>P(I\\|NC) [%]</th>\n",
       "      <th>P(I∩NC) [%]</th>\n",
       "    </tr>\n",
       "  </thead>\n",
       "  <tbody>\n",
       "    <tr>\n",
       "      <th>0</th>\n",
       "      <td>54.99</td>\n",
       "      <td>20.0</td>\n",
       "      <td>23.98</td>\n",
       "      <td>13.18</td>\n",
       "    </tr>\n",
       "    <tr>\n",
       "      <th>1</th>\n",
       "      <td>54.99</td>\n",
       "      <td>30.0</td>\n",
       "      <td>21.18</td>\n",
       "      <td>11.64</td>\n",
       "    </tr>\n",
       "    <tr>\n",
       "      <th>2</th>\n",
       "      <td>54.99</td>\n",
       "      <td>40.0</td>\n",
       "      <td>18.12</td>\n",
       "      <td>9.96</td>\n",
       "    </tr>\n",
       "    <tr>\n",
       "      <th>3</th>\n",
       "      <td>54.99</td>\n",
       "      <td>50.0</td>\n",
       "      <td>15.43</td>\n",
       "      <td>8.49</td>\n",
       "    </tr>\n",
       "    <tr>\n",
       "      <th>4</th>\n",
       "      <td>54.99</td>\n",
       "      <td>60.0</td>\n",
       "      <td>12.22</td>\n",
       "      <td>6.72</td>\n",
       "    </tr>\n",
       "    <tr>\n",
       "      <th>5</th>\n",
       "      <td>54.99</td>\n",
       "      <td>70.0</td>\n",
       "      <td>9.08</td>\n",
       "      <td>4.99</td>\n",
       "    </tr>\n",
       "  </tbody>\n",
       "</table>\n",
       "</div>"
      ],
      "text/plain": [
       "   P(NC)     I  P(I\\|NC) [%]  P(I∩NC) [%]\n",
       "0  54.99  20.0         23.98        13.18\n",
       "1  54.99  30.0         21.18        11.64\n",
       "2  54.99  40.0         18.12         9.96\n",
       "3  54.99  50.0         15.43         8.49\n",
       "4  54.99  60.0         12.22         6.72\n",
       "5  54.99  70.0          9.08         4.99"
      ]
     },
     "execution_count": 115,
     "metadata": {},
     "output_type": "execute_result"
    }
   ],
   "source": [
    "data2 = []\n",
    "for i in range(len(lista_keys)):\n",
    "    listap = []\n",
    "    listap.append(PNC_lista[i])\n",
    "    listap.append(lista_keys[i])\n",
    "    listap.append(percentual1NC[i])\n",
    "    listap.append(percentual2NC[i])\n",
    "    data2.append(listap)\n",
    "    \n",
    "PNC =pd.DataFrame(np.array(data2), columns = [\"P(NC)\",\"I\",\"P(I\\|NC) [%]\",\"P(I∩NC) [%]\"])\n",
    "PNC"
   ]
  },
  {
   "cell_type": "code",
   "execution_count": 116,
   "id": "2496d7c5",
   "metadata": {
    "scrolled": true
   },
   "outputs": [
    {
     "data": {
      "text/plain": [
       "<AxesSubplot:xlabel='I', ylabel='P(I\\\\|NC) [%]'>"
      ]
     },
     "execution_count": 116,
     "metadata": {},
     "output_type": "execute_result"
    },
    {
     "data": {
      "image/png": "[encoded data removed]",
      "text/plain": [
       "<Figure size 432x288 with 1 Axes>"
      ]
     },
     "metadata": {
      "needs_background": "light"
     },
     "output_type": "display_data"
    }
   ],
   "source": [
    "sns.barplot(x = PNC[\"I\"], y = PNC[\"P(I\\|NC) [%]\"], data = PNC )"
   ]
  },
  {
   "cell_type": "code",
   "execution_count": 117,
   "id": "5979cbb5",
   "metadata": {},
   "outputs": [
    {
     "data": {
      "text/plain": [
       "<AxesSubplot:xlabel='I', ylabel='P(I∩NC) [%]'>"
      ]
     },
     "execution_count": 117,
     "metadata": {},
     "output_type": "execute_result"
    },
    {
     "data": {
      "image/png": "[encoded data removed]",
      "text/plain": [
       "<Figure size 432x288 with 1 Axes>"
      ]
     },
     "metadata": {
      "needs_background": "light"
     },
     "output_type": "display_data"
    }
   ],
   "source": [
    "sns.barplot(x = PNC[\"I\"], y = PNC[\"P(I∩NC) [%]\"], data = PNC )"
   ]
  },
  {
   "cell_type": "code",
   "execution_count": null,
   "id": "39c763f3",
   "metadata": {},
   "outputs": [],
   "source": [
    "#fim"
   ]
  }
 ],
 "metadata": {
  "kernelspec": {
   "display_name": "Python 3",
   "language": "python",
   "name": "python3"
  },
  "language_info": {
   "codemirror_mode": {
    "name": "ipython",
    "version": 3
   },
   "file_extension": ".py",
   "mimetype": "text/x-python",
   "name": "python",
   "nbconvert_exporter": "python",
   "pygments_lexer": "ipython3",
   "version": "3.8.8"
  },
  "toc": {
   "base_numbering": 1,
   "nav_menu": {},
   "number_sections": true,
   "sideBar": true,
   "skip_h1_title": false,
   "title_cell": "Table of Contents",
   "title_sidebar": "Contents",
   "toc_cell": false,
   "toc_position": {},
   "toc_section_display": true,
   "toc_window_display": false
  }
 },
 "nbformat": 4,
 "nbformat_minor": 5
}
