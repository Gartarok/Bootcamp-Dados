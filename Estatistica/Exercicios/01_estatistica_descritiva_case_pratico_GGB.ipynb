{
 "cells": [
  {
   "cell_type": "markdown",
   "metadata": {},
   "source": [
    "Grupo:\n",
    "\n",
    "1. Gabriel  \n",
    "1. Fabricio\n",
    "1. Roberto \n"
   ]
  },
  {
   "cell_type": "markdown",
   "metadata": {
    "colab_type": "text",
    "id": "WvMflodMjQKe"
   },
   "source": [
    "# Estatística Descritiva | Case Prático\n",
    "***\n",
    "\n",
    "<img src=\"https://letscode.com.br/images/logoLcPng.png\" width=\"250px\" style=\"position: absolute; top: 20px; right: 20px; border-radius: 5px;\" />"
   ]
  },
  {
   "cell_type": "markdown",
   "metadata": {
    "colab_type": "text",
    "id": "iN1gIbaKjQKh"
   },
   "source": [
    "## Pesquisa Nacional por Amostra de Domicílios - 2015\n",
    "\n",
    "A <b>Pesquisa Nacional por Amostra de Domicílios - PNAD</b> investiga anualmente, de forma permanente, características gerais da população, de educação, trabalho, rendimento e habitação e outras, com periodicidade variável, de acordo com as necessidades de informação para o país, como as características sobre migração, fecundidade, nupcialidade, saúde, segurança alimentar, entre outros temas. O levantamento dessas estatísticas constitui, ao longo dos 49 anos de realização da pesquisa, um importante instrumento para formulação, validação e avaliação de políticas orientadas para o desenvolvimento socioeconômico e a melhoria das condições de vida no Brasil."
   ]
  },
  {
   "cell_type": "markdown",
   "metadata": {
    "colab_type": "text",
    "id": "r0Fe_qnzjQKj"
   },
   "source": [
    "## Variáveis utilizadas\n",
    "\n",
    "### Renda\n",
    "\n",
    "Rendimento mensal do trabalho principal para pessoas de 10 anos ou mais de idade.\n",
    "\n",
    "### Idade\n",
    "\n",
    "Idade do morador na data de referência em anos.\n",
    "\n",
    "### Altura (elaboração própria)\n",
    "\n",
    "Altura do morador em metros.\n",
    "\n",
    "### UF\n",
    "\n",
    "|Código|Descrição|\n",
    "|---|---|\n",
    "|11|Rondônia|\n",
    "|12|Acre|\n",
    "|13|Amazonas|\n",
    "|14|Roraima|\n",
    "|15|Pará|\n",
    "|16|Amapá|\n",
    "|17|Tocantins|\n",
    "|21|Maranhão|\n",
    "|22|Piauí|\n",
    "|23|Ceará|\n",
    "|24|Rio Grande do Norte|\n",
    "|25|Paraíba|\n",
    "|26|Pernambuco|\n",
    "|27|Alagoas|\n",
    "|28|Sergipe|\n",
    "|29|Bahia|\n",
    "|31|Minas Gerais|\n",
    "|32|Espírito Santo|\n",
    "|33|Rio de Janeiro|\n",
    "|35|São Paulo|\n",
    "|41|Paraná|\n",
    "|42|Santa Catarina|\n",
    "|43|Rio Grande do Sul|\n",
    "|50|Mato Grosso do Sul|\n",
    "|51|Mato Grosso|\n",
    "|52|Goiás|\n",
    "|53|Distrito Federal|\n",
    "\n",
    "### Sexo\n",
    "\n",
    "|Código|Descrição|\n",
    "|---|---|\n",
    "|0|Masculino|\n",
    "|1|Feminino|\n",
    "\n",
    "### Anos de Estudo\n",
    "\n",
    "|Código|Descrição|\n",
    "|---|---|\n",
    "|1|Sem instrução e menos de 1 ano|\n",
    "|2|1 ano|\n",
    "|3|2 anos|\n",
    "|4|3 anos|\n",
    "|5|4 anos|\n",
    "|6|5 anos|\n",
    "|7|6 anos|\n",
    "|8|7 anos|\n",
    "|9|8 anos|\n",
    "|10|9 anos|\n",
    "|11|10 anos|\n",
    "|12|11 anos|\n",
    "|13|12 anos|\n",
    "|14|13 anos|\n",
    "|15|14 anos|\n",
    "|16|15 anos ou mais|\n",
    "|17|Não determinados| \n",
    "||Não aplicável|\n",
    "\n",
    "### Cor\n",
    "\n",
    "|Código|Descrição|\n",
    "|---|---|\n",
    "|0|Indígena|\n",
    "|2|Branca|\n",
    "|4|Preta|\n",
    "|6|Amarela|\n",
    "|8|Parda|\n",
    "|9|Sem declaração|"
   ]
  },
  {
   "cell_type": "markdown",
   "metadata": {
    "colab_type": "text",
    "id": "OK1IQH5cX7Gb"
   },
   "source": [
    "#### <font color='red'>Observação</font>\n",
    "***\n",
    "> Os seguintes tratamentos foram realizados nos dados originais:\n",
    "> 1. Foram eliminados os registros onde a <b>Renda</b> era inválida (999 999 999 999);\n",
    "> 2. Foram eliminados os registros onde a <b>Renda</b> era missing;\n",
    "> 3. Foram considerados somente os registros das <b>Pessoas de Referência</b> de cada domicílio (responsável pelo domicílio)."
   ]
  },
  {
   "cell_type": "markdown",
   "metadata": {
    "colab_type": "text",
    "id": "8Rw70V6ojQKk"
   },
   "source": [
    "# Importando as bibliotecas e lendo o dataset"
   ]
  },
  {
   "cell_type": "code",
   "execution_count": 1,
   "metadata": {
    "ExecuteTime": {
     "end_time": "2021-12-16T14:08:24.466338Z",
     "start_time": "2021-12-16T14:08:23.449576Z"
    },
    "execution": {
     "iopub.execute_input": "2021-04-19T22:18:16.049421Z",
     "iopub.status.busy": "2021-04-19T22:18:16.048868Z",
     "iopub.status.idle": "2021-04-19T22:18:18.030686Z",
     "shell.execute_reply": "2021-04-19T22:18:18.028769Z",
     "shell.execute_reply.started": "2021-04-19T22:18:16.049371Z"
    }
   },
   "outputs": [],
   "source": [
    "import numpy as np\n",
    "import pandas as pd\n",
    "import matplotlib.pyplot as plt\n",
    "import seaborn as sns\n",
    "\n",
    "sns.set()\n",
    "\n",
    "%matplotlib inline"
   ]
  },
  {
   "cell_type": "code",
   "execution_count": 2,
   "metadata": {
    "ExecuteTime": {
     "end_time": "2021-12-16T14:08:41.928518Z",
     "start_time": "2021-12-16T14:08:41.862330Z"
    },
    "execution": {
     "iopub.execute_input": "2021-04-19T22:18:18.513553Z",
     "iopub.status.busy": "2021-04-19T22:18:18.512750Z",
     "iopub.status.idle": "2021-04-19T22:18:18.667929Z",
     "shell.execute_reply": "2021-04-19T22:18:18.666636Z",
     "shell.execute_reply.started": "2021-04-19T22:18:18.513464Z"
    }
   },
   "outputs": [
    {
     "data": {
      "text/html": [
       "<div>\n",
       "<style scoped>\n",
       "    .dataframe tbody tr th:only-of-type {\n",
       "        vertical-align: middle;\n",
       "    }\n",
       "\n",
       "    .dataframe tbody tr th {\n",
       "        vertical-align: top;\n",
       "    }\n",
       "\n",
       "    .dataframe thead th {\n",
       "        text-align: right;\n",
       "    }\n",
       "</style>\n",
       "<table border=\"1\" class=\"dataframe\">\n",
       "  <thead>\n",
       "    <tr style=\"text-align: right;\">\n",
       "      <th></th>\n",
       "      <th>UF</th>\n",
       "      <th>Sexo</th>\n",
       "      <th>Idade</th>\n",
       "      <th>Cor</th>\n",
       "      <th>Anos de Estudo</th>\n",
       "      <th>Renda</th>\n",
       "      <th>Altura</th>\n",
       "    </tr>\n",
       "  </thead>\n",
       "  <tbody>\n",
       "    <tr>\n",
       "      <th>0</th>\n",
       "      <td>11</td>\n",
       "      <td>0</td>\n",
       "      <td>23</td>\n",
       "      <td>8</td>\n",
       "      <td>12</td>\n",
       "      <td>800</td>\n",
       "      <td>1.603808</td>\n",
       "    </tr>\n",
       "    <tr>\n",
       "      <th>1</th>\n",
       "      <td>11</td>\n",
       "      <td>1</td>\n",
       "      <td>23</td>\n",
       "      <td>2</td>\n",
       "      <td>12</td>\n",
       "      <td>1150</td>\n",
       "      <td>1.739790</td>\n",
       "    </tr>\n",
       "    <tr>\n",
       "      <th>2</th>\n",
       "      <td>11</td>\n",
       "      <td>1</td>\n",
       "      <td>35</td>\n",
       "      <td>8</td>\n",
       "      <td>15</td>\n",
       "      <td>880</td>\n",
       "      <td>1.760444</td>\n",
       "    </tr>\n",
       "    <tr>\n",
       "      <th>3</th>\n",
       "      <td>11</td>\n",
       "      <td>0</td>\n",
       "      <td>46</td>\n",
       "      <td>2</td>\n",
       "      <td>6</td>\n",
       "      <td>3500</td>\n",
       "      <td>1.783158</td>\n",
       "    </tr>\n",
       "    <tr>\n",
       "      <th>4</th>\n",
       "      <td>11</td>\n",
       "      <td>1</td>\n",
       "      <td>47</td>\n",
       "      <td>8</td>\n",
       "      <td>9</td>\n",
       "      <td>150</td>\n",
       "      <td>1.690631</td>\n",
       "    </tr>\n",
       "    <tr>\n",
       "      <th>...</th>\n",
       "      <td>...</td>\n",
       "      <td>...</td>\n",
       "      <td>...</td>\n",
       "      <td>...</td>\n",
       "      <td>...</td>\n",
       "      <td>...</td>\n",
       "      <td>...</td>\n",
       "    </tr>\n",
       "    <tr>\n",
       "      <th>76835</th>\n",
       "      <td>53</td>\n",
       "      <td>1</td>\n",
       "      <td>46</td>\n",
       "      <td>2</td>\n",
       "      <td>11</td>\n",
       "      <td>812</td>\n",
       "      <td>1.687030</td>\n",
       "    </tr>\n",
       "    <tr>\n",
       "      <th>76836</th>\n",
       "      <td>53</td>\n",
       "      <td>0</td>\n",
       "      <td>30</td>\n",
       "      <td>4</td>\n",
       "      <td>7</td>\n",
       "      <td>1500</td>\n",
       "      <td>1.792934</td>\n",
       "    </tr>\n",
       "    <tr>\n",
       "      <th>76837</th>\n",
       "      <td>53</td>\n",
       "      <td>0</td>\n",
       "      <td>32</td>\n",
       "      <td>8</td>\n",
       "      <td>12</td>\n",
       "      <td>1300</td>\n",
       "      <td>1.830587</td>\n",
       "    </tr>\n",
       "    <tr>\n",
       "      <th>76838</th>\n",
       "      <td>53</td>\n",
       "      <td>0</td>\n",
       "      <td>57</td>\n",
       "      <td>8</td>\n",
       "      <td>4</td>\n",
       "      <td>1500</td>\n",
       "      <td>1.726344</td>\n",
       "    </tr>\n",
       "    <tr>\n",
       "      <th>76839</th>\n",
       "      <td>53</td>\n",
       "      <td>0</td>\n",
       "      <td>38</td>\n",
       "      <td>8</td>\n",
       "      <td>4</td>\n",
       "      <td>900</td>\n",
       "      <td>1.658305</td>\n",
       "    </tr>\n",
       "  </tbody>\n",
       "</table>\n",
       "<p>76840 rows × 7 columns</p>\n",
       "</div>"
      ],
      "text/plain": [
       "       UF  Sexo  Idade  Cor  Anos de Estudo  Renda    Altura\n",
       "0      11     0     23    8              12    800  1.603808\n",
       "1      11     1     23    2              12   1150  1.739790\n",
       "2      11     1     35    8              15    880  1.760444\n",
       "3      11     0     46    2               6   3500  1.783158\n",
       "4      11     1     47    8               9    150  1.690631\n",
       "...    ..   ...    ...  ...             ...    ...       ...\n",
       "76835  53     1     46    2              11    812  1.687030\n",
       "76836  53     0     30    4               7   1500  1.792934\n",
       "76837  53     0     32    8              12   1300  1.830587\n",
       "76838  53     0     57    8               4   1500  1.726344\n",
       "76839  53     0     38    8               4    900  1.658305\n",
       "\n",
       "[76840 rows x 7 columns]"
      ]
     },
     "execution_count": 2,
     "metadata": {},
     "output_type": "execute_result"
    }
   ],
   "source": [
    "df = pd.read_csv('pnad_2015.csv')\n",
    "df"
   ]
  },
  {
   "cell_type": "markdown",
   "metadata": {},
   "source": [
    "1. UF\n",
    "1. SEXO\n",
    "1. IDADE \n",
    "1. COR\n",
    "1. ANOS DE ESTUDO\n",
    "1. RENDA\n",
    "1. ALTURA"
   ]
  },
  {
   "cell_type": "markdown",
   "metadata": {
    "colab_type": "text",
    "id": "E3Mx0tVqjQKs"
   },
   "source": [
    "# Tipos de dados\n",
    "***"
   ]
  },
  {
   "cell_type": "markdown",
   "metadata": {
    "colab_type": "text",
    "id": "oB4TCBFojQKt"
   },
   "source": [
    "## Variáveis qualitativas ordinais\n",
    "\n",
    "► Variáveis que podem ser ordenadas ou hierarquizardas"
   ]
  },
  {
   "cell_type": "code",
   "execution_count": null,
   "metadata": {},
   "outputs": [],
   "source": [
    "nenhuma"
   ]
  },
  {
   "cell_type": "markdown",
   "metadata": {
    "colab_type": "text",
    "id": "i2mCIMyojQKv"
   },
   "source": [
    "## Variáveis qualitativas nominais\n",
    "\n",
    "► Variáveis que não podem ser ordenadas ou hierarquizardas"
   ]
  },
  {
   "cell_type": "code",
   "execution_count": null,
   "metadata": {},
   "outputs": [],
   "source": [
    "UG, sexo cor"
   ]
  },
  {
   "cell_type": "markdown",
   "metadata": {
    "colab_type": "text",
    "id": "FQhi81LsjQK5"
   },
   "source": [
    "## Variáveis quantitativas discretas\n",
    "\n",
    "► Variáveis que representam uma contagem onde os valores possíveis formam um conjunto finito ou enumerável."
   ]
  },
  {
   "cell_type": "code",
   "execution_count": null,
   "metadata": {},
   "outputs": [],
   "source": [
    "idades anos de estudo"
   ]
  },
  {
   "cell_type": "markdown",
   "metadata": {
    "colab_type": "text",
    "id": "J0L2OkaQjQK7"
   },
   "source": [
    "## Variáveis quantitativas contínuas\n",
    "\n",
    "► Variáveis que representam uma contagem ou mensuração que assumem valores em uma escala contínua (números reais)."
   ]
  },
  {
   "cell_type": "code",
   "execution_count": null,
   "metadata": {},
   "outputs": [],
   "source": [
    "renda, altura"
   ]
  },
  {
   "cell_type": "markdown",
   "metadata": {
    "colab_type": "text",
    "id": "PNIg_4VEjQK_"
   },
   "source": [
    "# Distribuição de frequências\n",
    "***\n",
    "\n",
    "O primeiro passo em um trabalho de análise é o conhecimento do comportamento das variáveis envolvidas no estudo. Utilizando técnicas estatísticas como as análises das <b>DISTRIBUIÇÕES DE FREQUÊNCIAS</b> e <b>HISTOGRAMAS</b> podemos avaliar melhor a forma como os fenômenos em estudo se distribuem."
   ]
  },
  {
   "cell_type": "markdown",
   "metadata": {
    "colab_type": "text",
    "id": "JhpyjkEFjQLA"
   },
   "source": [
    "## Distribuição de frequências para variáveis qualitativas\n",
    "***"
   ]
  },
  {
   "cell_type": "markdown",
   "metadata": {
    "colab_type": "text",
    "id": "SsN3ikjqjQLB"
   },
   "source": [
    "### Obtenha a tabela e o gráfico de distribuição de frequências para a variável sexo"
   ]
  },
  {
   "cell_type": "code",
   "execution_count": 3,
   "metadata": {},
   "outputs": [
    {
     "data": {
      "text/html": [
       "<div>\n",
       "<style scoped>\n",
       "    .dataframe tbody tr th:only-of-type {\n",
       "        vertical-align: middle;\n",
       "    }\n",
       "\n",
       "    .dataframe tbody tr th {\n",
       "        vertical-align: top;\n",
       "    }\n",
       "\n",
       "    .dataframe thead th {\n",
       "        text-align: right;\n",
       "    }\n",
       "</style>\n",
       "<table border=\"1\" class=\"dataframe\">\n",
       "  <thead>\n",
       "    <tr style=\"text-align: right;\">\n",
       "      <th></th>\n",
       "      <th>Total_sexo</th>\n",
       "    </tr>\n",
       "  </thead>\n",
       "  <tbody>\n",
       "    <tr>\n",
       "      <th>0</th>\n",
       "      <td>53250</td>\n",
       "    </tr>\n",
       "    <tr>\n",
       "      <th>1</th>\n",
       "      <td>23590</td>\n",
       "    </tr>\n",
       "  </tbody>\n",
       "</table>\n",
       "</div>"
      ],
      "text/plain": [
       "   Total_sexo\n",
       "0       53250\n",
       "1       23590"
      ]
     },
     "execution_count": 3,
     "metadata": {},
     "output_type": "execute_result"
    }
   ],
   "source": [
    "freq_sexo = pd.DataFrame()\n",
    "freq_sexo['Total_sexo'] = df['Sexo'].value_counts()\n",
    "freq_sexo"
   ]
  },
  {
   "cell_type": "code",
   "execution_count": 4,
   "metadata": {},
   "outputs": [
    {
     "data": {
      "text/plain": [
       "<AxesSubplot:xlabel='Sexo', ylabel='Count'>"
      ]
     },
     "execution_count": 4,
     "metadata": {},
     "output_type": "execute_result"
    },
    {
     "data": {
      "image/png": "[encoded data removed]",
      "text/plain": [
       "<Figure size 432x288 with 1 Axes>"
      ]
     },
     "metadata": {
      "needs_background": "light"
     },
     "output_type": "display_data"
    }
   ],
   "source": [
    "sns.histplot(x=df['Sexo'], bins=[0, 1, 2])"
   ]
  },
  {
   "cell_type": "markdown",
   "metadata": {
    "colab": {
     "base_uri": "https://localhost:8080/",
     "height": 111
    },
    "colab_type": "code",
    "id": "B9zkYdcCyHe6",
    "outputId": "870e3f1e-498f-47f2-f9c7-30f748d0870a"
   },
   "source": [
    "### Obtenha a tabela de distribuição de frequências para a variável Sexo cruzada com os dados de Cor"
   ]
  },
  {
   "cell_type": "code",
   "execution_count": 5,
   "metadata": {
    "colab": {
     "base_uri": "https://localhost:8080/",
     "height": 142
    },
    "colab_type": "code",
    "id": "_MHwBGcdp6dl",
    "outputId": "d2674b4f-214e-4b08-de79-13e443d41d41"
   },
   "outputs": [
    {
     "data": {
      "text/html": [
       "<div>\n",
       "<style scoped>\n",
       "    .dataframe tbody tr th:only-of-type {\n",
       "        vertical-align: middle;\n",
       "    }\n",
       "\n",
       "    .dataframe tbody tr th {\n",
       "        vertical-align: top;\n",
       "    }\n",
       "\n",
       "    .dataframe thead th {\n",
       "        text-align: right;\n",
       "    }\n",
       "</style>\n",
       "<table border=\"1\" class=\"dataframe\">\n",
       "  <thead>\n",
       "    <tr style=\"text-align: right;\">\n",
       "      <th>Cor</th>\n",
       "      <th>0</th>\n",
       "      <th>2</th>\n",
       "      <th>4</th>\n",
       "      <th>6</th>\n",
       "      <th>8</th>\n",
       "    </tr>\n",
       "    <tr>\n",
       "      <th>Sexo</th>\n",
       "      <th></th>\n",
       "      <th></th>\n",
       "      <th></th>\n",
       "      <th></th>\n",
       "      <th></th>\n",
       "    </tr>\n",
       "  </thead>\n",
       "  <tbody>\n",
       "    <tr>\n",
       "      <th>0</th>\n",
       "      <td>256</td>\n",
       "      <td>22194</td>\n",
       "      <td>5502</td>\n",
       "      <td>235</td>\n",
       "      <td>25063</td>\n",
       "    </tr>\n",
       "    <tr>\n",
       "      <th>1</th>\n",
       "      <td>101</td>\n",
       "      <td>9621</td>\n",
       "      <td>2889</td>\n",
       "      <td>117</td>\n",
       "      <td>10862</td>\n",
       "    </tr>\n",
       "  </tbody>\n",
       "</table>\n",
       "</div>"
      ],
      "text/plain": [
       "Cor     0      2     4    6      8\n",
       "Sexo                              \n",
       "0     256  22194  5502  235  25063\n",
       "1     101   9621  2889  117  10862"
      ]
     },
     "execution_count": 5,
     "metadata": {},
     "output_type": "execute_result"
    }
   ],
   "source": [
    "pd.crosstab(df['Sexo'], df['Cor'])"
   ]
  },
  {
   "cell_type": "markdown",
   "metadata": {
    "colab_type": "text",
    "id": "eaXQUxnXjQLa"
   },
   "source": [
    "## Distribuição de frequências para variáveis quantitativas (classes personalizadas)\n",
    "***"
   ]
  },
  {
   "cell_type": "markdown",
   "metadata": {
    "colab_type": "text",
    "id": "wxsSD-VVjQLb"
   },
   "source": [
    "###  Especificar os limites de cada classe\n",
    "\n",
    "Utilizar a seguinte classificação:\n",
    "\n",
    "<b>A</b> ► Acima de 20 SM\n",
    "\n",
    "<b>B</b> ► De 10 a 20 SM\n",
    "\n",
    "<b>C</b> ► De 4 a 10 SM\n",
    "\n",
    "<b>D</b> ► De 2 a 4 SM\n",
    "\n",
    "<b>E</b> ► Até 2 SM\n",
    "\n",
    "onde <b>SM</b> é o valor do salário mínimo na época. Em nosso caso, <b>R$ 788,00</b> (considerando o ano de 2015):\n",
    "\n",
    "<b>A</b> ► Acima de 15.760\n",
    "\n",
    "<b>B</b> ► De 7.880 a 15.760\n",
    "\n",
    "<b>C</b> ► De 3.152 a 7.880\n",
    "\n",
    "<b>D</b> ► De 1.576 a 3.152\n",
    "\n",
    "<b>E</b> ► Até 1.576\n"
   ]
  },
  {
   "cell_type": "markdown",
   "metadata": {},
   "source": [
    "### Criar um dataframe que contenha essas classes personalizadas, utilizando o `pd.cut`."
   ]
  },
  {
   "cell_type": "code",
   "execution_count": 6,
   "metadata": {},
   "outputs": [
    {
     "data": {
      "text/plain": [
       "(0, 1576]          46888\n",
       "(1576, 3152]       16700\n",
       "(3152, 7880]        7599\n",
       "(7880, 15760]       2178\n",
       "(15760, 200000]      608\n",
       "Name: Renda, dtype: int64"
      ]
     },
     "execution_count": 6,
     "metadata": {},
     "output_type": "execute_result"
    }
   ],
   "source": [
    "pd.cut(x=df['Renda'], bins=[0, 1576, 3152, 7880, 15760, max(df['Renda'])]).value_counts()"
   ]
  },
  {
   "cell_type": "markdown",
   "metadata": {
    "colab_type": "text",
    "id": "IQhlvrQUjQLk"
   },
   "source": [
    "### Criar a tabela de distribuição de frequências do dataframe obtido acima."
   ]
  },
  {
   "cell_type": "code",
   "execution_count": 7,
   "metadata": {},
   "outputs": [
    {
     "data": {
      "text/html": [
       "<div>\n",
       "<style scoped>\n",
       "    .dataframe tbody tr th:only-of-type {\n",
       "        vertical-align: middle;\n",
       "    }\n",
       "\n",
       "    .dataframe tbody tr th {\n",
       "        vertical-align: top;\n",
       "    }\n",
       "\n",
       "    .dataframe thead th {\n",
       "        text-align: right;\n",
       "    }\n",
       "</style>\n",
       "<table border=\"1\" class=\"dataframe\">\n",
       "  <thead>\n",
       "    <tr style=\"text-align: right;\">\n",
       "      <th></th>\n",
       "      <th>FreqRendaAbsoluta</th>\n",
       "    </tr>\n",
       "  </thead>\n",
       "  <tbody>\n",
       "    <tr>\n",
       "      <th>(0, 1576]</th>\n",
       "      <td>46888</td>\n",
       "    </tr>\n",
       "    <tr>\n",
       "      <th>(1576, 3152]</th>\n",
       "      <td>16700</td>\n",
       "    </tr>\n",
       "    <tr>\n",
       "      <th>(3152, 7880]</th>\n",
       "      <td>7599</td>\n",
       "    </tr>\n",
       "    <tr>\n",
       "      <th>(7880, 15760]</th>\n",
       "      <td>2178</td>\n",
       "    </tr>\n",
       "    <tr>\n",
       "      <th>(15760, 200000]</th>\n",
       "      <td>608</td>\n",
       "    </tr>\n",
       "  </tbody>\n",
       "</table>\n",
       "</div>"
      ],
      "text/plain": [
       "                 FreqRendaAbsoluta\n",
       "(0, 1576]                    46888\n",
       "(1576, 3152]                 16700\n",
       "(3152, 7880]                  7599\n",
       "(7880, 15760]                 2178\n",
       "(15760, 200000]                608"
      ]
     },
     "execution_count": 7,
     "metadata": {},
     "output_type": "execute_result"
    }
   ],
   "source": [
    "freq_renda = pd.DataFrame()\n",
    "freq_renda['FreqRendaAbsoluta']=pd.cut(x=df['Renda'], bins=[0, 1576, 3152, 7880, 15760, max(df['Renda'])]).value_counts()\n",
    "freq_renda"
   ]
  },
  {
   "cell_type": "markdown",
   "metadata": {
    "colab_type": "text",
    "id": "ViJYvvjujQLu"
   },
   "source": [
    "## Distribuição de frequências para variáveis quantitativas (classes de amplitude fixa)\n",
    "***"
   ]
  },
  {
   "cell_type": "markdown",
   "metadata": {},
   "source": [
    "Obtenha a tabela e o gráfico de distribuições de frequências da variável de renda, mas, dessa vez, utilizando a Regra de Sturges para definir as classes de amplitude fixa."
   ]
  },
  {
   "cell_type": "markdown",
   "metadata": {
    "colab_type": "text",
    "id": "s9UGNaMzjQLy"
   },
   "source": [
    "### Definindo o número de classes e criando o dataframe com as classes"
   ]
  },
  {
   "cell_type": "markdown",
   "metadata": {},
   "source": [
    "**Regra de Sturges**\n",
    "\n",
    "$$k = 1 + \\frac{10}{3}\\log_{10}n$$"
   ]
  },
  {
   "cell_type": "code",
   "execution_count": 8,
   "metadata": {},
   "outputs": [],
   "source": [
    "# n = total de observações no dataframe\n",
    "# k = número ótimo de bins"
   ]
  },
  {
   "cell_type": "code",
   "execution_count": 9,
   "metadata": {
    "colab": {
     "base_uri": "https://localhost:8080/",
     "height": 35
    },
    "colab_type": "code",
    "id": "B_Y66_KFjQL4",
    "outputId": "b93f7e32-c1f3-46b0-86d2-4575bab25906"
   },
   "outputs": [
    {
     "name": "stdout",
     "output_type": "stream",
     "text": [
      "17.285291187298853\n"
     ]
    }
   ],
   "source": [
    "import math \n",
    "n = 76840\n",
    "k = 1 + (10/3) * (math.log(n,10))\n",
    "print(k)\n",
    "#Arredondar pra cima"
   ]
  },
  {
   "cell_type": "markdown",
   "metadata": {
    "colab_type": "text",
    "id": "5eO-RhaljQL6"
   },
   "source": [
    "### Criando a tabela e o gráfico de distribução de frequências"
   ]
  },
  {
   "cell_type": "code",
   "execution_count": 10,
   "metadata": {
    "colab": {
     "base_uri": "https://localhost:8080/",
     "height": 341
    },
    "colab_type": "code",
    "id": "-ylxSip1jQL9",
    "outputId": "d362e353-a3c9-4721-efd3-2a8ff7c85ab5"
   },
   "outputs": [
    {
     "data": {
      "text/html": [
       "<div>\n",
       "<style scoped>\n",
       "    .dataframe tbody tr th:only-of-type {\n",
       "        vertical-align: middle;\n",
       "    }\n",
       "\n",
       "    .dataframe tbody tr th {\n",
       "        vertical-align: top;\n",
       "    }\n",
       "\n",
       "    .dataframe thead th {\n",
       "        text-align: right;\n",
       "    }\n",
       "</style>\n",
       "<table border=\"1\" class=\"dataframe\">\n",
       "  <thead>\n",
       "    <tr style=\"text-align: right;\">\n",
       "      <th></th>\n",
       "      <th>FreqRendaAbsoluta</th>\n",
       "    </tr>\n",
       "  </thead>\n",
       "  <tbody>\n",
       "    <tr>\n",
       "      <th>(-200.0, 11764.706]</th>\n",
       "      <td>75594</td>\n",
       "    </tr>\n",
       "    <tr>\n",
       "      <th>(11764.706, 23529.412]</th>\n",
       "      <td>1022</td>\n",
       "    </tr>\n",
       "    <tr>\n",
       "      <th>(23529.412, 35294.118]</th>\n",
       "      <td>169</td>\n",
       "    </tr>\n",
       "    <tr>\n",
       "      <th>(35294.118, 47058.824]</th>\n",
       "      <td>19</td>\n",
       "    </tr>\n",
       "    <tr>\n",
       "      <th>(47058.824, 58823.529]</th>\n",
       "      <td>16</td>\n",
       "    </tr>\n",
       "    <tr>\n",
       "      <th>(94117.647, 105882.353]</th>\n",
       "      <td>6</td>\n",
       "    </tr>\n",
       "    <tr>\n",
       "      <th>(58823.529, 70588.235]</th>\n",
       "      <td>5</td>\n",
       "    </tr>\n",
       "    <tr>\n",
       "      <th>(70588.235, 82352.941]</th>\n",
       "      <td>4</td>\n",
       "    </tr>\n",
       "    <tr>\n",
       "      <th>(188235.294, 200000.0]</th>\n",
       "      <td>3</td>\n",
       "    </tr>\n",
       "    <tr>\n",
       "      <th>(82352.941, 94117.647]</th>\n",
       "      <td>1</td>\n",
       "    </tr>\n",
       "    <tr>\n",
       "      <th>(117647.059, 129411.765]</th>\n",
       "      <td>1</td>\n",
       "    </tr>\n",
       "    <tr>\n",
       "      <th>(105882.353, 117647.059]</th>\n",
       "      <td>0</td>\n",
       "    </tr>\n",
       "    <tr>\n",
       "      <th>(129411.765, 141176.471]</th>\n",
       "      <td>0</td>\n",
       "    </tr>\n",
       "    <tr>\n",
       "      <th>(141176.471, 152941.176]</th>\n",
       "      <td>0</td>\n",
       "    </tr>\n",
       "    <tr>\n",
       "      <th>(152941.176, 164705.882]</th>\n",
       "      <td>0</td>\n",
       "    </tr>\n",
       "    <tr>\n",
       "      <th>(164705.882, 176470.588]</th>\n",
       "      <td>0</td>\n",
       "    </tr>\n",
       "    <tr>\n",
       "      <th>(176470.588, 188235.294]</th>\n",
       "      <td>0</td>\n",
       "    </tr>\n",
       "  </tbody>\n",
       "</table>\n",
       "</div>"
      ],
      "text/plain": [
       "                          FreqRendaAbsoluta\n",
       "(-200.0, 11764.706]                   75594\n",
       "(11764.706, 23529.412]                 1022\n",
       "(23529.412, 35294.118]                  169\n",
       "(35294.118, 47058.824]                   19\n",
       "(47058.824, 58823.529]                   16\n",
       "(94117.647, 105882.353]                   6\n",
       "(58823.529, 70588.235]                    5\n",
       "(70588.235, 82352.941]                    4\n",
       "(188235.294, 200000.0]                    3\n",
       "(82352.941, 94117.647]                    1\n",
       "(117647.059, 129411.765]                  1\n",
       "(105882.353, 117647.059]                  0\n",
       "(129411.765, 141176.471]                  0\n",
       "(141176.471, 152941.176]                  0\n",
       "(152941.176, 164705.882]                  0\n",
       "(164705.882, 176470.588]                  0\n",
       "(176470.588, 188235.294]                  0"
      ]
     },
     "execution_count": 10,
     "metadata": {},
     "output_type": "execute_result"
    }
   ],
   "source": [
    "freq_renda_sturges = pd.DataFrame()\n",
    "freq_renda_sturges['FreqRendaAbsoluta']=pd.cut(x=df['Renda'], bins=17).value_counts()\n",
    "freq_renda_sturges"
   ]
  },
  {
   "cell_type": "code",
   "execution_count": 11,
   "metadata": {},
   "outputs": [
    {
     "data": {
      "text/plain": [
       "<AxesSubplot:xlabel='Renda', ylabel='Count'>"
      ]
     },
     "execution_count": 11,
     "metadata": {},
     "output_type": "execute_result"
    },
    {
     "data": {
      "image/png": "[encoded data removed]",
      "text/plain": [
       "<Figure size 432x288 with 1 Axes>"
      ]
     },
     "metadata": {
      "needs_background": "light"
     },
     "output_type": "display_data"
    }
   ],
   "source": [
    "sns.histplot(x=df['Renda'], bins=17)"
   ]
  },
  {
   "cell_type": "markdown",
   "metadata": {
    "colab_type": "text",
    "id": "uIb17Es3jQMP"
   },
   "source": [
    "#  Medidas de Tendência Central\n",
    "***"
   ]
  },
  {
   "cell_type": "markdown",
   "metadata": {
    "colab_type": "text",
    "id": "kcHJFW-YjQMP"
   },
   "source": [
    "## Média aritmética\n",
    "\n",
    "Calcule a média aritmética das variáveis `Anos de Estudo`, `Idade`, `Renda` e `Altura`."
   ]
  },
  {
   "cell_type": "code",
   "execution_count": 12,
   "metadata": {
    "colab": {
     "base_uri": "https://localhost:8080/",
     "height": 89
    },
    "colab_type": "code",
    "id": "CGgJbsK0HBQc",
    "outputId": "35b8a334-5f7d-4f17-ec85-2e10ec6ae5ab"
   },
   "outputs": [
    {
     "name": "stdout",
     "output_type": "stream",
     "text": [
      "9.47\n",
      "44.07\n",
      "2000.38\n",
      "1.7\n"
     ]
    }
   ],
   "source": [
    "print(round(df['Anos de Estudo'].mean(),2))\n",
    "print(round(df['Idade'].mean(),2))\n",
    "print(round(df['Renda'].mean(),2))\n",
    "print(round(df['Altura'].mean(),2))"
   ]
  },
  {
   "cell_type": "markdown",
   "metadata": {
    "colab_type": "text",
    "id": "9geu3UcKjQMS"
   },
   "source": [
    "## Mediana\n",
    "\n",
    "Calcule a mediana das variáveis `Anos de Estudo`, `Idade`, `Renda` e `Altura`."
   ]
  },
  {
   "cell_type": "code",
   "execution_count": 13,
   "metadata": {
    "colab": {
     "base_uri": "https://localhost:8080/",
     "height": 35
    },
    "colab_type": "code",
    "id": "W4a5PVYdjQMm",
    "outputId": "3e8a9233-4eb6-4684-9f96-ce79e53ffa7a"
   },
   "outputs": [
    {
     "name": "stdout",
     "output_type": "stream",
     "text": [
      "11.0\n",
      "43.0\n",
      "1200.0\n",
      "1.699\n"
     ]
    }
   ],
   "source": [
    "print(df['Anos de Estudo'].median())\n",
    "print(df['Idade'].median())\n",
    "print(df['Renda'].median())\n",
    "print(round(df['Altura'].median(),3))\n"
   ]
  },
  {
   "cell_type": "markdown",
   "metadata": {
    "colab_type": "text",
    "id": "CmCu6BXQjQMo"
   },
   "source": [
    "## Moda\n",
    "\n",
    "Calcule a moda daquelas variáveis para as quais você imagina que faz sentido obter essa informação (com base no que vimos na aula)."
   ]
  },
  {
   "cell_type": "code",
   "execution_count": 29,
   "metadata": {
    "colab": {
     "base_uri": "https://localhost:8080/",
     "height": 197
    },
    "colab_type": "code",
    "id": "Sdosy_vSX7Iw",
    "outputId": "949a3b5a-b978-40ab-eed0-872fb425d0f4"
   },
   "outputs": [
    {
     "name": "stdout",
     "output_type": "stream",
     "text": [
      "12\n",
      "40\n",
      "35\n",
      "8\n"
     ]
    }
   ],
   "source": [
    "print(df['Anos de Estudo'].mode()[0])\n",
    "print(df['Idade'].mode()[0])\n",
    "print(df['UF'].mode()[0])\n",
    "print(df['Cor'].mode()[0])\n"
   ]
  },
  {
   "cell_type": "markdown",
   "metadata": {
    "colab_type": "text",
    "id": "_-0gjQWFjQMu"
   },
   "source": [
    "## Relação entre média, mediana e moda\n",
    "***"
   ]
  },
  {
   "cell_type": "markdown",
   "metadata": {
    "colab_type": "text",
    "id": "0S7pa_jLjQMu"
   },
   "source": [
    "Como fizemos durante a aula, avalie a relação entre a média, mediana e moda de algumas variáveis do seu conjunto de dados.\n",
    "\n",
    "<img src='https://caelum-online-public.s3.amazonaws.com/1177-estatistica-parte1/01/img004.png' width='80%'>"
   ]
  },
  {
   "cell_type": "markdown",
   "metadata": {
    "colab_type": "text",
    "id": "b7ZchyFsjQMu"
   },
   "source": [
    "### Avalie a variável `Renda`"
   ]
  },
  {
   "cell_type": "code",
   "execution_count": 30,
   "metadata": {},
   "outputs": [
    {
     "data": {
      "text/plain": [
       "[<matplotlib.lines.Line2D at 0x22a6f442f70>]"
      ]
     },
     "execution_count": 30,
     "metadata": {},
     "output_type": "execute_result"
    },
    {
     "data": {
      "image/png": "[encoded data removed]",
      "text/plain": [
       "<Figure size 1296x360 with 1 Axes>"
      ]
     },
     "metadata": {
      "needs_background": "light"
     },
     "output_type": "display_data"
    }
   ],
   "source": [
    "# Assimetria a direita\n",
    "# moda < mediana < media\n",
    "\n",
    "media = df['Renda'].mean()\n",
    "mediana = df['Renda'].median()\n",
    "moda = df['Renda'].mode()[0]\n",
    "\n",
    "plt.figure(figsize=(18,5))\n",
    "plt.plot([media], [0], color='red', marker='o', markersize=30)\n",
    "plt.plot([mediana], [0], color='blue', marker='o', markersize=20)\n",
    "plt.plot([moda], [0], color='green', marker='o', markersize=25)"
   ]
  },
  {
   "cell_type": "markdown",
   "metadata": {
    "colab_type": "text",
    "id": "WazchssNjQM1"
   },
   "source": [
    "### Avalie a variável `Altura`"
   ]
  },
  {
   "cell_type": "code",
   "execution_count": 16,
   "metadata": {},
   "outputs": [
    {
     "data": {
      "text/plain": [
       "[<matplotlib.lines.Line2D at 0x22a6e8b9520>,\n",
       " <matplotlib.lines.Line2D at 0x22a6e8b9550>,\n",
       " <matplotlib.lines.Line2D at 0x22a6e8b95b0>,\n",
       " <matplotlib.lines.Line2D at 0x22a6e8b9670>,\n",
       " <matplotlib.lines.Line2D at 0x22a6e8b9730>,\n",
       " <matplotlib.lines.Line2D at 0x22a6e8b97f0>,\n",
       " <matplotlib.lines.Line2D at 0x22a6e8b98b0>,\n",
       " <matplotlib.lines.Line2D at 0x22a6e8b9970>,\n",
       " <matplotlib.lines.Line2D at 0x22a6e8b9a30>]"
      ]
     },
     "execution_count": 16,
     "metadata": {},
     "output_type": "execute_result"
    },
    {
     "data": {
      "image/png": "[encoded data removed]",
      "text/plain": [
       "<Figure size 1296x360 with 1 Axes>"
      ]
     },
     "metadata": {
      "needs_background": "light"
     },
     "output_type": "display_data"
    }
   ],
   "source": [
    "# PoliModal\n",
    "# Mediana = media\n",
    "# Simetrica\n",
    "\n",
    "media = df['Altura'].mean()\n",
    "mediana = df['Altura'].median()\n",
    "moda = df['Altura'].mode()[0]\n",
    "\n",
    "plt.figure(figsize=(18,5))\n",
    "plt.plot([media], [0], color='red', marker='o', markersize=30)\n",
    "plt.plot([mediana], [0], color='blue', marker='o', markersize=20)\n",
    "plt.plot([moda], [0], color='green', marker='o', markersize=25)"
   ]
  },
  {
   "cell_type": "markdown",
   "metadata": {
    "colab_type": "text",
    "id": "eS4I2H7jjQM7"
   },
   "source": [
    "### Avalie a variável `Anos de estudo`"
   ]
  },
  {
   "cell_type": "code",
   "execution_count": 31,
   "metadata": {},
   "outputs": [
    {
     "data": {
      "text/plain": [
       "[<matplotlib.lines.Line2D at 0x22a6f4a0e20>]"
      ]
     },
     "execution_count": 31,
     "metadata": {},
     "output_type": "execute_result"
    },
    {
     "data": {
      "image/png": "[encoded data removed]",
      "text/plain": [
       "<Figure size 1296x360 with 1 Axes>"
      ]
     },
     "metadata": {
      "needs_background": "light"
     },
     "output_type": "display_data"
    }
   ],
   "source": [
    "# Assimetria a direita\n",
    "# media < mediana < moda\n",
    "\n",
    "media = df['Anos de Estudo'].mean()\n",
    "mediana = df['Anos de Estudo'].median()\n",
    "moda = df['Anos de Estudo'].mode()[0]\n",
    "\n",
    "plt.figure(figsize=(18,5))\n",
    "plt.plot([media], [0], color='red', marker='o', markersize=30)\n",
    "plt.plot([mediana], [0], color='blue', marker='o', markersize=20)\n",
    "plt.plot([moda], [0], color='green', marker='o', markersize=25)"
   ]
  },
  {
   "cell_type": "markdown",
   "metadata": {
    "colab_type": "text",
    "id": "vcaIo45UjQND"
   },
   "source": [
    "# Medidas Separatrizes\n",
    "***"
   ]
  },
  {
   "cell_type": "markdown",
   "metadata": {
    "colab_type": "text",
    "id": "f4XrApNxjQNE"
   },
   "source": [
    "## Quartis, decis e percentis\n",
    "\n",
    "Calcule os quartis, decis e percentis para a variável `Renda`."
   ]
  },
  {
   "cell_type": "code",
   "execution_count": 18,
   "metadata": {},
   "outputs": [
    {
     "data": {
      "text/plain": [
       "0.25       788.0\n",
       "0.50      1200.0\n",
       "0.75      2000.0\n",
       "1.00    200000.0\n",
       "Name: Renda, dtype: float64"
      ]
     },
     "execution_count": 18,
     "metadata": {},
     "output_type": "execute_result"
    }
   ],
   "source": [
    "df['Renda'].quantile([i/4 for i in range(1,5)])"
   ]
  },
  {
   "cell_type": "code",
   "execution_count": 19,
   "metadata": {},
   "outputs": [
    {
     "data": {
      "text/plain": [
       "0.1       350.0\n",
       "0.2       788.0\n",
       "0.3       800.0\n",
       "0.4      1000.0\n",
       "0.5      1200.0\n",
       "0.6      1500.0\n",
       "0.7      1900.0\n",
       "0.8      2500.0\n",
       "0.9      4000.0\n",
       "1.0    200000.0\n",
       "Name: Renda, dtype: float64"
      ]
     },
     "execution_count": 19,
     "metadata": {},
     "output_type": "execute_result"
    }
   ],
   "source": [
    "#Decis\n",
    "df['Renda'].quantile([i/10 for i in range(1,11)])"
   ]
  },
  {
   "cell_type": "code",
   "execution_count": 20,
   "metadata": {},
   "outputs": [
    {
     "data": {
      "text/plain": [
       "0.01         0.0\n",
       "0.02         0.0\n",
       "0.03         0.0\n",
       "0.04        50.0\n",
       "0.05       100.0\n",
       "          ...   \n",
       "0.96      7000.0\n",
       "0.97      8000.0\n",
       "0.98     10000.0\n",
       "0.99     15000.0\n",
       "1.00    200000.0\n",
       "Name: Renda, Length: 100, dtype: float64"
      ]
     },
     "execution_count": 20,
     "metadata": {},
     "output_type": "execute_result"
    }
   ],
   "source": [
    "#Percentis\n",
    "df['Renda'].quantile([i/100 for i in range(1,101)])"
   ]
  },
  {
   "cell_type": "markdown",
   "metadata": {
    "colab_type": "text",
    "id": "6gIeZO_CjQNJ"
   },
   "source": [
    "## Boxplot\n",
    "\n",
    "Crie o boxplot para as variáveis `Renda`, `Altura`."
   ]
  },
  {
   "cell_type": "code",
   "execution_count": 21,
   "metadata": {},
   "outputs": [
    {
     "data": {
      "text/plain": [
       "<AxesSubplot:xlabel='Renda'>"
      ]
     },
     "execution_count": 21,
     "metadata": {},
     "output_type": "execute_result"
    },
    {
     "data": {
      "image/png": "[encoded data removed]",
      "text/plain": [
       "<Figure size 432x288 with 1 Axes>"
      ]
     },
     "metadata": {
      "needs_background": "light"
     },
     "output_type": "display_data"
    }
   ],
   "source": [
    "sns.boxplot(x=df['Renda'])"
   ]
  },
  {
   "cell_type": "code",
   "execution_count": 22,
   "metadata": {},
   "outputs": [
    {
     "data": {
      "text/plain": [
       "<AxesSubplot:xlabel='Altura'>"
      ]
     },
     "execution_count": 22,
     "metadata": {},
     "output_type": "execute_result"
    },
    {
     "data": {
      "image/png": "[encoded data removed]",
      "text/plain": [
       "<Figure size 432x288 with 1 Axes>"
      ]
     },
     "metadata": {
      "needs_background": "light"
     },
     "output_type": "display_data"
    }
   ],
   "source": [
    "sns.boxplot(x=df['Altura'])"
   ]
  },
  {
   "cell_type": "markdown",
   "metadata": {
    "colab_type": "text",
    "id": "aJ6v_NI9jQNN"
   },
   "source": [
    "# Medidas de Dispersão\n",
    "***\n",
    "\n",
    "Obtenha a variância e o desvio padrão das variáveis quantitativas do conjunto de dados. Em seguida, utilize o `seaborn` para plotar um gráfico de barras que exiba a média dessas variáveis quantitativas, em função da Unidade Federativa. Com o `seaborn` você também irá conseguir visualizar o desvio padrão da média para cada barra."
   ]
  },
  {
   "cell_type": "code",
   "execution_count": 23,
   "metadata": {
    "colab": {},
    "colab_type": "code",
    "id": "aiUvZluhUx-0",
    "scrolled": false
   },
   "outputs": [
    {
     "name": "stdout",
     "output_type": "stream",
     "text": [
      "\n",
      "Anos de Estudo \n",
      "Desvio Padrão e Variância\n",
      "4.539929130599162\n",
      "20.61095651086286\n",
      "\n",
      "Renda \n",
      "Desvio Padrão e Variância\n",
      "3323.3877303470294\n",
      "11044906.00622118\n",
      "\n",
      "Altura \n",
      "Desvio Padrão e Variância\n",
      "0.07971743006825309\n",
      "0.006354868656686821\n"
     ]
    }
   ],
   "source": [
    "#UF 11 a 53\n",
    "# Anos de Estudo | Renda | Altura\n",
    "print('\\nAnos de Estudo \\nDesvio Padrão e Variância')\n",
    "print(df['Anos de Estudo'].std())\n",
    "print(df['Anos de Estudo'].var())\n",
    "\n",
    "print('\\nRenda \\nDesvio Padrão e Variância')\n",
    "print(df['Renda'].std())\n",
    "print(df['Renda'].var())\n",
    "\n",
    "print('\\nAltura \\nDesvio Padrão e Variância')\n",
    "print(df['Altura'].std())\n",
    "print(df['Altura'].var())"
   ]
  },
  {
   "cell_type": "code",
   "execution_count": 24,
   "metadata": {},
   "outputs": [
    {
     "data": {
      "text/html": [
       "<div>\n",
       "<style scoped>\n",
       "    .dataframe tbody tr th:only-of-type {\n",
       "        vertical-align: middle;\n",
       "    }\n",
       "\n",
       "    .dataframe tbody tr th {\n",
       "        vertical-align: top;\n",
       "    }\n",
       "\n",
       "    .dataframe thead th {\n",
       "        text-align: right;\n",
       "    }\n",
       "</style>\n",
       "<table border=\"1\" class=\"dataframe\">\n",
       "  <thead>\n",
       "    <tr style=\"text-align: right;\">\n",
       "      <th></th>\n",
       "      <th>UF</th>\n",
       "      <th>Idade</th>\n",
       "      <th>Renda</th>\n",
       "      <th>Altura</th>\n",
       "    </tr>\n",
       "  </thead>\n",
       "  <tbody>\n",
       "    <tr>\n",
       "      <th>0</th>\n",
       "      <td>11</td>\n",
       "      <td>23</td>\n",
       "      <td>800</td>\n",
       "      <td>1.603808</td>\n",
       "    </tr>\n",
       "    <tr>\n",
       "      <th>1</th>\n",
       "      <td>11</td>\n",
       "      <td>23</td>\n",
       "      <td>1150</td>\n",
       "      <td>1.739790</td>\n",
       "    </tr>\n",
       "    <tr>\n",
       "      <th>2</th>\n",
       "      <td>11</td>\n",
       "      <td>35</td>\n",
       "      <td>880</td>\n",
       "      <td>1.760444</td>\n",
       "    </tr>\n",
       "    <tr>\n",
       "      <th>3</th>\n",
       "      <td>11</td>\n",
       "      <td>46</td>\n",
       "      <td>3500</td>\n",
       "      <td>1.783158</td>\n",
       "    </tr>\n",
       "    <tr>\n",
       "      <th>4</th>\n",
       "      <td>11</td>\n",
       "      <td>47</td>\n",
       "      <td>150</td>\n",
       "      <td>1.690631</td>\n",
       "    </tr>\n",
       "    <tr>\n",
       "      <th>...</th>\n",
       "      <td>...</td>\n",
       "      <td>...</td>\n",
       "      <td>...</td>\n",
       "      <td>...</td>\n",
       "    </tr>\n",
       "    <tr>\n",
       "      <th>76835</th>\n",
       "      <td>53</td>\n",
       "      <td>46</td>\n",
       "      <td>812</td>\n",
       "      <td>1.687030</td>\n",
       "    </tr>\n",
       "    <tr>\n",
       "      <th>76836</th>\n",
       "      <td>53</td>\n",
       "      <td>30</td>\n",
       "      <td>1500</td>\n",
       "      <td>1.792934</td>\n",
       "    </tr>\n",
       "    <tr>\n",
       "      <th>76837</th>\n",
       "      <td>53</td>\n",
       "      <td>32</td>\n",
       "      <td>1300</td>\n",
       "      <td>1.830587</td>\n",
       "    </tr>\n",
       "    <tr>\n",
       "      <th>76838</th>\n",
       "      <td>53</td>\n",
       "      <td>57</td>\n",
       "      <td>1500</td>\n",
       "      <td>1.726344</td>\n",
       "    </tr>\n",
       "    <tr>\n",
       "      <th>76839</th>\n",
       "      <td>53</td>\n",
       "      <td>38</td>\n",
       "      <td>900</td>\n",
       "      <td>1.658305</td>\n",
       "    </tr>\n",
       "  </tbody>\n",
       "</table>\n",
       "<p>76840 rows × 4 columns</p>\n",
       "</div>"
      ],
      "text/plain": [
       "       UF  Idade  Renda    Altura\n",
       "0      11     23    800  1.603808\n",
       "1      11     23   1150  1.739790\n",
       "2      11     35    880  1.760444\n",
       "3      11     46   3500  1.783158\n",
       "4      11     47    150  1.690631\n",
       "...    ..    ...    ...       ...\n",
       "76835  53     46    812  1.687030\n",
       "76836  53     30   1500  1.792934\n",
       "76837  53     32   1300  1.830587\n",
       "76838  53     57   1500  1.726344\n",
       "76839  53     38    900  1.658305\n",
       "\n",
       "[76840 rows x 4 columns]"
      ]
     },
     "execution_count": 24,
     "metadata": {},
     "output_type": "execute_result"
    }
   ],
   "source": [
    "dfi =  pd.DataFrame()\n",
    "dfi['UF'] = df['UF']\n",
    "dfi['Idade'] = df['Idade']\n",
    "dfi['Renda'] = df['Renda']\n",
    "dfi['Altura'] = df['Altura']\n",
    "dfi\n",
    "#UF | Media Idade | Variancia | Desvio"
   ]
  },
  {
   "cell_type": "code",
   "execution_count": 25,
   "metadata": {},
   "outputs": [
    {
     "data": {
      "text/html": [
       "<div>\n",
       "<style scoped>\n",
       "    .dataframe tbody tr th:only-of-type {\n",
       "        vertical-align: middle;\n",
       "    }\n",
       "\n",
       "    .dataframe tbody tr th {\n",
       "        vertical-align: top;\n",
       "    }\n",
       "\n",
       "    .dataframe thead tr th {\n",
       "        text-align: left;\n",
       "    }\n",
       "\n",
       "    .dataframe thead tr:last-of-type th {\n",
       "        text-align: right;\n",
       "    }\n",
       "</style>\n",
       "<table border=\"1\" class=\"dataframe\">\n",
       "  <thead>\n",
       "    <tr>\n",
       "      <th></th>\n",
       "      <th colspan=\"3\" halign=\"left\">Idade</th>\n",
       "      <th colspan=\"3\" halign=\"left\">Renda</th>\n",
       "      <th colspan=\"3\" halign=\"left\">Altura</th>\n",
       "    </tr>\n",
       "    <tr>\n",
       "      <th></th>\n",
       "      <th>mean</th>\n",
       "      <th>std</th>\n",
       "      <th>var</th>\n",
       "      <th>mean</th>\n",
       "      <th>std</th>\n",
       "      <th>var</th>\n",
       "      <th>mean</th>\n",
       "      <th>std</th>\n",
       "      <th>var</th>\n",
       "    </tr>\n",
       "    <tr>\n",
       "      <th>UF</th>\n",
       "      <th></th>\n",
       "      <th></th>\n",
       "      <th></th>\n",
       "      <th></th>\n",
       "      <th></th>\n",
       "      <th></th>\n",
       "      <th></th>\n",
       "      <th></th>\n",
       "      <th></th>\n",
       "    </tr>\n",
       "  </thead>\n",
       "  <tbody>\n",
       "    <tr>\n",
       "      <th>11</th>\n",
       "      <td>42.476252</td>\n",
       "      <td>12.270216</td>\n",
       "      <td>150.558192</td>\n",
       "      <td>1789.761223</td>\n",
       "      <td>2406.161161</td>\n",
       "      <td>5.789612e+06</td>\n",
       "      <td>1.703967</td>\n",
       "      <td>0.078498</td>\n",
       "      <td>0.006162</td>\n",
       "    </tr>\n",
       "    <tr>\n",
       "      <th>12</th>\n",
       "      <td>41.891142</td>\n",
       "      <td>12.457144</td>\n",
       "      <td>155.180445</td>\n",
       "      <td>1506.091782</td>\n",
       "      <td>2276.233415</td>\n",
       "      <td>5.181239e+06</td>\n",
       "      <td>1.699113</td>\n",
       "      <td>0.080159</td>\n",
       "      <td>0.006425</td>\n",
       "    </tr>\n",
       "    <tr>\n",
       "      <th>13</th>\n",
       "      <td>42.788305</td>\n",
       "      <td>12.497113</td>\n",
       "      <td>156.177840</td>\n",
       "      <td>1445.130100</td>\n",
       "      <td>1757.935591</td>\n",
       "      <td>3.090338e+06</td>\n",
       "      <td>1.699454</td>\n",
       "      <td>0.081063</td>\n",
       "      <td>0.006571</td>\n",
       "    </tr>\n",
       "    <tr>\n",
       "      <th>14</th>\n",
       "      <td>41.966667</td>\n",
       "      <td>12.438151</td>\n",
       "      <td>154.707607</td>\n",
       "      <td>1783.588889</td>\n",
       "      <td>2079.659238</td>\n",
       "      <td>4.324983e+06</td>\n",
       "      <td>1.698680</td>\n",
       "      <td>0.077864</td>\n",
       "      <td>0.006063</td>\n",
       "    </tr>\n",
       "    <tr>\n",
       "      <th>15</th>\n",
       "      <td>43.250393</td>\n",
       "      <td>12.252616</td>\n",
       "      <td>150.126588</td>\n",
       "      <td>1399.076871</td>\n",
       "      <td>2053.779555</td>\n",
       "      <td>4.218010e+06</td>\n",
       "      <td>1.698197</td>\n",
       "      <td>0.079930</td>\n",
       "      <td>0.006389</td>\n",
       "    </tr>\n",
       "    <tr>\n",
       "      <th>16</th>\n",
       "      <td>42.097656</td>\n",
       "      <td>11.421914</td>\n",
       "      <td>130.460112</td>\n",
       "      <td>1861.353516</td>\n",
       "      <td>2020.688632</td>\n",
       "      <td>4.083183e+06</td>\n",
       "      <td>1.697891</td>\n",
       "      <td>0.081018</td>\n",
       "      <td>0.006564</td>\n",
       "    </tr>\n",
       "    <tr>\n",
       "      <th>17</th>\n",
       "      <td>43.418070</td>\n",
       "      <td>12.770408</td>\n",
       "      <td>163.083321</td>\n",
       "      <td>1771.094946</td>\n",
       "      <td>2934.590741</td>\n",
       "      <td>8.611823e+06</td>\n",
       "      <td>1.699969</td>\n",
       "      <td>0.078315</td>\n",
       "      <td>0.006133</td>\n",
       "    </tr>\n",
       "    <tr>\n",
       "      <th>21</th>\n",
       "      <td>43.741466</td>\n",
       "      <td>13.750060</td>\n",
       "      <td>189.064142</td>\n",
       "      <td>1019.432009</td>\n",
       "      <td>1887.816905</td>\n",
       "      <td>3.563853e+06</td>\n",
       "      <td>1.699708</td>\n",
       "      <td>0.082449</td>\n",
       "      <td>0.006798</td>\n",
       "    </tr>\n",
       "    <tr>\n",
       "      <th>22</th>\n",
       "      <td>45.342692</td>\n",
       "      <td>13.368422</td>\n",
       "      <td>178.714697</td>\n",
       "      <td>1074.550784</td>\n",
       "      <td>2373.355726</td>\n",
       "      <td>5.632817e+06</td>\n",
       "      <td>1.700189</td>\n",
       "      <td>0.079371</td>\n",
       "      <td>0.006300</td>\n",
       "    </tr>\n",
       "    <tr>\n",
       "      <th>23</th>\n",
       "      <td>43.224769</td>\n",
       "      <td>12.894395</td>\n",
       "      <td>166.265426</td>\n",
       "      <td>1255.403692</td>\n",
       "      <td>1821.963536</td>\n",
       "      <td>3.319551e+06</td>\n",
       "      <td>1.700317</td>\n",
       "      <td>0.079500</td>\n",
       "      <td>0.006320</td>\n",
       "    </tr>\n",
       "    <tr>\n",
       "      <th>24</th>\n",
       "      <td>42.864337</td>\n",
       "      <td>12.697821</td>\n",
       "      <td>161.234663</td>\n",
       "      <td>1344.721480</td>\n",
       "      <td>1651.805500</td>\n",
       "      <td>2.728461e+06</td>\n",
       "      <td>1.699135</td>\n",
       "      <td>0.082258</td>\n",
       "      <td>0.006766</td>\n",
       "    </tr>\n",
       "    <tr>\n",
       "      <th>25</th>\n",
       "      <td>44.067504</td>\n",
       "      <td>13.024667</td>\n",
       "      <td>169.641944</td>\n",
       "      <td>1293.370487</td>\n",
       "      <td>1950.272431</td>\n",
       "      <td>3.803563e+06</td>\n",
       "      <td>1.699266</td>\n",
       "      <td>0.077631</td>\n",
       "      <td>0.006027</td>\n",
       "    </tr>\n",
       "    <tr>\n",
       "      <th>26</th>\n",
       "      <td>44.150524</td>\n",
       "      <td>12.188560</td>\n",
       "      <td>148.560997</td>\n",
       "      <td>1527.079319</td>\n",
       "      <td>2389.622497</td>\n",
       "      <td>5.710296e+06</td>\n",
       "      <td>1.698141</td>\n",
       "      <td>0.081912</td>\n",
       "      <td>0.006710</td>\n",
       "    </tr>\n",
       "    <tr>\n",
       "      <th>27</th>\n",
       "      <td>43.077519</td>\n",
       "      <td>11.934251</td>\n",
       "      <td>142.426357</td>\n",
       "      <td>1144.552602</td>\n",
       "      <td>1237.856197</td>\n",
       "      <td>1.532288e+06</td>\n",
       "      <td>1.693907</td>\n",
       "      <td>0.080860</td>\n",
       "      <td>0.006538</td>\n",
       "    </tr>\n",
       "    <tr>\n",
       "      <th>28</th>\n",
       "      <td>43.855478</td>\n",
       "      <td>12.841634</td>\n",
       "      <td>164.907557</td>\n",
       "      <td>1109.111111</td>\n",
       "      <td>1478.997878</td>\n",
       "      <td>2.187435e+06</td>\n",
       "      <td>1.702222</td>\n",
       "      <td>0.076741</td>\n",
       "      <td>0.005889</td>\n",
       "    </tr>\n",
       "    <tr>\n",
       "      <th>29</th>\n",
       "      <td>44.323072</td>\n",
       "      <td>12.416300</td>\n",
       "      <td>154.164501</td>\n",
       "      <td>1429.645094</td>\n",
       "      <td>3507.917248</td>\n",
       "      <td>1.230548e+07</td>\n",
       "      <td>1.699282</td>\n",
       "      <td>0.080115</td>\n",
       "      <td>0.006418</td>\n",
       "    </tr>\n",
       "    <tr>\n",
       "      <th>31</th>\n",
       "      <td>45.243169</td>\n",
       "      <td>12.681240</td>\n",
       "      <td>160.813860</td>\n",
       "      <td>2056.432084</td>\n",
       "      <td>3584.721547</td>\n",
       "      <td>1.285023e+07</td>\n",
       "      <td>1.699988</td>\n",
       "      <td>0.079424</td>\n",
       "      <td>0.006308</td>\n",
       "    </tr>\n",
       "    <tr>\n",
       "      <th>32</th>\n",
       "      <td>44.150232</td>\n",
       "      <td>12.267517</td>\n",
       "      <td>150.491985</td>\n",
       "      <td>2026.383852</td>\n",
       "      <td>3513.846868</td>\n",
       "      <td>1.234712e+07</td>\n",
       "      <td>1.701513</td>\n",
       "      <td>0.079138</td>\n",
       "      <td>0.006263</td>\n",
       "    </tr>\n",
       "    <tr>\n",
       "      <th>33</th>\n",
       "      <td>45.100072</td>\n",
       "      <td>12.135734</td>\n",
       "      <td>147.276032</td>\n",
       "      <td>2496.403168</td>\n",
       "      <td>5214.583518</td>\n",
       "      <td>2.719188e+07</td>\n",
       "      <td>1.700365</td>\n",
       "      <td>0.079687</td>\n",
       "      <td>0.006350</td>\n",
       "    </tr>\n",
       "    <tr>\n",
       "      <th>35</th>\n",
       "      <td>44.291081</td>\n",
       "      <td>11.962969</td>\n",
       "      <td>143.112616</td>\n",
       "      <td>2638.104986</td>\n",
       "      <td>3503.777366</td>\n",
       "      <td>1.227646e+07</td>\n",
       "      <td>1.699321</td>\n",
       "      <td>0.079272</td>\n",
       "      <td>0.006284</td>\n",
       "    </tr>\n",
       "    <tr>\n",
       "      <th>41</th>\n",
       "      <td>44.084252</td>\n",
       "      <td>12.466829</td>\n",
       "      <td>155.421832</td>\n",
       "      <td>2493.870753</td>\n",
       "      <td>4302.937995</td>\n",
       "      <td>1.851528e+07</td>\n",
       "      <td>1.699434</td>\n",
       "      <td>0.081394</td>\n",
       "      <td>0.006625</td>\n",
       "    </tr>\n",
       "    <tr>\n",
       "      <th>42</th>\n",
       "      <td>43.458901</td>\n",
       "      <td>12.081206</td>\n",
       "      <td>145.955544</td>\n",
       "      <td>2470.854945</td>\n",
       "      <td>3137.651112</td>\n",
       "      <td>9.844854e+06</td>\n",
       "      <td>1.698933</td>\n",
       "      <td>0.079656</td>\n",
       "      <td>0.006345</td>\n",
       "    </tr>\n",
       "    <tr>\n",
       "      <th>43</th>\n",
       "      <td>45.547928</td>\n",
       "      <td>12.773829</td>\n",
       "      <td>163.170697</td>\n",
       "      <td>2315.158336</td>\n",
       "      <td>2913.335783</td>\n",
       "      <td>8.487525e+06</td>\n",
       "      <td>1.698710</td>\n",
       "      <td>0.078515</td>\n",
       "      <td>0.006165</td>\n",
       "    </tr>\n",
       "    <tr>\n",
       "      <th>50</th>\n",
       "      <td>43.719444</td>\n",
       "      <td>13.173421</td>\n",
       "      <td>173.539024</td>\n",
       "      <td>2262.604167</td>\n",
       "      <td>3031.419122</td>\n",
       "      <td>9.189502e+06</td>\n",
       "      <td>1.700184</td>\n",
       "      <td>0.079967</td>\n",
       "      <td>0.006395</td>\n",
       "    </tr>\n",
       "    <tr>\n",
       "      <th>51</th>\n",
       "      <td>42.224444</td>\n",
       "      <td>12.424297</td>\n",
       "      <td>154.363160</td>\n",
       "      <td>2130.652778</td>\n",
       "      <td>2542.630178</td>\n",
       "      <td>6.464968e+06</td>\n",
       "      <td>1.698339</td>\n",
       "      <td>0.081953</td>\n",
       "      <td>0.006716</td>\n",
       "    </tr>\n",
       "    <tr>\n",
       "      <th>52</th>\n",
       "      <td>43.597182</td>\n",
       "      <td>12.325009</td>\n",
       "      <td>151.905853</td>\n",
       "      <td>1994.580794</td>\n",
       "      <td>2221.933065</td>\n",
       "      <td>4.936987e+06</td>\n",
       "      <td>1.699623</td>\n",
       "      <td>0.077732</td>\n",
       "      <td>0.006042</td>\n",
       "    </tr>\n",
       "    <tr>\n",
       "      <th>53</th>\n",
       "      <td>42.734177</td>\n",
       "      <td>11.556609</td>\n",
       "      <td>133.555217</td>\n",
       "      <td>4241.954722</td>\n",
       "      <td>5550.463338</td>\n",
       "      <td>3.080764e+07</td>\n",
       "      <td>1.700896</td>\n",
       "      <td>0.078725</td>\n",
       "      <td>0.006198</td>\n",
       "    </tr>\n",
       "  </tbody>\n",
       "</table>\n",
       "</div>"
      ],
      "text/plain": [
       "        Idade                               Renda                             \\\n",
       "         mean        std         var         mean          std           var   \n",
       "UF                                                                             \n",
       "11  42.476252  12.270216  150.558192  1789.761223  2406.161161  5.789612e+06   \n",
       "12  41.891142  12.457144  155.180445  1506.091782  2276.233415  5.181239e+06   \n",
       "13  42.788305  12.497113  156.177840  1445.130100  1757.935591  3.090338e+06   \n",
       "14  41.966667  12.438151  154.707607  1783.588889  2079.659238  4.324983e+06   \n",
       "15  43.250393  12.252616  150.126588  1399.076871  2053.779555  4.218010e+06   \n",
       "16  42.097656  11.421914  130.460112  1861.353516  2020.688632  4.083183e+06   \n",
       "17  43.418070  12.770408  163.083321  1771.094946  2934.590741  8.611823e+06   \n",
       "21  43.741466  13.750060  189.064142  1019.432009  1887.816905  3.563853e+06   \n",
       "22  45.342692  13.368422  178.714697  1074.550784  2373.355726  5.632817e+06   \n",
       "23  43.224769  12.894395  166.265426  1255.403692  1821.963536  3.319551e+06   \n",
       "24  42.864337  12.697821  161.234663  1344.721480  1651.805500  2.728461e+06   \n",
       "25  44.067504  13.024667  169.641944  1293.370487  1950.272431  3.803563e+06   \n",
       "26  44.150524  12.188560  148.560997  1527.079319  2389.622497  5.710296e+06   \n",
       "27  43.077519  11.934251  142.426357  1144.552602  1237.856197  1.532288e+06   \n",
       "28  43.855478  12.841634  164.907557  1109.111111  1478.997878  2.187435e+06   \n",
       "29  44.323072  12.416300  154.164501  1429.645094  3507.917248  1.230548e+07   \n",
       "31  45.243169  12.681240  160.813860  2056.432084  3584.721547  1.285023e+07   \n",
       "32  44.150232  12.267517  150.491985  2026.383852  3513.846868  1.234712e+07   \n",
       "33  45.100072  12.135734  147.276032  2496.403168  5214.583518  2.719188e+07   \n",
       "35  44.291081  11.962969  143.112616  2638.104986  3503.777366  1.227646e+07   \n",
       "41  44.084252  12.466829  155.421832  2493.870753  4302.937995  1.851528e+07   \n",
       "42  43.458901  12.081206  145.955544  2470.854945  3137.651112  9.844854e+06   \n",
       "43  45.547928  12.773829  163.170697  2315.158336  2913.335783  8.487525e+06   \n",
       "50  43.719444  13.173421  173.539024  2262.604167  3031.419122  9.189502e+06   \n",
       "51  42.224444  12.424297  154.363160  2130.652778  2542.630178  6.464968e+06   \n",
       "52  43.597182  12.325009  151.905853  1994.580794  2221.933065  4.936987e+06   \n",
       "53  42.734177  11.556609  133.555217  4241.954722  5550.463338  3.080764e+07   \n",
       "\n",
       "      Altura                      \n",
       "        mean       std       var  \n",
       "UF                                \n",
       "11  1.703967  0.078498  0.006162  \n",
       "12  1.699113  0.080159  0.006425  \n",
       "13  1.699454  0.081063  0.006571  \n",
       "14  1.698680  0.077864  0.006063  \n",
       "15  1.698197  0.079930  0.006389  \n",
       "16  1.697891  0.081018  0.006564  \n",
       "17  1.699969  0.078315  0.006133  \n",
       "21  1.699708  0.082449  0.006798  \n",
       "22  1.700189  0.079371  0.006300  \n",
       "23  1.700317  0.079500  0.006320  \n",
       "24  1.699135  0.082258  0.006766  \n",
       "25  1.699266  0.077631  0.006027  \n",
       "26  1.698141  0.081912  0.006710  \n",
       "27  1.693907  0.080860  0.006538  \n",
       "28  1.702222  0.076741  0.005889  \n",
       "29  1.699282  0.080115  0.006418  \n",
       "31  1.699988  0.079424  0.006308  \n",
       "32  1.701513  0.079138  0.006263  \n",
       "33  1.700365  0.079687  0.006350  \n",
       "35  1.699321  0.079272  0.006284  \n",
       "41  1.699434  0.081394  0.006625  \n",
       "42  1.698933  0.079656  0.006345  \n",
       "43  1.698710  0.078515  0.006165  \n",
       "50  1.700184  0.079967  0.006395  \n",
       "51  1.698339  0.081953  0.006716  \n",
       "52  1.699623  0.077732  0.006042  \n",
       "53  1.700896  0.078725  0.006198  "
      ]
     },
     "execution_count": 25,
     "metadata": {},
     "output_type": "execute_result"
    }
   ],
   "source": [
    "dff = pd.DataFrame()\n",
    "dff = dfi.groupby('UF').agg(['mean','std','var'])\n",
    "dff"
   ]
  },
  {
   "cell_type": "code",
   "execution_count": null,
   "metadata": {},
   "outputs": [],
   "source": [
    "#Gráficos"
   ]
  },
  {
   "cell_type": "code",
   "execution_count": 26,
   "metadata": {},
   "outputs": [
    {
     "data": {
      "text/plain": [
       "<AxesSubplot:xlabel='UF', ylabel='Renda'>"
      ]
     },
     "execution_count": 26,
     "metadata": {},
     "output_type": "execute_result"
    },
    {
     "data": {
      "image/png": "[encoded data removed]",
      "text/plain": [
       "<Figure size 1440x432 with 1 Axes>"
      ]
     },
     "metadata": {
      "needs_background": "light"
     },
     "output_type": "display_data"
    }
   ],
   "source": [
    "fig = plt.figure(figsize=(20,6))\n",
    "sns.barplot(data=df, x=df['UF'], y=df['Renda'], color='Gray', errcolor='Black', errwidth=3, ci=\"sd\")\n"
   ]
  },
  {
   "cell_type": "code",
   "execution_count": 27,
   "metadata": {},
   "outputs": [
    {
     "data": {
      "text/plain": [
       "(1.66, 1.72)"
      ]
     },
     "execution_count": 27,
     "metadata": {},
     "output_type": "execute_result"
    },
    {
     "data": {
      "image/png": "[encoded data removed]",
      "text/plain": [
       "<Figure size 1440x432 with 1 Axes>"
      ]
     },
     "metadata": {
      "needs_background": "light"
     },
     "output_type": "display_data"
    }
   ],
   "source": [
    "fig = plt.figure(figsize=(20,6), )\n",
    "g = sns.barplot(data=df, x=df['UF'], y=df['Altura'], color='Gray', errcolor='Black', errwidth=3)\n",
    "g.set_ylim(1.66, 1.72)"
   ]
  },
  {
   "cell_type": "code",
   "execution_count": null,
   "metadata": {},
   "outputs": [],
   "source": []
  }
 ],
 "metadata": {
  "colab": {
   "name": "Curso_de_Estatística_Parte_1.ipynb",
   "provenance": [],
   "toc_visible": true,
   "version": "0.3.2"
  },
  "kernelspec": {
   "display_name": "Python 3",
   "language": "python",
   "name": "python3"
  },
  "language_info": {
   "codemirror_mode": {
    "name": "ipython",
    "version": 3
   },
   "file_extension": ".py",
   "mimetype": "text/x-python",
   "name": "python",
   "nbconvert_exporter": "python",
   "pygments_lexer": "ipython3",
   "version": "3.8.8"
  },
  "toc": {
   "base_numbering": 1,
   "nav_menu": {},
   "number_sections": true,
   "sideBar": true,
   "skip_h1_title": false,
   "title_cell": "Table of Contents",
   "title_sidebar": "Contents",
   "toc_cell": false,
   "toc_position": {},
   "toc_section_display": true,
   "toc_window_display": true
  }
 },
 "nbformat": 4,
 "nbformat_minor": 4
}
