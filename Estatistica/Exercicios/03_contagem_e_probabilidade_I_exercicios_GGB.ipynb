{
 "cells": [
  {
   "cell_type": "markdown",
   "id": "5f0bcbbd",
   "metadata": {},
   "source": [
    "# Exercicios"
   ]
  },
  {
   "cell_type": "markdown",
   "id": "a1db93c1",
   "metadata": {},
   "source": [
    "1. Uma moeda está viciada: a chance de se obter uma cara usando ela é de 0,6. Qual probabilidade de essa moeda apresentar, em qualquer ordem, 3 caras e 7 coroas."
   ]
  },
  {
   "cell_type": "code",
   "execution_count": 20,
   "id": "70ae26dd",
   "metadata": {},
   "outputs": [],
   "source": [
    "from itertools import permutations, combinations"
   ]
  },
  {
   "cell_type": "code",
   "execution_count": 21,
   "id": "5f381c60",
   "metadata": {},
   "outputs": [
    {
     "name": "stdout",
     "output_type": "stream",
     "text": [
      "0.04246732800000001\n"
     ]
    }
   ],
   "source": [
    "moedaCara = 0.6\n",
    "probCara = pow(moedaCara,3)\n",
    "probCoroa = pow(1-moedaCara,7)\n",
    "prob = probCara * probCoroa * 120\n",
    "print(prob)"
   ]
  },
  {
   "cell_type": "markdown",
   "id": "0d1d588e",
   "metadata": {},
   "source": [
    "2. Como reproduzir o resultado acima usando os conceitos de permutação, arranjo, etc....?\n"
   ]
  },
  {
   "cell_type": "code",
   "execution_count": 7,
   "id": "924a8d52",
   "metadata": {},
   "outputs": [
    {
     "data": {
      "text/plain": [
       "0.04246732800000001"
      ]
     },
     "execution_count": 7,
     "metadata": {},
     "output_type": "execute_result"
    }
   ],
   "source": [
    "#n!/k!(n-k)!\n",
    "k=3\n",
    "n=10\n",
    "a=(10*9*8*7*6*5*4*3*2*1)/((3*2)*(7*6*5*4*3*2*1))\n",
    "b=pow(0.6,3)*pow(0.4,7)\n",
    "a*b"
   ]
  },
  {
   "cell_type": "markdown",
   "id": "b121d382",
   "metadata": {},
   "source": [
    "3. Em um programa de auditório, havia 3 portas (A, B, C), dentro da qual uma continha um prêmio. O participante escolheu a porta A e antes de abrir a porta o apresentador abriu a porta C, na qual não havia nada. O participante aumentará a probabilidade de acertar a porta caso mude a escolha dele da porta A para a B?"
   ]
  },
  {
   "cell_type": "code",
   "execution_count": null,
   "id": "b8e11006",
   "metadata": {},
   "outputs": [],
   "source": [
    "# Sim ele vai aumentar as chances dele\n",
    "# Problema de Monty Python"
   ]
  }
 ],
 "metadata": {
  "kernelspec": {
   "display_name": "Python 3",
   "language": "python",
   "name": "python3"
  },
  "language_info": {
   "codemirror_mode": {
    "name": "ipython",
    "version": 3
   },
   "file_extension": ".py",
   "mimetype": "text/x-python",
   "name": "python",
   "nbconvert_exporter": "python",
   "pygments_lexer": "ipython3",
   "version": "3.8.8"
  },
  "toc": {
   "base_numbering": 1,
   "nav_menu": {},
   "number_sections": true,
   "sideBar": true,
   "skip_h1_title": false,
   "title_cell": "Table of Contents",
   "title_sidebar": "Contents",
   "toc_cell": false,
   "toc_position": {},
   "toc_section_display": true,
   "toc_window_display": false
  }
 },
 "nbformat": 4,
 "nbformat_minor": 5
}
